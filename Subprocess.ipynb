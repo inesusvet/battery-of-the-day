{
 "cells": [
  {
   "cell_type": "markdown",
   "metadata": {},
   "source": [
    "# Батарейка дня subprocess\n",
    "Запуск процессов ОС и коммуникация с ними\n",
    "\n",
    "Примеры работают на python-3.5\n",
    "\n",
    "см [докуменацию](https://docs.python.org/3.5/library/subprocess.html?highlight=subprocess#module-subprocess)\n",
    "\n",
    "`pydoc3 subprocess`\n",
    "\n",
    "    Security\n",
    "    --------\n",
    "    Unlike some other popen functions, this implementation will never call\n",
    "    /bin/sh implicitly.  This means that all characters, including shell\n",
    "    metacharacters, can safely be passed to child processes.\n",
    "\n",
    "### Как еще можно запускать программы?\n",
    "```\n",
    "import os\n",
    "assert os.system('whoami') == 0\n",
    "\n",
    "pid = os.spawnlp(os.P_NOWAIT, \"/bin/mycmd\", \"mycmd\", \"myarg\")\n",
    "```"
   ]
  },
  {
   "cell_type": "code",
   "execution_count": null,
   "metadata": {},
   "outputs": [],
   "source": [
    "import subprocess\n",
    "print(subprocess.Popen.__doc__)\n",
    "subprocess.Popen('true')"
   ]
  },
  {
   "cell_type": "code",
   "execution_count": null,
   "metadata": {},
   "outputs": [],
   "source": [
    "sub = _\n",
    "assert sub.returncode is None\n",
    "pid = sub.pid\n",
    "pid"
   ]
  },
  {
   "cell_type": "code",
   "execution_count": null,
   "metadata": {},
   "outputs": [],
   "source": [
    "print('ps x -p %d' % pid)"
   ]
  },
  {
   "cell_type": "code",
   "execution_count": null,
   "metadata": {},
   "outputs": [],
   "source": [
    "code = sub.poll()  # try now\n",
    "assert sub.returncode == code\n",
    "code"
   ]
  },
  {
   "cell_type": "code",
   "execution_count": null,
   "metadata": {},
   "outputs": [],
   "source": [
    "sub = subprocess.Popen('sleep 1')"
   ]
  },
  {
   "cell_type": "code",
   "execution_count": null,
   "metadata": {},
   "outputs": [],
   "source": [
    "sub = subprocess.Popen('sleep 1', shell=True)\n",
    "sub.pid"
   ]
  },
  {
   "cell_type": "code",
   "execution_count": null,
   "metadata": {},
   "outputs": [],
   "source": [
    "import time\n",
    "\n",
    "start = time.time()\n",
    "sub = subprocess.Popen(['sleep', '4'])\n",
    "\n",
    "print('Checking for a child %d' % sub.pid)\n",
    "assert sub.poll() is None\n",
    "\n",
    "for i in range(4):\n",
    "    print('Waiting a bit')\n",
    "    time.sleep(0.5)\n",
    "    assert sub.poll() is None\n",
    "\n",
    "print('Waiting for a child %d' % sub.pid)\n",
    "sub.wait()\n",
    "\n",
    "print('Took %1.3f' % (time.time() - start))"
   ]
  },
  {
   "cell_type": "markdown",
   "metadata": {},
   "source": [
    "# Мне нужен результат этой работы"
   ]
  },
  {
   "cell_type": "code",
   "execution_count": null,
   "metadata": {
    "collapsed": true
   },
   "outputs": [],
   "source": [
    "sub = subprocess.Popen('date')\n",
    "assert sub.stdout is None"
   ]
  },
  {
   "cell_type": "code",
   "execution_count": null,
   "metadata": {},
   "outputs": [],
   "source": [
    "print(sub.communicate.__doc__)\n",
    "sub.communicate()"
   ]
  },
  {
   "cell_type": "code",
   "execution_count": null,
   "metadata": {},
   "outputs": [],
   "source": [
    "sub = subprocess.Popen('date', stdout=subprocess.PIPE, stderr=subprocess.STDOUT)\n",
    "out, err = sub.communicate()\n",
    "assert err is None\n",
    "out"
   ]
  },
  {
   "cell_type": "code",
   "execution_count": null,
   "metadata": {},
   "outputs": [],
   "source": [
    "out.decode('utf')"
   ]
  },
  {
   "cell_type": "code",
   "execution_count": null,
   "metadata": {},
   "outputs": [],
   "source": [
    "sub = subprocess.Popen('which', stdout=subprocess.PIPE, stderr=subprocess.PIPE)\n",
    "out, err = sub.communicate()\n",
    "assert out == b''\n",
    "err"
   ]
  },
  {
   "cell_type": "code",
   "execution_count": null,
   "metadata": {},
   "outputs": [],
   "source": [
    "sub = subprocess.Popen('which', stdout=subprocess.PIPE, stderr=subprocess.STDOUT)\n",
    "out, err = sub.communicate()\n",
    "assert err is None\n",
    "out"
   ]
  },
  {
   "cell_type": "code",
   "execution_count": null,
   "metadata": {},
   "outputs": [],
   "source": [
    "cmd = 'ps ax -U nesusvet'.split()\n",
    "sub = subprocess.Popen(cmd, stdout=subprocess.PIPE)\n",
    "out, err = sub.communicate()\n",
    "out.split(b'\\n')"
   ]
  },
  {
   "cell_type": "code",
   "execution_count": null,
   "metadata": {},
   "outputs": [],
   "source": [
    "print(subprocess.check_output.__doc__)"
   ]
  },
  {
   "cell_type": "code",
   "execution_count": null,
   "metadata": {
    "collapsed": true
   },
   "outputs": [],
   "source": [
    "cmd = 'ps aux'.split()\n",
    "out = subprocess.check_output(cmd)  # По-проще\n",
    "out.split(b'\\n')"
   ]
  },
  {
   "cell_type": "markdown",
   "metadata": {},
   "source": [
    "# Аналог ps aux | grep python"
   ]
  },
  {
   "cell_type": "code",
   "execution_count": null,
   "metadata": {},
   "outputs": [],
   "source": [
    "ps_aux = subprocess.Popen(\n",
    "    'ps aux'.split(),\n",
    "    stdout=subprocess.PIPE,\n",
    ")\n",
    "grep = subprocess.Popen(\n",
    "    'grep python'.split(),\n",
    "    stdin=ps_aux.stdout,\n",
    "    stdout=subprocess.PIPE,\n",
    ")\n",
    "out, err = grep.communicate()\n",
    "out.split(b'\\n')"
   ]
  },
  {
   "cell_type": "code",
   "execution_count": null,
   "metadata": {},
   "outputs": [],
   "source": [
    "import os\n",
    "def show_tree():\n",
    "    pid = os.getpid()\n",
    "    cmd = 'pstree', '-p', str(pid)\n",
    "    text = subprocess.check_output(cmd)\n",
    "    print(text.decode('utf'))\n",
    "\n",
    "show_tree()"
   ]
  },
  {
   "cell_type": "code",
   "execution_count": null,
   "metadata": {
    "collapsed": true
   },
   "outputs": [],
   "source": [
    "print(os.kill.__doc__)\n",
    "print(os.waitpid.__doc__)"
   ]
  },
  {
   "cell_type": "code",
   "execution_count": null,
   "metadata": {
    "collapsed": true
   },
   "outputs": [],
   "source": [
    "os.wait()"
   ]
  },
  {
   "cell_type": "code",
   "execution_count": null,
   "metadata": {
    "collapsed": true
   },
   "outputs": [],
   "source": [
    "show_tree()"
   ]
  },
  {
   "cell_type": "code",
   "execution_count": null,
   "metadata": {},
   "outputs": [],
   "source": [
    "print(subprocess.call.__doc__)\n",
    "try:\n",
    "    print('Run with timeout')\n",
    "    subprocess.call(['sleep', '5'], timeout=3)\n",
    "except subprocess.TimeoutExpired as ex:\n",
    "    print('An exception occured %s' % ex)"
   ]
  },
  {
   "cell_type": "code",
   "execution_count": null,
   "metadata": {},
   "outputs": [],
   "source": [
    "print(subprocess.check_call.__doc__)\n",
    "subprocess.check_call(['which', 'python'])"
   ]
  },
  {
   "cell_type": "code",
   "execution_count": null,
   "metadata": {},
   "outputs": [],
   "source": [
    "subprocess.check_call(['which', 'flynn'])"
   ]
  },
  {
   "cell_type": "markdown",
   "metadata": {},
   "source": [
    "# Python вызывает другой python-процесс :)"
   ]
  },
  {
   "cell_type": "code",
   "execution_count": null,
   "metadata": {
    "collapsed": true
   },
   "outputs": [],
   "source": [
    "text = '''\n",
    "import time\n",
    "\n",
    "def main():\n",
    "    time.sleep(5)\n",
    "\n",
    "if __name__ == '__main__':\n",
    "    print('Waiting now...')\n",
    "    main()\n",
    "'''\n",
    "with open('tmp.py', 'w') as file_output:\n",
    "    file_output.write(text)"
   ]
  },
  {
   "cell_type": "code",
   "execution_count": null,
   "metadata": {},
   "outputs": [],
   "source": [
    "factory = (subprocess.Popen('python tmp.py'.split()) for _ in range(10))\n",
    "for child in factory:\n",
    "    print('New born child pid = %d' % child.pid)\n",
    "\n",
    "print('Process tree')\n",
    "show_tree()\n",
    "\n",
    "print('Waiting 10 sec')\n",
    "time.sleep(10)\n",
    "\n",
    "show_tree()\n",
    "print('Where are my children?')"
   ]
  },
  {
   "cell_type": "code",
   "execution_count": null,
   "metadata": {},
   "outputs": [],
   "source": [
    "os.wait()"
   ]
  },
  {
   "cell_type": "code",
   "execution_count": null,
   "metadata": {},
   "outputs": [],
   "source": [
    "show_tree()"
   ]
  },
  {
   "cell_type": "markdown",
   "metadata": {},
   "source": [
    "# Применение\n",
    "Я, как разработчик проекта, хочу помнить и делать как можно меньше ручных действий. Например, при изменении требований к параметрам запросов к API и изменении формата ответа, нужно регулярно обновлять документацию, что сводится к вызову `make`-задачи. Почему бы не использовать механизм хуков, существующий в `git`?"
   ]
  },
  {
   "cell_type": "code",
   "execution_count": null,
   "metadata": {
    "collapsed": true
   },
   "outputs": [],
   "source": [
    "#!/usr/bin/env python\n",
    "\n",
    "import re\n",
    "import subprocess\n",
    "\n",
    "RE_RAW_DOC = re.compile(r'\\.(json|raml)$')\n",
    "RE_COMPILED_DOC = re.compile(r'\\.(md)$')\n",
    "\n",
    "GIT_LS_FILES = 'git diff --name-only --cached'.split()\n",
    "GIT_ADD = 'git add -u'.split()\n",
    "\n",
    "REBUILD_DOCS = 'make generate_docs'.split()\n",
    "\n",
    "\n",
    "def iter_modified():\n",
    "    output = subprocess.check_output(GIT_LS_FILES).decode('utf')\n",
    "    for line in output.split('\\n'):\n",
    "        yield line\n",
    "\n",
    "\n",
    "def docs_need_rebuild():\n",
    "    for filename in iter_modified():\n",
    "        if RE_RAW_DOC.search(filename):\n",
    "            yield filename\n",
    "\n",
    "\n",
    "def docs_was_rebuilt():\n",
    "    for filename in iter_modified():\n",
    "        if RE_COMPILED_DOC.search(filename):\n",
    "            yield filename\n",
    "\n",
    "\n",
    "def main():\n",
    "    modified = list(docs_need_rebuild())\n",
    "    rebuilt_docs = list(docs_was_rebuilt())\n",
    "    if modified and not rebuilt_docs:\n",
    "        subprocess.check_call(REBUILD_DOCS)\n",
    "\n",
    "        rebuilt_docs = list(docs_was_rebuilt())\n",
    "        subprocess.check_call(GIT_ADD + rebuilt_docs)\n",
    "\n",
    "\n",
    "if __name__ == '__main__':\n",
    "    main()"
   ]
  },
  {
   "cell_type": "markdown",
   "metadata": {},
   "source": [
    "# Напоследок\n",
    "### python-3.5\n",
    "`subprocess.run() => subprocess.CompletedProcess`"
   ]
  },
  {
   "cell_type": "markdown",
   "metadata": {},
   "source": [
    "# Дальше и глубже\n",
    "- pipes\n",
    "- multiprocessing"
   ]
  }
 ],
 "metadata": {
  "kernelspec": {
   "display_name": "Python 3",
   "language": "python",
   "name": "python3"
  },
  "language_info": {
   "codemirror_mode": {
    "name": "ipython",
    "version": 3
   },
   "file_extension": ".py",
   "mimetype": "text/x-python",
   "name": "python",
   "nbconvert_exporter": "python",
   "pygments_lexer": "ipython3",
   "version": "3.5.2"
  }
 },
 "nbformat": 4,
 "nbformat_minor": 2
}
