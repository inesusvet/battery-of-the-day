{
 "cells": [
  {
   "cell_type": "markdown",
   "metadata": {},
   "source": [
    "# Батарейка дня subprocess\n",
    "Запуск процессов ОС и коммуникация с ними\n",
    "\n",
    "Примеры работают на python-3.5\n",
    "\n",
    "см [докуменацию](https://docs.python.org/3.5/library/subprocess.html?highlight=subprocess#module-subprocess)\n",
    "\n",
    "`pydoc3 subprocess`\n",
    "\n",
    "    Security\n",
    "    --------\n",
    "    Unlike some other popen functions, this implementation will never call\n",
    "    /bin/sh implicitly.  This means that all characters, including shell\n",
    "    metacharacters, can safely be passed to child processes.\n",
    "\n",
    "### Как еще можно запускать программы?\n",
    "```\n",
    "import os\n",
    "assert os.system('whoami') == 0\n",
    "\n",
    "pid = os.spawnlp(os.P_NOWAIT, \"/bin/mycmd\", \"mycmd\", \"myarg\")\n",
    "```"
   ]
  },
  {
   "cell_type": "code",
   "execution_count": 58,
   "metadata": {},
   "outputs": [
    {
     "name": "stdout",
     "output_type": "stream",
     "text": [
      "None\n"
     ]
    },
    {
     "data": {
      "text/plain": [
       "<subprocess.Popen at 0x1095348d0>"
      ]
     },
     "execution_count": 58,
     "metadata": {},
     "output_type": "execute_result"
    }
   ],
   "source": [
    "import subprocess\n",
    "print(subprocess.Popen.__doc__)\n",
    "subprocess.Popen('true')"
   ]
  },
  {
   "cell_type": "code",
   "execution_count": 59,
   "metadata": {},
   "outputs": [
    {
     "data": {
      "text/plain": [
       "7897"
      ]
     },
     "execution_count": 59,
     "metadata": {},
     "output_type": "execute_result"
    }
   ],
   "source": [
    "sub = _\n",
    "assert sub.returncode is None\n",
    "pid = sub.pid\n",
    "pid"
   ]
  },
  {
   "cell_type": "code",
   "execution_count": 60,
   "metadata": {},
   "outputs": [
    {
     "name": "stdout",
     "output_type": "stream",
     "text": [
      "ps x -p 7897\n"
     ]
    }
   ],
   "source": [
    "print('ps x -p %d' % pid)"
   ]
  },
  {
   "cell_type": "code",
   "execution_count": 21,
   "metadata": {},
   "outputs": [
    {
     "data": {
      "text/plain": [
       "0"
      ]
     },
     "execution_count": 21,
     "metadata": {},
     "output_type": "execute_result"
    }
   ],
   "source": [
    "code = sub.poll()  # try now\n",
    "assert sub.returncode == code\n",
    "code"
   ]
  },
  {
   "cell_type": "code",
   "execution_count": 27,
   "metadata": {},
   "outputs": [
    {
     "ename": "FileNotFoundError",
     "evalue": "[Errno 2] No such file or directory: 'sleep 1'",
     "output_type": "error",
     "traceback": [
      "\u001b[0;31m---------------------------------------------------------------------------\u001b[0m",
      "\u001b[0;31mFileNotFoundError\u001b[0m                         Traceback (most recent call last)",
      "\u001b[0;32m<ipython-input-27-513fdd31170a>\u001b[0m in \u001b[0;36m<module>\u001b[0;34m()\u001b[0m\n\u001b[0;32m----> 1\u001b[0;31m \u001b[0msub\u001b[0m \u001b[0;34m=\u001b[0m \u001b[0msubprocess\u001b[0m\u001b[0;34m.\u001b[0m\u001b[0mPopen\u001b[0m\u001b[0;34m(\u001b[0m\u001b[0;34m'sleep 1'\u001b[0m\u001b[0;34m)\u001b[0m\u001b[0;34m\u001b[0m\u001b[0m\n\u001b[0m",
      "\u001b[0;32m/usr/local/Cellar/python3/3.5.2/Frameworks/Python.framework/Versions/3.5/lib/python3.5/subprocess.py\u001b[0m in \u001b[0;36m__init__\u001b[0;34m(self, args, bufsize, executable, stdin, stdout, stderr, preexec_fn, close_fds, shell, cwd, env, universal_newlines, startupinfo, creationflags, restore_signals, start_new_session, pass_fds)\u001b[0m\n\u001b[1;32m    945\u001b[0m                                 \u001b[0mc2pread\u001b[0m\u001b[0;34m,\u001b[0m \u001b[0mc2pwrite\u001b[0m\u001b[0;34m,\u001b[0m\u001b[0;34m\u001b[0m\u001b[0m\n\u001b[1;32m    946\u001b[0m                                 \u001b[0merrread\u001b[0m\u001b[0;34m,\u001b[0m \u001b[0merrwrite\u001b[0m\u001b[0;34m,\u001b[0m\u001b[0;34m\u001b[0m\u001b[0m\n\u001b[0;32m--> 947\u001b[0;31m                                 restore_signals, start_new_session)\n\u001b[0m\u001b[1;32m    948\u001b[0m         \u001b[0;32mexcept\u001b[0m\u001b[0;34m:\u001b[0m\u001b[0;34m\u001b[0m\u001b[0m\n\u001b[1;32m    949\u001b[0m             \u001b[0;31m# Cleanup if the child failed starting.\u001b[0m\u001b[0;34m\u001b[0m\u001b[0;34m\u001b[0m\u001b[0m\n",
      "\u001b[0;32m/usr/local/Cellar/python3/3.5.2/Frameworks/Python.framework/Versions/3.5/lib/python3.5/subprocess.py\u001b[0m in \u001b[0;36m_execute_child\u001b[0;34m(self, args, executable, preexec_fn, close_fds, pass_fds, cwd, env, startupinfo, creationflags, shell, p2cread, p2cwrite, c2pread, c2pwrite, errread, errwrite, restore_signals, start_new_session)\u001b[0m\n\u001b[1;32m   1549\u001b[0m                             \u001b[0;32melse\u001b[0m\u001b[0;34m:\u001b[0m\u001b[0;34m\u001b[0m\u001b[0m\n\u001b[1;32m   1550\u001b[0m                                 \u001b[0merr_msg\u001b[0m \u001b[0;34m+=\u001b[0m \u001b[0;34m': '\u001b[0m \u001b[0;34m+\u001b[0m \u001b[0mrepr\u001b[0m\u001b[0;34m(\u001b[0m\u001b[0morig_executable\u001b[0m\u001b[0;34m)\u001b[0m\u001b[0;34m\u001b[0m\u001b[0m\n\u001b[0;32m-> 1551\u001b[0;31m                     \u001b[0;32mraise\u001b[0m \u001b[0mchild_exception_type\u001b[0m\u001b[0;34m(\u001b[0m\u001b[0merrno_num\u001b[0m\u001b[0;34m,\u001b[0m \u001b[0merr_msg\u001b[0m\u001b[0;34m)\u001b[0m\u001b[0;34m\u001b[0m\u001b[0m\n\u001b[0m\u001b[1;32m   1552\u001b[0m                 \u001b[0;32mraise\u001b[0m \u001b[0mchild_exception_type\u001b[0m\u001b[0;34m(\u001b[0m\u001b[0merr_msg\u001b[0m\u001b[0;34m)\u001b[0m\u001b[0;34m\u001b[0m\u001b[0m\n\u001b[1;32m   1553\u001b[0m \u001b[0;34m\u001b[0m\u001b[0m\n",
      "\u001b[0;31mFileNotFoundError\u001b[0m: [Errno 2] No such file or directory: 'sleep 1'"
     ]
    }
   ],
   "source": [
    "sub = subprocess.Popen('sleep 1')"
   ]
  },
  {
   "cell_type": "code",
   "execution_count": 47,
   "metadata": {},
   "outputs": [
    {
     "data": {
      "text/plain": [
       "7879"
      ]
     },
     "execution_count": 47,
     "metadata": {},
     "output_type": "execute_result"
    }
   ],
   "source": [
    "sub = subprocess.Popen('sleep 1', shell=True)\n",
    "sub.pid"
   ]
  },
  {
   "cell_type": "code",
   "execution_count": 40,
   "metadata": {},
   "outputs": [
    {
     "name": "stdout",
     "output_type": "stream",
     "text": [
      "Checking for a child 7860\n",
      "Waiting a bit\n",
      "Waiting a bit\n",
      "Waiting a bit\n",
      "Waiting a bit\n",
      "Waiting for a child 7860\n",
      "Took 4.008\n"
     ]
    }
   ],
   "source": [
    "import time\n",
    "\n",
    "start = time.time()\n",
    "sub = subprocess.Popen(['sleep', '4'])\n",
    "\n",
    "print('Checking for a child %d' % sub.pid)\n",
    "assert sub.poll() is None\n",
    "\n",
    "for i in range(4):\n",
    "    print('Waiting a bit')\n",
    "    time.sleep(0.5)\n",
    "    assert sub.poll() is None\n",
    "\n",
    "print('Waiting for a child %d' % sub.pid)\n",
    "sub.wait()\n",
    "\n",
    "print('Took %1.3f' % (time.time() - start))"
   ]
  },
  {
   "cell_type": "markdown",
   "metadata": {},
   "source": [
    "# Мне нужен результат этой работы"
   ]
  },
  {
   "cell_type": "code",
   "execution_count": 22,
   "metadata": {
    "collapsed": true
   },
   "outputs": [],
   "source": [
    "sub = subprocess.Popen('date')\n",
    "assert sub.stdout is None"
   ]
  },
  {
   "cell_type": "code",
   "execution_count": 24,
   "metadata": {},
   "outputs": [
    {
     "name": "stdout",
     "output_type": "stream",
     "text": [
      "Interact with process: Send data to stdin.  Read data from\n",
      "        stdout and stderr, until end-of-file is reached.  Wait for\n",
      "        process to terminate.\n",
      "\n",
      "        The optional \"input\" argument should be data to be sent to the\n",
      "        child process (if self.universal_newlines is True, this should\n",
      "        be a string; if it is False, \"input\" should be bytes), or\n",
      "        None, if no data should be sent to the child.\n",
      "\n",
      "        communicate() returns a tuple (stdout, stderr).  These will be\n",
      "        bytes or, if self.universal_newlines was True, a string.\n",
      "        \n"
     ]
    },
    {
     "data": {
      "text/plain": [
       "(None, None)"
      ]
     },
     "execution_count": 24,
     "metadata": {},
     "output_type": "execute_result"
    }
   ],
   "source": [
    "print(sub.communicate.__doc__)\n",
    "sub.communicate()"
   ]
  },
  {
   "cell_type": "code",
   "execution_count": 68,
   "metadata": {},
   "outputs": [
    {
     "data": {
      "text/plain": [
       "b'\\xd0\\xb2\\xd1\\x82\\xd0\\xbe\\xd1\\x80\\xd0\\xbd\\xd0\\xb8\\xd0\\xba,  9 \\xd0\\xbc\\xd0\\xb0\\xd1\\x8f 2017 \\xd0\\xb3. 21:15:12 (MSK)\\n'"
      ]
     },
     "execution_count": 68,
     "metadata": {},
     "output_type": "execute_result"
    }
   ],
   "source": [
    "sub = subprocess.Popen('date', stdout=subprocess.PIPE, stderr=subprocess.STDOUT)\n",
    "out, err = sub.communicate()\n",
    "assert err is None\n",
    "out"
   ]
  },
  {
   "cell_type": "code",
   "execution_count": 69,
   "metadata": {},
   "outputs": [
    {
     "data": {
      "text/plain": [
       "'вторник,  9 мая 2017 г. 21:15:12 (MSK)\\n'"
      ]
     },
     "execution_count": 69,
     "metadata": {},
     "output_type": "execute_result"
    }
   ],
   "source": [
    "out.decode('utf')"
   ]
  },
  {
   "cell_type": "code",
   "execution_count": 66,
   "metadata": {},
   "outputs": [
    {
     "data": {
      "text/plain": [
       "b'usage: which [-as] program ...\\n'"
      ]
     },
     "execution_count": 66,
     "metadata": {},
     "output_type": "execute_result"
    }
   ],
   "source": [
    "sub = subprocess.Popen('which', stdout=subprocess.PIPE, stderr=subprocess.PIPE)\n",
    "out, err = sub.communicate()\n",
    "assert out == b''\n",
    "err"
   ]
  },
  {
   "cell_type": "code",
   "execution_count": 67,
   "metadata": {},
   "outputs": [
    {
     "data": {
      "text/plain": [
       "b'usage: which [-as] program ...\\n'"
      ]
     },
     "execution_count": 67,
     "metadata": {},
     "output_type": "execute_result"
    }
   ],
   "source": [
    "sub = subprocess.Popen('which', stdout=subprocess.PIPE, stderr=subprocess.STDOUT)\n",
    "out, err = sub.communicate()\n",
    "assert err is None\n",
    "out"
   ]
  },
  {
   "cell_type": "code",
   "execution_count": 76,
   "metadata": {},
   "outputs": [
    {
     "data": {
      "text/plain": [
       "[b'  PID   TT  STAT      TIME COMMAND',\n",
       " b'    1   ??  Ss     5:43.76 /sbin/launchd',\n",
       " b'   43   ??  Ss     2:06.59 /usr/sbin/syslogd',\n",
       " b'   44   ??  Ss     0:41.36 /usr/libexec/UserEventAgent (System)',\n",
       " b'   46   ??  Ss     1:46.06 /usr/libexec/kextd',\n",
       " b'   47   ??  Ss     1:07.55 /System/Library/Frameworks/CoreServices.framework/Versions/A/Frameworks/FSEvents.framework/Versions/A/Support/fseventsd',\n",
       " b'   49   ??  Ss     0:20.82 /opt/cisco/anyconnect/bin/vpnagentd -execv_instance',\n",
       " b'   52   ??  Ss     0:00.72 /System/Library/CoreServices/appleeventsd --server',\n",
       " b'   53   ??  Ss     0:45.47 /usr/libexec/configd',\n",
       " b'   54   ??  Ss     0:16.61 /System/Library/CoreServices/powerd.bundle/powerd',\n",
       " b'   59   ??  Ss     1:00.61 /usr/libexec/airportd',\n",
       " b'   61   ??  SNs    0:00.73 /usr/libexec/warmd',\n",
       " b'   62   ??  Ss     2:25.25 /System/Library/Frameworks/CoreServices.framework/Frameworks/Metadata.framework/Support/mds',\n",
       " b'   66   ??  Ss     0:00.20 /System/Library/CoreServices/iconservicesd',\n",
       " b'   67   ??  Ss     0:00.09 /System/Library/CoreServices/iconservicesagent',\n",
       " b'   68   ??  Ss     0:03.43 /usr/libexec/diskarbitrationd',\n",
       " b'   70   ??  Ss     0:15.69 /usr/libexec/coreduetd',\n",
       " b'   71   ??  Ss     0:00.06 /usr/libexec/wdhelper',\n",
       " b'   73   ??  Ss     0:42.02 /usr/libexec/opendirectoryd',\n",
       " b'   74   ??  Ss     0:01.84 /usr/sbin/wirelessproxd',\n",
       " b'   76   ??  Ss     0:30.42 /System/Library/PrivateFrameworks/ApplePushService.framework/apsd',\n",
       " b'   77   ??  Ss     0:00.04 /Library/PrivilegedHelperTools/com.docker.vmnetd',\n",
       " b'   78   ??  Us     0:15.72 /System/Library/CoreServices/launchservicesd',\n",
       " b'   79   ??  Ss     2:24.53 /opt/cisco/anyconnect/bin/aciseagentd -d',\n",
       " b'   80   ??  Ss     0:00.36 /System/Library/PrivateFrameworks/MobileDevice.framework/Versions/A/Resources/usbmuxd -launchd',\n",
       " b'   81   ??  Ss     0:54.38 /usr/sbin/securityd -i',\n",
       " b'   83   ??  Ss     1:21.49 /usr/libexec/locationd',\n",
       " b'   86   ??  Ss     0:12.23 /usr/sbin/blued',\n",
       " b'   87   ??  Ss     0:00.11 autofsd',\n",
       " b'   92   ??  Ss     1:22.34 /usr/sbin/mDNSResponder',\n",
       " b'   94   ??  Ss     0:00.34 /System/Library/PrivateFrameworks/GenerationalStorage.framework/Versions/A/Support/revisiond',\n",
       " b'   95   ??  Ss     0:42.37 /System/Library/CoreServices/loginwindow.app/Contents/MacOS/loginwindow console',\n",
       " b'   96   ??  Ss     0:00.25 /System/Library/CoreServices/logind',\n",
       " b'   97   ??  Ss     0:00.04 /usr/sbin/KernelEventAgent',\n",
       " b'   99   ??  Ss     5:06.83 /usr/libexec/hidd',\n",
       " b'  100   ??  Ss     0:01.66 /usr/libexec/AirPlayXPCHelper',\n",
       " b'  101   ??  Ss     0:03.80 /usr/libexec/amfid',\n",
       " b'  102   ??  Ss     0:55.66 /usr/sbin/notifyd',\n",
       " b'  112   ??  Ss     0:15.08 /usr/sbin/distnoted daemon',\n",
       " b'  122   ??  Ss     0:01.82 aslmanager',\n",
       " b'  129   ??  Ss     0:02.39 /usr/libexec/diagnosticd',\n",
       " b'  132   ??  Ss     0:02.01 /System/Library/Frameworks/Security.framework/Versions/A/XPCServices/authd.xpc/Contents/MacOS/authd',\n",
       " b'  133   ??  Ss     0:00.36 /usr/libexec/sandboxd',\n",
       " b'  134   ??  Ss     0:17.85 /usr/sbin/cfprefsd daemon',\n",
       " b'  140   ??  Ss     0:03.73 /System/Library/CoreServices/coreservicesd',\n",
       " b'  165   ??  Ss   105:46.16 /usr/sbin/coreaudiod',\n",
       " b'  166   ??  Ss     0:00.10 /System/Library/Frameworks/PCSC.framework/Versions/A/XPCServices/com.apple.ctkpcscd.xpc/Contents/MacOS/com.apple.ctkpcscd',\n",
       " b'  167   ??  Ss     0:00.09 /System/Library/Frameworks/CryptoTokenKit.framework/ctkd -s',\n",
       " b'  169   ??  Ss     0:00.27 /usr/libexec/secinitd',\n",
       " b'  172   ??  Ss     0:00.27 /System/Library/Frameworks/CoreAudio.framework/Versions/A/XPCServices/com.apple.audio.DriverHelper.xpc/Contents/MacOS/com.apple.audio.DriverHelper',\n",
       " b'  188   ??  Ss     0:14.09 /usr/libexec/networkd',\n",
       " b'  189   ??  Us    93:16.28 /System/Library/Frameworks/ApplicationServices.framework/Frameworks/CoreGraphics.framework/Resources/WindowServer -daemon',\n",
       " b'  190   ??  Ss     0:10.25 /usr/libexec/findmydeviced',\n",
       " b'  192   ??  Ss     0:00.19 /usr/libexec/networkd_privileged',\n",
       " b'  193   ??  Ss     0:01.34 /System/Library/PrivateFrameworks/WirelessDiagnostics.framework/Support/awdd',\n",
       " b'  194   ??  Ss     0:00.30 /System/Library/CoreServices/CrashReporterSupportHelper server-init',\n",
       " b'  195   ??  Ss     0:01.02 /usr/libexec/lsd runAsRoot',\n",
       " b'  196   ??  Us     0:00.52 /System/Library/Frameworks/Security.framework/Versions/A/XPCServices/com.apple.CodeSigningHelper.xpc/Contents/MacOS/com.apple.CodeSigningHelper',\n",
       " b'  197   ??  Ss     2:02.76 /System/Library/Frameworks/CoreServices.framework/Frameworks/Metadata.framework/Versions/A/Support/mds_stores',\n",
       " b'  202   ??  Ss     0:00.34 /System/Library/Frameworks/OpenGL.framework/Versions/A/Libraries/CVMServer',\n",
       " b'  219   ??  Ss     0:42.53 /usr/libexec/symptomsd',\n",
       " b'  220   ??  Ss     0:02.03 /usr/libexec/watchdogd',\n",
       " b'  222   ??  Ss     0:00.23 /System/Library/PrivateFrameworks/AccountPolicy.framework/XPCServices/com.apple.AccountPolicyHelper.xpc/Contents/MacOS/com.apple.AccountPolicyHelper',\n",
       " b'  223   ??  Ss     0:00.42 /System/Library/CoreServices/sharedfilelistd --enable-legacy-services',\n",
       " b'  225   ??  Ss     0:00.10 /System/Library/PrivateFrameworks/CoreSymbolication.framework/coresymbolicationd',\n",
       " b'  232   ??  Ss     1:05.63 /usr/libexec/nsurlsessiond --privileged',\n",
       " b'  233   ??  Ss     0:00.57 /usr/libexec/nehelper',\n",
       " b'  234   ??  Ss     0:02.07 /usr/libexec/corestoraged',\n",
       " b'  235   ??  Ss     0:08.22 /usr/sbin/ntpd -c /private/etc/ntp-restrict.conf -n -g -p /var/run/ntpd.pid -f /var/db/ntp.drift',\n",
       " b'  236   ??  Ss     0:01.73 /usr/libexec/usbd',\n",
       " b'  237   ??  Ss     0:00.58 /usr/libexec/thermald',\n",
       " b'  238   ??  Ss     0:00.14 /System/Library/CryptoTokenKit/com.apple.ifdreader.slotd/Contents/MacOS/com.apple.ifdreader',\n",
       " b'  244   ??  Ss     4:40.22 /usr/libexec/securityd_service',\n",
       " b'  245   ??  S      0:12.60 /usr/libexec/UserEventAgent (Aqua)',\n",
       " b'  247   ??  S      0:34.98 /usr/sbin/distnoted agent',\n",
       " b'  249   ??  S      1:13.73 /usr/sbin/cfprefsd agent',\n",
       " b'  250   ??  S      0:03.53 /usr/libexec/lsd',\n",
       " b'  251   ??  S      0:21.86 /System/Library/Frameworks/CoreTelephony.framework/Support/CommCenter',\n",
       " b'  254   ??  S      0:11.02 /usr/sbin/usernoted',\n",
       " b'  256   ??  S      1:12.48 /System/Library/CoreServices/Dock.app/Contents/MacOS/Dock',\n",
       " b'  260   ??  S      0:53.80 /System/Library/CoreServices/SystemUIServer.app/Contents/MacOS/SystemUIServer',\n",
       " b'  261   ??  S      1:19.27 /System/Library/CoreServices/Finder.app/Contents/MacOS/Finder',\n",
       " b'  264   ??  Ss     0:01.29 /usr/sbin/systemsoundserverd',\n",
       " b'  265   ??  Ss     0:00.21 /System/Library/PrivateFrameworks/TCC.framework/Resources/tccd system',\n",
       " b'  266   ??  S      0:00.05 /usr/sbin/pboard',\n",
       " b'  269   ??  S      0:01.80 /System/Library/CoreServices/sharedfilelistd',\n",
       " b'  270   ??  S      0:11.98 /usr/libexec/sharingd',\n",
       " b'  271   ??  S      0:03.68 /System/Library/PrivateFrameworks/TCC.framework/Resources/tccd',\n",
       " b'  272   ??  S      0:13.84 /usr/libexec/pkd',\n",
       " b'  273   ??  S      0:16.85 /System/Library/Frameworks/ApplicationServices.framework/Frameworks/ATS.framework/Support/fontd',\n",
       " b'  274   ??  S      0:16.77 /System/Library/PrivateFrameworks/IDS.framework/identityservicesd.app/Contents/MacOS/identityservicesd',\n",
       " b'  275   ??  Ss     0:01.54 /usr/sbin/WirelessRadioManagerd',\n",
       " b'  282   ??  S      0:00.83 /System/Library/CoreServices/FolderActionsDispatcher.app/Contents/MacOS/FolderActionsDispatcher',\n",
       " b'  283   ??  S      0:00.10 /usr/libexec/spindump_agent',\n",
       " b'  285   ??  S      0:00.67 /System/Library/CoreServices/SocialPushAgent.app/Contents/MacOS/SocialPushAgent',\n",
       " b'  287   ??  S      0:00.97 /System/Library/CoreServices/Keychain Circle Notification.app/Contents/MacOS/Keychain Circle Notification',\n",
       " b'  289   ??  S      0:20.88 /System/Library/CoreServices/NotificationCenter.app/Contents/MacOS/NotificationCenter',\n",
       " b'  292   ??  S      0:01.15 /System/Library/CoreServices/iconservicesagent',\n",
       " b'  293   ??  S      1:06.76 /System/Library/CoreServices/AppleIDAuthAgent',\n",
       " b'  295   ??  S      1:56.03 /System/Library/PrivateFrameworks/CalendarAgent.framework/Executables/CalendarAgent',\n",
       " b'  297   ??  S      0:00.47 /System/Library/PrivateFrameworks/AskPermission.framework/Versions/A/Resources/askpermissiond',\n",
       " b'  299   ??  S      0:02.07 /System/Library/CoreServices/AirPlayUIAgent.app/Contents/MacOS/AirPlayUIAgent --launchd',\n",
       " b'  300   ??  S      0:11.11 /System/Library/PrivateFrameworks/IMCore.framework/imagent.app/Contents/MacOS/imagent',\n",
       " b'  301   ??  S      0:01.64 /System/Library/CoreServices/cloudpaird',\n",
       " b'  305   ??  S      0:01.25 /System/Library/CoreServices/WiFiAgent.app/Contents/MacOS/WiFiAgent',\n",
       " b'  306   ??  S      0:04.07 /System/Library/CoreServices/diagnostics_agent',\n",
       " b'  308   ??  S      0:02.04 /System/Library/PrivateFrameworks/MessagesKit.framework/Resources/soagent.app/Contents/MacOS/soagent',\n",
       " b'  310   ??  S      0:10.14 /System/Library/PrivateFrameworks/CloudDocsDaemon.framework/Versions/A/Support/bird',\n",
       " b'  312   ??  Ss     0:02.38 /usr/libexec/taskgated -s',\n",
       " b'  315   ??  S      0:09.63 /System/Library/CoreServices/mapspushd',\n",
       " b'  316   ??  S      0:07.00 /System/Library/PrivateFrameworks/GameCenterFoundation.framework/Versions/A/gamed',\n",
       " b'  317   ??  S      0:02.51 /System/Library/CoreServices/Menu Extras/TextInput.menu/Contents/SharedSupport/TISwitcher.app/Contents/MacOS/TISwitcher',\n",
       " b'  318   ??  S      0:02.74 /usr/libexec/secd',\n",
       " b'  319   ??  S      0:02.09 /usr/libexec/secinitd',\n",
       " b'  320   ??  S      0:20.09 /System/Library/CoreServices/cloudphotosd.app/Contents/MacOS/cloudphotosd',\n",
       " b'  321   ??  S      0:00.42 /Applications/iTunes.app/Contents/MacOS/iTunesHelper.app/Contents/MacOS/iTunesHelper',\n",
       " b'  322   ??  S      0:08.75 /usr/libexec/fmfd',\n",
       " b'  323   ??  S      0:00.64 /System/Library/PrivateFrameworks/CallHistory.framework/Support/CallHistorySyncHelper',\n",
       " b'  325   ??  S      0:10.39 /System/Library/PrivateFrameworks/AuthKit.framework/Versions/A/Support/akd',\n",
       " b'  327   ??  S      0:02.97 /System/Library/Frameworks/AddressBook.framework/Versions/A/XPCServices/com.apple.AddressBook.ContactsAccountsService.xpc/Contents/MacOS/com.apple.AddressBook.ContactsAccountsService',\n",
       " b'  328   ??  S      0:02.24 /System/Library/PrivateFrameworks/UserActivity.framework/Agents/useractivityd',\n",
       " b'  329   ??  S      0:00.37 /System/Library/PrivateFrameworks/IMDPersistence.framework/XPCServices/IMDPersistenceAgent.xpc/Contents/MacOS/IMDPersistenceAgent',\n",
       " b'  331   ??  Ss     0:01.10 /usr/sbin/filecoordinationd',\n",
       " b'  332   ??  Ss     0:01.85 /System/Library/CoreServices/Dock.app/Contents/XPCServices/com.apple.dock.extra.xpc/Contents/MacOS/com.apple.dock.extra',\n",
       " b'  333   ??  S      0:08.97 /usr/libexec/nsurlstoraged',\n",
       " b'  334   ??  S      1:38.82 /System/Library/Frameworks/Accounts.framework/Versions/A/Support/accountsd',\n",
       " b'  336   ??  U      0:16.34 /System/Library/PrivateFrameworks/CloudKitDaemon.framework/Support/cloudd',\n",
       " b'  339   ??  S      0:07.22 /System/Library/CoreServices/Spotlight.app/Contents/MacOS/Spotlight',\n",
       " b'  340   ??  Ss     0:01.48 /System/Library/PrivateFrameworks/CacheDelete.framework/deleted',\n",
       " b'  341   ??  S      0:00.35 /usr/libexec/nsurlsessiond',\n",
       " b'  342   ??  S      0:16.62 /System/Library/PrivateFrameworks/CommerceKit.framework/Versions/A/Resources/storeaccountd',\n",
       " b'  343   ??  Ss     0:00.34 /System/Library/CoreServices/backupd.bundle/Contents/Resources/TMCacheDelete',\n",
       " b'  344   ??  Ss     0:06.05 /System/Library/PrivateFrameworks/PackageKit.framework/Resources/installd',\n",
       " b'  345   ??  Ss     0:44.71 /System/Library/PrivateFrameworks/CalendarAgent.framework/Versions/A/XPCServices/CalNCService.xpc/Contents/MacOS/CalNCService',\n",
       " b'  346   ??  S      0:02.29 /System/Library/PrivateFrameworks/CallHistory.framework/Support/CallHistoryPluginHelper',\n",
       " b'  347   ??  Ss     0:02.85 /System/Library/PrivateFrameworks/CoreWLANKit.framework/Versions/A/XPCServices/WiFiProxy.xpc/Contents/MacOS/WiFiProxy',\n",
       " b'  349   ??  Ss     0:00.55 /usr/libexec/diskmanagementd',\n",
       " b'  350   ??  S      0:00.26 /System/Library/Frameworks/Security.framework/Versions/A/Resources/IDSKeychainSyncingProxy.bundle/Contents/MacOS/IDSKeychainSyncingProxy',\n",
       " b'  351   ??  S      0:00.18 /System/Library/Frameworks/Security.framework/Versions/A/Resources/CloudKeychainProxy.bundle/Contents/MacOS/CloudKeychainProxy',\n",
       " b'  352   ??  S      0:24.63 /System/Library/PrivateFrameworks/CommerceKit.framework/Versions/A/Resources/storeassetd',\n",
       " b'  353   ??  S      0:09.51 /System/Library/PrivateFrameworks/ParsecUI.framework/Versions/A/Support/SpotlightNetHelper.app/Contents/MacOS/SpotlightNetHelper',\n",
       " b'  354   ??  Ss     0:00.18 /System/Library/CoreServices/NotificationCenter.app/Contents/XPCServices/com.apple.notificationcenterui.WeatherSummary.xpc/Contents/MacOS/com.apple.notificationcenterui.WeatherSummary',\n",
       " b'  355   ??  S      0:00.85 /System/Library/PrivateFrameworks/CloudPhotoServices.framework/Versions/A/Frameworks/CloudPhotosConfigurationXPC.framework/Versions/A/XPCServices/com.apple.CloudPhotosConfiguration.xpc/Contents/MacOS/com.apple.CloudPhotosConfiguration',\n",
       " b'  356   ??  S      0:00.37 /System/Library/CoreServices/pbs',\n",
       " b'  359   ??  S      0:07.73 /System/Library/Services/AppleSpell.service/Contents/MacOS/AppleSpell -psn_0_94231',\n",
       " b'  361   ??  Ss     0:00.41 /System/Library/PrivateFrameworks/PerformanceAnalysis.framework/Versions/A/XPCServices/com.apple.PerformanceAnalysis.animationperfd.xpc/Contents/MacOS/com.apple.PerformanceAnalysis.animationperfd',\n",
       " b'  365   ??  S      0:00.43 /System/Library/Frameworks/InputMethodKit.framework/Versions/A/XPCServices/com.apple.InputMethodKit.TextReplacementService.xpc/Contents/MacOS/com.apple.InputMethodKit.TextReplacementService',\n",
       " b'  373   ??  S      0:14.71 /System/Library/PrivateFrameworks/CoreSuggestions.framework/Versions/A/Support/suggestd',\n",
       " b'  374   ??  S      0:01.67 /System/Library/PrivateFrameworks/TelephonyUtilities.framework/callservicesd',\n",
       " b'  375   ??  Ss     0:10.13 /System/Library/PrivateFrameworks/CommerceKit.framework/Versions/A/XPCServices/com.apple.CommerceKit.TransactionService.xpc/Contents/MacOS/com.apple.CommerceKit.TransactionService',\n",
       " b'  379   ??  S      0:05.17 /usr/libexec/swcd',\n",
       " b'  382   ??  Ss     0:09.46 /System/Library/PrivateFrameworks/IMFoundation.framework/XPCServices/IMRemoteURLConnectionAgent.xpc/Contents/MacOS/IMRemoteURLConnectionAgent',\n",
       " b'  384   ??  S      0:15.89 /System/Library/PrivateFrameworks/GeoServices.framework/Versions/A/XPCServices/com.apple.geod.xpc/Contents/MacOS/com.apple.geod',\n",
       " b'  385   ??  Ss     0:09.19 /System/Library/PrivateFrameworks/IMFoundation.framework/XPCServices/IMRemoteURLConnectionAgent.xpc/Contents/MacOS/IMRemoteURLConnectionAgent',\n",
       " b'  387   ??  S      0:00.15 /usr/libexec/USBAgent',\n",
       " b'  389   ??  S      0:00.13 /System/Library/PrivateFrameworks/CommunicationsFilter.framework/CMFSyncAgent.app/Contents/MacOS/CMFSyncAgent',\n",
       " b'  391   ??  S      0:15.72 /Applications/Docker.app/Contents/MacOS/Docker',\n",
       " b'  392   ??  Ss     0:00.35 /usr/libexec/nsurlstoraged',\n",
       " b'  393   ??  Ss     0:00.06 /usr/libexec/smd',\n",
       " b'  394   ??  S      0:08.58 /System/Library/PrivateFrameworks/PhotoLibraryPrivate.framework/Versions/A/Support/photolibraryd',\n",
       " b'  395   ??  Ss     0:09.21 /System/Library/PrivateFrameworks/WeatherKit.framework/Versions/A/XPCServices/com.apple.WeatherKitService.xpc/Contents/MacOS/com.apple.WeatherKitService',\n",
       " b'  405   ??  S      0:00.39 /System/Library/CoreServices/ScopedBookmarkAgent',\n",
       " b'  408   ??  S      0:00.06 /usr/libexec/loginitemregisterd',\n",
       " b'  409   ??  Ss     3:51.48 /System/Library/CoreServices/Software Update.app/Contents/Resources/softwareupdated',\n",
       " b'  410   ??  S      0:00.23 /Applications/Docker.app/Contents/MacOS/com.docker.osx.hyperkit.linux -watchdog fd:0 -max-restarts 5 -restart-seconds 30',\n",
       " b'  413   ??  Ss     0:03.07 /System/Library/PrivateFrameworks/SoftwareUpdate.framework/Resources/suhelperd',\n",
       " b'  419   ??  S      0:00.35 /Applications/Docker.app/Contents/MacOS/com.docker.osx.hyperkit.linux -watchdog fd:0 -max-restarts 5 -restart-seconds 30',\n",
       " b'  420   ??  Ss     0:58.77 com.docker.db --url fd://3 --git /Users/nesusvet/Library/Containers/com.docker.docker/Data/database',\n",
       " b'  421   ??  Ss     0:00.22 com.docker.osxfs --address fd:3 --connect /Users/nesusvet/Library/Containers/com.docker.docker/Data/@connect --control fd:4 --volume-control fd:5 --database /Users/nesusvet/Library/Containers/com.docker.docker/Data/s40',\n",
       " b'  422   ??  Ss     0:23.95 com.docker.slirp --db /Users/nesusvet/Library/Containers/com.docker.docker/Data/s40 --ethernet fd:3 --port fd:4 --introspection fd:5 --diagnostics fd:6 --vsock-path /Users/nesusvet/Library/Containers/com.docker.docker/Data/@connect',\n",
       " b'  423   ??  Ss     0:01.19 com.docker.osx.hyperkit.linux',\n",
       " b'  424   ??  Ss     0:11.60 com.docker.driver.amd64-linux -db /Users/nesusvet/Library/Containers/com.docker.docker/Data/s40 -osxfs-volume /Users/nesusvet/Library/Containers/com.docker.docker/Data/s30 -slirp /Users/nesusvet/Library/Containers/com.docker.docker/Data/s50 -vmnet /var/tmp/com.docker.vmnetd.socket -port /Users/nesusvet/Library/Containers/com.docker.docker/Data/s51 -vsock /Users/nesusvet/Library/Containers/com.docker.docker/Data -docker /Users/nesusvet/Library/Containers/com.docker.docker/Data/s60 -addr fd:3 -debug',\n",
       " b'  425   ??  S      0:00.15 /Applications/Docker.app/Contents/MacOS/com.docker.osx.hyperkit.linux',\n",
       " b'  427   ??  S      0:00.35 /Applications/Docker.app/Contents/MacOS/com.docker.driver.amd64-linux -db /Users/nesusvet/Library/Containers/com.docker.docker/Data/s40 -osxfs-volume /Users/nesusvet/Library/Containers/com.docker.docker/Data/s30 -slirp /Users/nesusvet/Library/Containers/com.docker.docker/Data/s50 -vmnet /var/tmp/com.docker.vmnetd.socket -port /Users/nesusvet/Library/Containers/com.docker.docker/Data/s51 -vsock /Users/nesusvet/Library/Containers/com.docker.docker/Data -docker /Users/nesusvet/Library/Containers/com.docker.docker/Data/s60 -addr fd:3 -debug',\n",
       " b'  431   ??  S     26:11.46 /Applications/Docker.app/Contents/MacOS/com.docker.hyperkit -A -m 2048M -c 2 -u -s 0:0,hostbridge -s 31,lpc -s 2:0,virtio-vpnkit,uuid=fed96656-3238-4b05-8ad4-1b5ff49a1c62,path=/Users/nesusvet/Library/Containers/com.docker.docker/Data/s50,macfile=/Users/nesusvet/Library/Containers/com.docker.docker/Data/com.docker.driver.amd64-linux/mac.0 -s 3,virtio-blk,file:///Users/nesusvet/Library/Containers/com.docker.docker/Data/com.docker.driver.amd64-linux/Docker.qcow2?sync=drive&buffered=1,format=qcow,qcow-config=discard=false;compact_after_unmaps=0 -s 4,virtio-9p,path=/Users/nesusvet/Library/Containers/com.docker.docker/Data/s40,tag=db -s 5,virtio-rnd -s 6,virtio-9p,path=/Users/nesusvet/Library/Containers/com.docker.docker/Data/s51,tag=port -s 7,virtio-sock,guest_cid=3,path=/Users/nesusvet/Library/Containers/com.docker.docker/Data,guest_forwards=2376;1525 -l com1,autopty=/Users/nesusvet/Library/Containers/com.docker.docker/Data/com.docker.driver.amd64-linux/tty,log=/Users/nesusvet/Library/Containers/com.docker.docker/Data/com.docker.driver.amd64-linux/console-ring -f kexec,/Applications/Docker.app/Contents/Resources/moby/vmlinuz64,/Applications/Docker.app/Contents/Resources/moby/initrd.img,earlyprintk=serial console=ttyS0 com.docker.driver=\"com.docker.driver.amd64-linux\", com.docker.database=\"com.docker.driver.amd64-linux\" ntp=gateway mobyplatform=mac vsyscall=emulate page_poison=1 panic=1 -F /Users/nesusvet/Library/Containers/com.docker.docker/Data/com.docker.driver.amd64-linux/hypervisor.pid',\n",
       " b'  432   ??  Ss     0:09.77 /System/Library/PrivateFrameworks/AuthKit.framework/Versions/A/Support/akd',\n",
       " b'  433   ??  Ss     0:00.26 /System/Library/CoreServices/cloudphotosd.app/Contents/XPCServices/com.apple.ICPPhotoStreamLibraryService.xpc/Contents/MacOS/com.apple.ICPPhotoStreamLibraryService',\n",
       " b'  436   ??  Ss     0:13.74 /System/Library/PrivateFrameworks/PhotoLibraryPrivate.framework/Versions/A/Frameworks/PhotoLibraryServices.framework/Versions/A/XPCServices/com.apple.photomoments.xpc/Contents/MacOS/com.apple.photomoments',\n",
       " b'  444   ??  S      0:00.02 /Users/nesusvet/Library/Application Support/Steam/Steam.AppBundle/Steam/Contents/MacOS/ipcserver',\n",
       " b'  448   ??  Ss     0:00.13 /System/Library/PrivateFrameworks/PhotoLibrary.framework/Versions/A/XPCServices/com.apple.PhotoIngestService.xpc/Contents/MacOS/com.apple.PhotoIngestService',\n",
       " b'  449   ??  S      0:09.50 /System/Library/PrivateFrameworks/AssetCacheServices.framework/XPCServices/AssetCacheLocatorService.xpc/Contents/MacOS/AssetCacheLocatorService -a',\n",
       " b'  451   ??  Ss     0:01.72 /System/Library/PrivateFrameworks/PhotoLibraryPrivate.framework/Versions/A/Frameworks/MediaConversionService.framework/Versions/A/XPCServices/com.apple.photos.ImageConversionService.xpc/Contents/MacOS/com.apple.photos.ImageConversionService',\n",
       " b'  452   ??  Ss     0:01.24 /System/Library/PrivateFrameworks/PhotoLibrary.framework/Versions/A/XPCServices/com.apple.PhotoIngestService.xpc/Contents/MacOS/com.apple.PhotoIngestService',\n",
       " b'  453   ??  S      0:02.65 /System/Library/Frameworks/CoreServices.framework/Frameworks/Metadata.framework/Versions/A/Support/mdflagwriter',\n",
       " b'  460   ??  Ss     0:00.77 /System/Library/PrivateFrameworks/PhotoLibraryPrivate.framework/Versions/A/Frameworks/PhotoLibraryServices.framework/Versions/A/XPCServices/com.apple.photomodel.xpc/Contents/MacOS/com.apple.photomodel',\n",
       " b'  461   ??  Ss     0:00.69 /System/Library/PrivateFrameworks/PhotoLibraryPrivate.framework/Versions/A/Frameworks/MediaConversionService.framework/Versions/A/XPCServices/com.apple.photos.ImageConversionService.xpc/Contents/MacOS/com.apple.photos.ImageConversionService',\n",
       " b'  468   ??  S    179:57.00 /Applications/Yandex.app/Contents/MacOS/Yandex',\n",
       " b'  469   ??  Us     0:13.14 /usr/libexec/gamecontrollerd',\n",
       " b'  471   ??  S      0:00.09 /Applications/Yandex.app/Contents/Versions/17.3.0.1896/Yandex Framework.framework/Helpers/crashpad_handler --database=/Users/nesusvet/Library/Application Support/Yandex/YandexBrowser/Crashpad --url=https://crash-reports.browser.yandex.net/submit --annotation=main_process_pid=468 --annotation=plat=OS X --annotation=prod=Yandex_Mac --annotation=ver=17.3.0.1896 --handshake-fd=8',\n",
       " b'  472   ??  S     50:01.17 /Applications/Yandex.app/Contents/Versions/17.3.0.1896/Yandex Helper.app/Contents/MacOS/Yandex Helper --type=gpu-process --disable-features=CredentialManagementAPI<CredentialManagerAPI --force-fieldtrials=4dn/0/CredentialManagerAPI/0/DataReductionTrustedSpdyProxy/1/DeferredMediaExperiment/Enabled/DirectWriteFontProxy/UseDirectWriteFontProxy/IPCDemuxerExperiment/Enabled/JoinThreadWorkaround/1/NewTabWebContentsCreator/1/*PDO/1/Precache/Enabled/PrelaunchRenderers/4/*QUIC/Disabled/SubresourceInfoCollection/Disabled/acq/2/ad_hide/disabled/adr/0/ant/2/azd/0/bad/3/bda/1/bel/0/bkrd/1/bmrd/0/bra/0/bup/0/cd1/1/cmp/1/cntb/1/crd/2/crl/0/crp/0/db1/2/db2/1/dcvr/1/dgr/0/dkl/0/dkn/1/dks/1/dkw/0/dlb/1/dnc/1/drl/0/drp/0/eaa/2/edc/0/edn/1/edt/1/ehwd/1/eif/1/*emhs/1/*epmt/0/esb/1/fbntf/0/fld/1/flt/0/fnp/0/foc/1/fs3/1/geo/0/*gpf/1/hdp/0/hps/1/hrl/3/hsh/2/hss/0/hwdx11/1/ifchk/2/inp/1/ipwd/0/isrp/4/mdls/1/msp/1/mss/1/myl/3/nbbl/1/nbi/0/nohw/1/nse/1/nsr/1/ntsk/1/nyatr/1/o2/0/ocm/1/od/1/omg/0/opr/1/osr/0/p1/0/p2/0/pas/0/pcm/0/pop/1/prt/1/pwp/2/qs/e2/raf/2/rcm/0/readability/0/rmnbx/0/rr/1/sad/1/sbd/1/*sbi/0/sbl/0/sbm/2/*sbu/2/scb/1/scd/0/scl/1/scs/0/si9/0/sie/1/skf/1/smb/1/spa/1/spcu/0/spins/1/spk/1/sxp/1/syr/1/t1/1/te1/8/tnw/0/tso/1/turbo/2/uas/1/urr/1/vaa/3/vbp/0/vrb/3/vtchk/1/vvd/0/wpm/1/wrr/1/wzn/1/yal/1/ybs/0/zav/1/zbl/2/zdd/1/zen/1/zes/1/zfl/1/zoa/1/zon/1/zsm/1/zss/1/zvt/1/ --user-id=5BD3B8B1-5360-4140-B7F8-6B79211E98B7 --metrics-client-id=1E2A3359-3248-4E3E-AAB9-8C0E9900CA6C --supports-dual-gpus=false --gpu-driver-bug-workarounds=0,1,10,23,25,35,38,45,49,59,61,62,63,64,66,70,71,73,76,81,82,83,86,88,89 --gpu-vendor-id=0x8086 --gpu-device-id=0x0a26 --gpu-driver-vendor --gpu-driver-version --gpu-driver-date --gpu-active-vendor-id=0x8086 --gpu-active-device-id=0x0a26 --user-id=5BD3B8B1-5360-4140-B7F8-6B79211E98B7 --metrics-client-id=1E2A3359-3248-4E3E-AAB9-8C0E9900CA6C --service-request-channel-token=E67FF5638F3BCE9EC166FA5683EE4302',\n",
       " b'  473   ??  Ss     0:11.53 /System/Library/Frameworks/VideoToolbox.framework/Versions/A/XPCServices/VTDecoderXPCService.xpc/Contents/MacOS/VTDecoderXPCService',\n",
       " b'  474   ??  S      7:09.40 /Applications/Yandex.app/Contents/Versions/17.3.0.1896/Yandex Helper.app/Contents/MacOS/Yandex Helper --type=renderer --enable-mse-h264-support --disable-features=CredentialManagementAPI<CredentialManagerAPI --force-fieldtrials=*4dn/0/CredentialManagerAPI/0/DataReductionTrustedSpdyProxy/1/DeferredMediaExperiment/Enabled/DirectWriteFontProxy/UseDirectWriteFontProxy/IPCDemuxerExperiment/Enabled/JoinThreadWorkaround/1/*NewTabWebContentsCreator/1/*PDO/1/Precache/Enabled/*PrelaunchRenderers/4/*QUIC/Disabled/SubresourceInfoCollection/Disabled/acq/2/ad_hide/disabled/adr/0/*ant/2/azd/0/*bad/3/bda/1/bel/0/bkrd/1/*bmrd/0/bra/0/bup/0/cd1/1/cmp/1/cntb/1/crd/2/crl/0/*crp/0/db1/2/db2/1/dcvr/1/dgr/0/dkl/0/dkn/1/*dks/1/dkw/0/dlb/1/*dnc/1/drl/0/drp/0/eaa/2/edc/0/edn/1/edt/1/ehwd/1/eif/1/*emhs/1/*epmt/0/esb/1/fbntf/0/fld/1/flt/0/*fnp/0/foc/1/fs3/1/geo/0/*gpf/1/hdp/0/hps/1/hrl/3/*hsh/2/hss/0/hwdx11/1/ifchk/2/inp/1/ipwd/0/*isrp/4/*mdls/1/msp/1/*mss/1/myl/3/nbbl/1/nbi/0/nohw/1/*nse/1/nsr/1/ntsk/1/nyatr/1/o2/0/ocm/1/*od/1/omg/0/opr/1/osr/0/p1/0/p2/0/pas/0/pcm/0/pop/1/prt/1/*pwp/2/qs/e2/raf/2/*rcm/0/readability/0/rmnbx/0/rr/1/*sad/1/*sbd/1/*sbi/0/sbl/0/*sbm/2/*sbu/2/scb/1/scd/0/*scl/1/scs/0/si9/0/sie/1/*skf/1/smb/1/spa/1/spcu/0/spins/1/spk/1/sxp/1/syr/1/t1/1/*te1/8/tnw/0/tso/1/*turbo/2/*uas/1/*urr/1/vaa/3/vbp/0/vrb/3/vtchk/1/*vvd/0/*wpm/1/wrr/1/*wzn/1/yal/1/*ybs/0/zav/1/zbl/2/zdd/1/zen/1/zes/1/zfl/1/zoa/1/zon/1/zsm/1/zss/1/zvt/1/ --primordial-pipe-token=FD02477003B26232E1E2060BF6A09351 --lang=ru --user-id=5BD3B8B1-5360-4140-B7F8-6B79211E98B7 --metrics-client-id=1E2A3359-3248-4E3E-AAB9-8C0E9900CA6C --extension-process --disable-client-side-phishing-detection --brand-id=yandex --help-url=https://api.browser.yandex.ru/redirect/help/ --user-agent-info --translate-security-origin=https://translate.yandex.net --enable-offline-auto-reload --enable-offline-auto-reload-visible-only --enable-instaserp --web-zen-origin=https://brozen.yandex.ru/ --enable-pinch --num-raster-threads=2 --enable-gpu-rasterization --enable-zero-copy --enable-gpu-memory-buffer-compositor-resources --enable-main-frame-before-activation --content-image-texture-target=0,0,3553;0,1,3553;0,2,3553;0,3,3553;0,4,3553;0,5,3553;0,6,3553;0,7,3553;0,8,3553;0,9,3553;0,10,34037;0,11,34037;0,12,34037;0,13,3553;0,14,3553;0,15,3553;1,0,3553;1,1,3553;1,2,3553;1,3,3553;1,4,3553;1,5,3553;1,6,3553;1,7,3553;1,8,3553;1,9,3553;1,10,34037;1,11,34037;1,12,34037;1,13,3553;1,14,3553;1,15,3553;2,0,3553;2,1,3553;2,2,3553;2,3,3553;2,4,3553;2,5,34037;2,6,3553;2,7,3553;2,8,3553;2,9,3553;2,10,3553;2,11,3553;2,12,34037;2,13,3553;2,14,34037;2,15,34037;3,0,3553;3,1,3553;3,2,3553;3,3,3553;3,4,3553;3,5,34037;3,6,3553;3,7,3553;3,8,3553;3,9,3553;3,10,3553;3,11,3553;3,12,34037;3,13,3553;3,14,34037;3,15,34037 --service-request-channel-token=FD02477003B26232E1E2060BF6A09351 --renderer-client-id=3',\n",
       " b'  475   ??  S      0:17.97 /Applications/Yandex.app/Contents/Versions/17.3.0.1896/Yandex Helper.app/Contents/MacOS/Yandex Helper --type=renderer --enable-mse-h264-support --disable-features=CredentialManagementAPI<CredentialManagerAPI --force-fieldtrials=*4dn/0/CredentialManagerAPI/0/DataReductionTrustedSpdyProxy/1/DeferredMediaExperiment/Enabled/DirectWriteFontProxy/UseDirectWriteFontProxy/IPCDemuxerExperiment/Enabled/JoinThreadWorkaround/1/*NewTabWebContentsCreator/1/*PDO/1/Precache/Enabled/*PrelaunchRenderers/4/*QUIC/Disabled/SubresourceInfoCollection/Disabled/acq/2/ad_hide/disabled/adr/0/*ant/2/azd/0/*bad/3/bda/1/bel/0/bkrd/1/*bmrd/0/bra/0/bup/0/*cd1/1/cmp/1/cntb/1/crd/2/*crl/0/*crp/0/db1/2/db2/1/dcvr/1/*dgr/0/dkl/0/dkn/1/*dks/1/*dkw/0/dlb/1/*dnc/1/drl/0/drp/0/eaa/2/edc/0/*edn/1/*edt/1/ehwd/1/eif/1/*emhs/1/*epmt/0/esb/1/fbntf/0/fld/1/flt/0/*fnp/0/foc/1/fs3/1/geo/0/*gpf/1/hdp/0/hps/1/hrl/3/*hsh/2/hss/0/hwdx11/1/ifchk/2/inp/1/ipwd/0/*isrp/4/*mdls/1/msp/1/*mss/1/myl/3/nbbl/1/nbi/0/nohw/1/*nse/1/nsr/1/ntsk/1/nyatr/1/o2/0/ocm/1/*od/1/omg/0/opr/1/osr/0/p1/0/p2/0/pas/0/pcm/0/pop/1/prt/1/*pwp/2/qs/e2/raf/2/*rcm/0/*readability/0/rmnbx/0/rr/1/*sad/1/*sbd/1/*sbi/0/sbl/0/*sbm/2/*sbu/2/scb/1/scd/0/*scl/1/scs/0/si9/0/sie/1/*skf/1/smb/1/spa/1/spcu/0/spins/1/spk/1/sxp/1/syr/1/t1/1/*te1/8/tnw/0/tso/1/*turbo/2/*uas/1/*urr/1/vaa/3/vbp/0/vrb/3/vtchk/1/*vvd/0/*wpm/1/wrr/1/*wzn/1/yal/1/*ybs/0/zav/1/zbl/2/zdd/1/*zen/1/zes/1/zfl/1/zoa/1/zon/1/zsm/1/zss/1/*zvt/1/ --primordial-pipe-token=9A5BA6ECBFE6D6C3008FB2F9E99950C0 --lang=ru --user-id=5BD3B8B1-5360-4140-B7F8-6B79211E98B7 --metrics-client-id=1E2A3359-3248-4E3E-AAB9-8C0E9900CA6C --disable-client-side-phishing-detection --brand-id=yandex --help-url=https://api.browser.yandex.ru/redirect/help/ --user-agent-info --translate-security-origin=https://translate.yandex.net --enable-offline-auto-reload --enable-offline-auto-reload-visible-only --enable-instaserp --web-zen-origin=https://brozen.yandex.ru/ --enable-pinch --num-raster-threads=2 --enable-gpu-rasterization --enable-zero-copy --enable-gpu-memory-buffer-compositor-resources --enable-main-frame-before-activation --content-image-texture-target=0,0,3553;0,1,3553;0,2,3553;0,3,3553;0,4,3553;0,5,3553;0,6,3553;0,7,3553;0,8,3553;0,9,3553;0,10,34037;0,11,34037;0,12,34037;0,13,3553;0,14,3553;0,15,3553;1,0,3553;1,1,3553;1,2,3553;1,3,3553;1,4,3553;1,5,3553;1,6,3553;1,7,3553;1,8,3553;1,9,3553;1,10,34037;1,11,34037;1,12,34037;1,13,3553;1,14,3553;1,15,3553;2,0,3553;2,1,3553;2,2,3553;2,3,3553;2,4,3553;2,5,34037;2,6,3553;2,7,3553;2,8,3553;2,9,3553;2,10,3553;2,11,3553;2,12,34037;2,13,3553;2,14,34037;2,15,34037;3,0,3553;3,1,3553;3,2,3553;3,3,3553;3,4,3553;3,5,34037;3,6,3553;3,7,3553;3,8,3553;3,9,3553;3,10,3553;3,11,3553;3,12,34037;3,13,3553;3,14,34037;3,15,34037 --service-request-channel-token=9A5BA6ECBFE6D6C3008FB2F9E99950C0 --renderer-client-id=29',\n",
       " b'  477   ??  S      0:41.07 /Applications/Yandex.app/Contents/Versions/17.3.0.1896/Yandex Helper.app/Contents/MacOS/Yandex Helper --type=renderer --enable-mse-h264-support --disable-features=CredentialManagementAPI<CredentialManagerAPI --force-fieldtrials=*4dn/0/CredentialManagerAPI/0/DataReductionTrustedSpdyProxy/1/*DeferredMediaExperiment/Enabled/DirectWriteFontProxy/UseDirectWriteFontProxy/IPCDemuxerExperiment/Enabled/JoinThreadWorkaround/1/*NewTabWebContentsCreator/1/*PDO/1/Precache/Enabled/*PrelaunchRenderers/4/*QUIC/Disabled/SubresourceInfoCollection/Disabled/acq/2/ad_hide/disabled/adr/0/*ant/2/azd/0/*bad/3/bda/1/bel/0/bkrd/1/*bmrd/0/bra/0/bup/0/*cd1/1/cmp/1/cntb/1/crd/2/*crl/0/*crp/0/db1/2/db2/1/dcvr/1/*dgr/0/dkl/0/dkn/1/*dks/1/*dkw/0/dlb/1/*dnc/1/drl/0/drp/0/eaa/2/edc/0/*edn/1/*edt/1/ehwd/1/eif/1/*emhs/1/*epmt/0/esb/1/fbntf/0/fld/1/flt/0/*fnp/0/foc/1/fs3/1/geo/0/*gpf/1/hdp/0/hps/1/hrl/3/*hsh/2/hss/0/hwdx11/1/ifchk/2/inp/1/ipwd/0/*isrp/4/*mdls/1/msp/1/*mss/1/myl/3/nbbl/1/nbi/0/nohw/1/*nse/1/nsr/1/ntsk/1/nyatr/1/o2/0/ocm/1/*od/1/omg/0/opr/1/osr/0/p1/0/p2/0/pas/0/pcm/0/pop/1/prt/1/*pwp/2/qs/e2/raf/2/*rcm/0/*readability/0/rmnbx/0/rr/1/*sad/1/*sbd/1/*sbi/0/sbl/0/*sbm/2/*sbu/2/scb/1/scd/0/*scl/1/scs/0/si9/0/sie/1/*skf/1/smb/1/spa/1/spcu/0/spins/1/spk/1/sxp/1/syr/1/t1/1/*te1/8/tnw/0/*tso/1/*turbo/2/*uas/1/*urr/1/vaa/3/vbp/0/vrb/3/vtchk/1/*vvd/0/*wpm/1/wrr/1/*wzn/1/yal/1/*ybs/0/zav/1/zbl/2/zdd/1/*zen/1/zes/1/zfl/1/zoa/1/zon/1/zsm/1/*zss/1/*zvt/1/ --primordial-pipe-token=97283C6BDF038151B3F73B047547369F --lang=ru --user-id=5BD3B8B1-5360-4140-B7F8-6B79211E98B7 --metrics-client-id=1E2A3359-3248-4E3E-AAB9-8C0E9900CA6C --extension-process --disable-client-side-phishing-detection --brand-id=yandex --help-url=https://api.browser.yandex.ru/redirect/help/ --user-agent-info --translate-security-origin=https://translate.yandex.net --enable-offline-auto-reload --enable-offline-auto-reload-visible-only --enable-instaserp --web-zen-origin=https://brozen.yandex.ru/ --enable-pinch --num-raster-threads=2 --enable-gpu-rasterization --enable-zero-copy --enable-gpu-memory-buffer-compositor-resources --enable-main-frame-before-activation --content-image-texture-target=0,0,3553;0,1,3553;0,2,3553;0,3,3553;0,4,3553;0,5,3553;0,6,3553;0,7,3553;0,8,3553;0,9,3553;0,10,34037;0,11,34037;0,12,34037;0,13,3553;0,14,3553;0,15,3553;1,0,3553;1,1,3553;1,2,3553;1,3,3553;1,4,3553;1,5,3553;1,6,3553;1,7,3553;1,8,3553;1,9,3553;1,10,34037;1,11,34037;1,12,34037;1,13,3553;1,14,3553;1,15,3553;2,0,3553;2,1,3553;2,2,3553;2,3,3553;2,4,3553;2,5,34037;2,6,3553;2,7,3553;2,8,3553;2,9,3553;2,10,3553;2,11,3553;2,12,34037;2,13,3553;2,14,34037;2,15,34037;3,0,3553;3,1,3553;3,2,3553;3,3,3553;3,4,3553;3,5,34037;3,6,3553;3,7,3553;3,8,3553;3,9,3553;3,10,3553;3,11,3553;3,12,34037;3,13,3553;3,14,34037;3,15,34037 --service-request-channel-token=97283C6BDF038151B3F73B047547369F --renderer-client-id=4',\n",
       " b'  478   ??  S      1:46.73 /Applications/Yandex.app/Contents/Versions/17.3.0.1896/Yandex Helper.app/Contents/MacOS/Yandex Helper --type=renderer --enable-mse-h264-support --disable-features=CredentialManagementAPI<CredentialManagerAPI --force-fieldtrials=*4dn/0/CredentialManagerAPI/0/DataReductionTrustedSpdyProxy/1/*DeferredMediaExperiment/Enabled/DirectWriteFontProxy/UseDirectWriteFontProxy/IPCDemuxerExperiment/Enabled/JoinThreadWorkaround/1/*NewTabWebContentsCreator/1/*PDO/1/*Precache/Enabled/*PrelaunchRenderers/4/*QUIC/Disabled/SubresourceInfoCollection/Disabled/acq/2/ad_hide/disabled/adr/0/*ant/2/azd/0/*bad/3/bda/1/bel/0/bkrd/1/*bmrd/0/bra/0/bup/0/*cd1/1/cmp/1/cntb/1/crd/2/*crl/0/*crp/0/db1/2/db2/1/dcvr/1/*dgr/0/dkl/0/dkn/1/*dks/1/*dkw/0/dlb/1/*dnc/1/drl/0/drp/0/eaa/2/edc/0/*edn/1/*edt/1/ehwd/1/eif/1/*emhs/1/*epmt/0/esb/1/fbntf/0/fld/1/flt/0/*fnp/0/foc/1/fs3/1/geo/0/*gpf/1/hdp/0/hps/1/hrl/3/*hsh/2/hss/0/hwdx11/1/ifchk/2/inp/1/ipwd/0/*isrp/4/*mdls/1/msp/1/*mss/1/myl/3/nbbl/1/nbi/0/nohw/1/*nse/1/nsr/1/ntsk/1/nyatr/1/o2/0/ocm/1/*od/1/omg/0/opr/1/osr/0/p1/0/p2/0/pas/0/pcm/0/pop/1/prt/1/*pwp/2/qs/e2/raf/2/*rcm/0/*readability/0/rmnbx/0/rr/1/*sad/1/*sbd/1/*sbi/0/sbl/0/*sbm/2/*sbu/2/scb/1/scd/0/*scl/1/scs/0/si9/0/sie/1/*skf/1/smb/1/spa/1/spcu/0/spins/1/spk/1/sxp/1/syr/1/t1/1/*te1/8/tnw/0/*tso/1/*turbo/2/*uas/1/*urr/1/vaa/3/vbp/0/vrb/3/vtchk/1/*vvd/0/*wpm/1/wrr/1/*wzn/1/yal/1/*ybs/0/zav/1/zbl/2/zdd/1/*zen/1/zes/1/zfl/1/zoa/1/zon/1/zsm/1/*zss/1/*zvt/1/ --primordial-pipe-token=51A65BD3BD27C247A3AA41FF93763C91 --lang=ru --user-id=5BD3B8B1-5360-4140-B7F8-6B79211E98B7 --metrics-client-id=1E2A3359-3248-4E3E-AAB9-8C0E9900CA6C --extension-process --disable-client-side-phishing-detection --brand-id=yandex --help-url=https://api.browser.yandex.ru/redirect/help/ --user-agent-info --translate-security-origin=https://translate.yandex.net --enable-offline-auto-reload --enable-offline-auto-reload-visible-only --enable-instaserp --web-zen-origin=https://brozen.yandex.ru/ --enable-pinch --num-raster-threads=2 --enable-gpu-rasterization --enable-zero-copy --enable-gpu-memory-buffer-compositor-resources --enable-main-frame-before-activation --content-image-texture-target=0,0,3553;0,1,3553;0,2,3553;0,3,3553;0,4,3553;0,5,3553;0,6,3553;0,7,3553;0,8,3553;0,9,3553;0,10,34037;0,11,34037;0,12,34037;0,13,3553;0,14,3553;0,15,3553;1,0,3553;1,1,3553;1,2,3553;1,3,3553;1,4,3553;1,5,3553;1,6,3553;1,7,3553;1,8,3553;1,9,3553;1,10,34037;1,11,34037;1,12,34037;1,13,3553;1,14,3553;1,15,3553;2,0,3553;2,1,3553;2,2,3553;2,3,3553;2,4,3553;2,5,34037;2,6,3553;2,7,3553;2,8,3553;2,9,3553;2,10,3553;2,11,3553;2,12,34037;2,13,3553;2,14,34037;2,15,34037;3,0,3553;3,1,3553;3,2,3553;3,3,3553;3,4,3553;3,5,34037;3,6,3553;3,7,3553;3,8,3553;3,9,3553;3,10,3553;3,11,3553;3,12,34037;3,13,3553;3,14,34037;3,15,34037 --service-request-channel-token=51A65BD3BD27C247A3AA41FF93763C91 --renderer-client-id=5',\n",
       " b'  479   ??  S      0:04.68 /Applications/Yandex.app/Contents/Versions/17.3.0.1896/Yandex Helper.app/Contents/MacOS/Yandex Helper --type=renderer --enable-mse-h264-support --disable-features=CredentialManagementAPI<CredentialManagerAPI --force-fieldtrials=*4dn/0/CredentialManagerAPI/0/DataReductionTrustedSpdyProxy/1/*DeferredMediaExperiment/Enabled/DirectWriteFontProxy/UseDirectWriteFontProxy/IPCDemuxerExperiment/Enabled/JoinThreadWorkaround/1/*NewTabWebContentsCreator/1/*PDO/1/*Precache/Enabled/*PrelaunchRenderers/4/*QUIC/Disabled/SubresourceInfoCollection/Disabled/acq/2/ad_hide/disabled/adr/0/*ant/2/azd/0/*bad/3/bda/1/bel/0/bkrd/1/*bmrd/0/bra/0/bup/0/*cd1/1/cmp/1/cntb/1/crd/2/*crl/0/*crp/0/db1/2/db2/1/dcvr/1/*dgr/0/dkl/0/dkn/1/*dks/1/*dkw/0/dlb/1/*dnc/1/drl/0/drp/0/eaa/2/edc/0/*edn/1/*edt/1/ehwd/1/eif/1/*emhs/1/*epmt/0/esb/1/fbntf/0/fld/1/flt/0/*fnp/0/foc/1/fs3/1/geo/0/*gpf/1/hdp/0/hps/1/hrl/3/*hsh/2/hss/0/hwdx11/1/ifchk/2/inp/1/ipwd/0/*isrp/4/*mdls/1/msp/1/*mss/1/myl/3/nbbl/1/nbi/0/nohw/1/*nse/1/nsr/1/ntsk/1/nyatr/1/o2/0/ocm/1/*od/1/omg/0/opr/1/osr/0/p1/0/p2/0/pas/0/pcm/0/pop/1/prt/1/*pwp/2/qs/e2/raf/2/*rcm/0/*readability/0/rmnbx/0/rr/1/*sad/1/*sbd/1/*sbi/0/sbl/0/*sbm/2/*sbu/2/scb/1/scd/0/*scl/1/scs/0/si9/0/sie/1/*skf/1/smb/1/spa/1/spcu/0/spins/1/spk/1/sxp/1/syr/1/t1/1/*te1/8/tnw/0/*tso/1/*turbo/2/*uas/1/*urr/1/vaa/3/vbp/0/vrb/3/vtchk/1/*vvd/0/*wpm/1/wrr/1/*wzn/1/yal/1/*ybs/0/zav/1/zbl/2/zdd/1/*zen/1/zes/1/zfl/1/zoa/1/zon/1/zsm/1/*zss/1/*zvt/1/ --primordial-pipe-token=FD1F2CFE20081F227F364EC12070EF8C --lang=ru --user-id=5BD3B8B1-5360-4140-B7F8-6B79211E98B7 --metrics-client-id=1E2A3359-3248-4E3E-AAB9-8C0E9900CA6C --extension-process --disable-client-side-phishing-detection --brand-id=yandex --help-url=https://api.browser.yandex.ru/redirect/help/ --user-agent-info --translate-security-origin=https://translate.yandex.net --enable-offline-auto-reload --enable-offline-auto-reload-visible-only --enable-instaserp --web-zen-origin=https://brozen.yandex.ru/ --enable-pinch --num-raster-threads=2 --enable-gpu-rasterization --enable-zero-copy --enable-gpu-memory-buffer-compositor-resources --enable-main-frame-before-activation --content-image-texture-target=0,0,3553;0,1,3553;0,2,3553;0,3,3553;0,4,3553;0,5,3553;0,6,3553;0,7,3553;0,8,3553;0,9,3553;0,10,34037;0,11,34037;0,12,34037;0,13,3553;0,14,3553;0,15,3553;1,0,3553;1,1,3553;1,2,3553;1,3,3553;1,4,3553;1,5,3553;1,6,3553;1,7,3553;1,8,3553;1,9,3553;1,10,34037;1,11,34037;1,12,34037;1,13,3553;1,14,3553;1,15,3553;2,0,3553;2,1,3553;2,2,3553;2,3,3553;2,4,3553;2,5,34037;2,6,3553;2,7,3553;2,8,3553;2,9,3553;2,10,3553;2,11,3553;2,12,34037;2,13,3553;2,14,34037;2,15,34037;3,0,3553;3,1,3553;3,2,3553;3,3,3553;3,4,3553;3,5,34037;3,6,3553;3,7,3553;3,8,3553;3,9,3553;3,10,3553;3,11,3553;3,12,34037;3,13,3553;3,14,34037;3,15,34037 --service-request-channel-token=FD1F2CFE20081F227F364EC12070EF8C --renderer-client-id=6',\n",
       " b'  480   ??  S      0:05.86 /Applications/Yandex.app/Contents/Versions/17.3.0.1896/Yandex Helper.app/Contents/MacOS/Yandex Helper --type=renderer --enable-mse-h264-support --disable-features=CredentialManagementAPI<CredentialManagerAPI --force-fieldtrials=*4dn/0/CredentialManagerAPI/0/DataReductionTrustedSpdyProxy/1/*DeferredMediaExperiment/Enabled/DirectWriteFontProxy/UseDirectWriteFontProxy/IPCDemuxerExperiment/Enabled/JoinThreadWorkaround/1/*NewTabWebContentsCreator/1/*PDO/1/*Precache/Enabled/*PrelaunchRenderers/4/*QUIC/Disabled/SubresourceInfoCollection/Disabled/acq/2/ad_hide/disabled/adr/0/*ant/2/azd/0/*bad/3/bda/1/bel/0/bkrd/1/*bmrd/0/bra/0/bup/0/*cd1/1/cmp/1/cntb/1/crd/2/*crl/0/*crp/0/db1/2/db2/1/dcvr/1/*dgr/0/dkl/0/dkn/1/*dks/1/*dkw/0/dlb/1/*dnc/1/drl/0/drp/0/eaa/2/edc/0/*edn/1/*edt/1/ehwd/1/eif/1/*emhs/1/*epmt/0/esb/1/fbntf/0/fld/1/flt/0/*fnp/0/foc/1/fs3/1/geo/0/*gpf/1/hdp/0/hps/1/hrl/3/*hsh/2/hss/0/hwdx11/1/ifchk/2/inp/1/ipwd/0/*isrp/4/*mdls/1/msp/1/*mss/1/myl/3/nbbl/1/nbi/0/nohw/1/*nse/1/nsr/1/ntsk/1/nyatr/1/o2/0/ocm/1/*od/1/omg/0/opr/1/osr/0/p1/0/p2/0/pas/0/pcm/0/pop/1/prt/1/*pwp/2/qs/e2/raf/2/*rcm/0/*readability/0/rmnbx/0/rr/1/*sad/1/*sbd/1/*sbi/0/sbl/0/*sbm/2/*sbu/2/scb/1/scd/0/*scl/1/scs/0/si9/0/sie/1/*skf/1/smb/1/spa/1/spcu/0/spins/1/spk/1/sxp/1/syr/1/t1/1/*te1/8/tnw/0/*tso/1/*turbo/2/*uas/1/*urr/1/vaa/3/vbp/0/vrb/3/vtchk/1/*vvd/0/*wpm/1/wrr/1/*wzn/1/yal/1/*ybs/0/zav/1/zbl/2/zdd/1/*zen/1/zes/1/zfl/1/zoa/1/zon/1/zsm/1/*zss/1/*zvt/1/ --primordial-pipe-token=0EEB0FBE2BB4250464AD33C85FE3373D --lang=ru --user-id=5BD3B8B1-5360-4140-B7F8-6B79211E98B7 --metrics-client-id=1E2A3359-3248-4E3E-AAB9-8C0E9900CA6C --extension-process --disable-client-side-phishing-detection --brand-id=yandex --help-url=https://api.browser.yandex.ru/redirect/help/ --user-agent-info --translate-security-origin=https://translate.yandex.net --enable-offline-auto-reload --enable-offline-auto-reload-visible-only --enable-instaserp --web-zen-origin=https://brozen.yandex.ru/ --enable-pinch --num-raster-threads=2 --enable-gpu-rasterization --enable-zero-copy --enable-gpu-memory-buffer-compositor-resources --enable-main-frame-before-activation --content-image-texture-target=0,0,3553;0,1,3553;0,2,3553;0,3,3553;0,4,3553;0,5,3553;0,6,3553;0,7,3553;0,8,3553;0,9,3553;0,10,34037;0,11,34037;0,12,34037;0,13,3553;0,14,3553;0,15,3553;1,0,3553;1,1,3553;1,2,3553;1,3,3553;1,4,3553;1,5,3553;1,6,3553;1,7,3553;1,8,3553;1,9,3553;1,10,34037;1,11,34037;1,12,34037;1,13,3553;1,14,3553;1,15,3553;2,0,3553;2,1,3553;2,2,3553;2,3,3553;2,4,3553;2,5,34037;2,6,3553;2,7,3553;2,8,3553;2,9,3553;2,10,3553;2,11,3553;2,12,34037;2,13,3553;2,14,34037;2,15,34037;3,0,3553;3,1,3553;3,2,3553;3,3,3553;3,4,3553;3,5,34037;3,6,3553;3,7,3553;3,8,3553;3,9,3553;3,10,3553;3,11,3553;3,12,34037;3,13,3553;3,14,34037;3,15,34037 --service-request-channel-token=0EEB0FBE2BB4250464AD33C85FE3373D --renderer-client-id=7',\n",
       " b'  481   ??  S     33:21.35 /Applications/Yandex.app/Contents/Versions/17.3.0.1896/Yandex Helper.app/Contents/MacOS/Yandex Helper --type=renderer --enable-mse-h264-support --disable-features=CredentialManagementAPI<CredentialManagerAPI --force-fieldtrials=*4dn/0/CredentialManagerAPI/0/DataReductionTrustedSpdyProxy/1/*DeferredMediaExperiment/Enabled/DirectWriteFontProxy/UseDirectWriteFontProxy/IPCDemuxerExperiment/Enabled/JoinThreadWorkaround/1/*NewTabWebContentsCreator/1/*PDO/1/*Precache/Enabled/*PrelaunchRenderers/4/*QUIC/Disabled/SubresourceInfoCollection/Disabled/acq/2/ad_hide/disabled/adr/0/*ant/2/azd/0/*bad/3/bda/1/bel/0/bkrd/1/*bmrd/0/bra/0/bup/0/*cd1/1/cmp/1/cntb/1/crd/2/*crl/0/*crp/0/db1/2/db2/1/dcvr/1/*dgr/0/dkl/0/dkn/1/*dks/1/*dkw/0/dlb/1/*dnc/1/drl/0/drp/0/eaa/2/edc/0/*edn/1/*edt/1/ehwd/1/eif/1/*emhs/1/*epmt/0/esb/1/fbntf/0/fld/1/flt/0/*fnp/0/foc/1/fs3/1/geo/0/*gpf/1/hdp/0/hps/1/hrl/3/*hsh/2/hss/0/hwdx11/1/ifchk/2/inp/1/ipwd/0/*isrp/4/*mdls/1/msp/1/*mss/1/myl/3/nbbl/1/nbi/0/nohw/1/*nse/1/nsr/1/ntsk/1/nyatr/1/o2/0/ocm/1/*od/1/omg/0/opr/1/osr/0/p1/0/p2/0/pas/0/pcm/0/pop/1/prt/1/*pwp/2/qs/e2/raf/2/*rcm/0/*readability/0/rmnbx/0/rr/1/*sad/1/*sbd/1/*sbi/0/sbl/0/*sbm/2/*sbu/2/scb/1/scd/0/*scl/1/scs/0/si9/0/sie/1/*skf/1/smb/1/spa/1/spcu/0/spins/1/spk/1/sxp/1/syr/1/t1/1/*te1/8/tnw/0/*tso/1/*turbo/2/*uas/1/*urr/1/vaa/3/vbp/0/vrb/3/vtchk/1/*vvd/0/*wpm/1/wrr/1/*wzn/1/yal/1/*ybs/0/zav/1/zbl/2/zdd/1/*zen/1/zes/1/zfl/1/zoa/1/zon/1/zsm/1/*zss/1/*zvt/1/ --primordial-pipe-token=C224D831F4EAF2021F245553F755BE91 --lang=ru --user-id=5BD3B8B1-5360-4140-B7F8-6B79211E98B7 --metrics-client-id=1E2A3359-3248-4E3E-AAB9-8C0E9900CA6C --extension-process --disable-client-side-phishing-detection --brand-id=yandex --help-url=https://api.browser.yandex.ru/redirect/help/ --user-agent-info --translate-security-origin=https://translate.yandex.net --enable-offline-auto-reload --enable-offline-auto-reload-visible-only --enable-instaserp --web-zen-origin=https://brozen.yandex.ru/ --enable-pinch --num-raster-threads=2 --enable-gpu-rasterization --enable-zero-copy --enable-gpu-memory-buffer-compositor-resources --enable-main-frame-before-activation --content-image-texture-target=0,0,3553;0,1,3553;0,2,3553;0,3,3553;0,4,3553;0,5,3553;0,6,3553;0,7,3553;0,8,3553;0,9,3553;0,10,34037;0,11,34037;0,12,34037;0,13,3553;0,14,3553;0,15,3553;1,0,3553;1,1,3553;1,2,3553;1,3,3553;1,4,3553;1,5,3553;1,6,3553;1,7,3553;1,8,3553;1,9,3553;1,10,34037;1,11,34037;1,12,34037;1,13,3553;1,14,3553;1,15,3553;2,0,3553;2,1,3553;2,2,3553;2,3,3553;2,4,3553;2,5,34037;2,6,3553;2,7,3553;2,8,3553;2,9,3553;2,10,3553;2,11,3553;2,12,34037;2,13,3553;2,14,34037;2,15,34037;3,0,3553;3,1,3553;3,2,3553;3,3,3553;3,4,3553;3,5,34037;3,6,3553;3,7,3553;3,8,3553;3,9,3553;3,10,3553;3,11,3553;3,12,34037;3,13,3553;3,14,34037;3,15,34037 --service-request-channel-token=C224D831F4EAF2021F245553F755BE91 --renderer-client-id=8',\n",
       " b'  482   ??  S      0:13.82 /Applications/Yandex.app/Contents/Versions/17.3.0.1896/Yandex Helper.app/Contents/MacOS/Yandex Helper --type=renderer --enable-mse-h264-support --disable-features=CredentialManagementAPI<CredentialManagerAPI --force-fieldtrials=*4dn/0/CredentialManagerAPI/0/DataReductionTrustedSpdyProxy/1/*DeferredMediaExperiment/Enabled/DirectWriteFontProxy/UseDirectWriteFontProxy/IPCDemuxerExperiment/Enabled/JoinThreadWorkaround/1/*NewTabWebContentsCreator/1/*PDO/1/*Precache/Enabled/*PrelaunchRenderers/4/*QUIC/Disabled/*SubresourceInfoCollection/Disabled/acq/2/ad_hide/disabled/adr/0/*ant/2/azd/0/*bad/3/bda/1/bel/0/bkrd/1/*bmrd/0/bra/0/bup/0/*cd1/1/cmp/1/cntb/1/crd/2/*crl/0/*crp/0/db1/2/db2/1/dcvr/1/*dgr/0/dkl/0/*dkn/1/*dks/1/*dkw/0/dlb/1/*dnc/1/drl/0/drp/0/eaa/2/edc/0/*edn/1/*edt/1/ehwd/1/eif/1/*emhs/1/*epmt/0/esb/1/fbntf/0/fld/1/flt/0/*fnp/0/foc/1/fs3/1/geo/0/*gpf/1/hdp/0/hps/1/hrl/3/*hsh/2/hss/0/hwdx11/1/ifchk/2/inp/1/ipwd/0/*isrp/4/*mdls/1/msp/1/*mss/1/myl/3/nbbl/1/nbi/0/nohw/1/*nse/1/nsr/1/ntsk/1/nyatr/1/o2/0/ocm/1/*od/1/omg/0/opr/1/osr/0/p1/0/p2/0/pas/0/pcm/0/pop/1/prt/1/*pwp/2/qs/e2/raf/2/*rcm/0/*readability/0/rmnbx/0/rr/1/*sad/1/*sbd/1/*sbi/0/sbl/0/*sbm/2/*sbu/2/scb/1/scd/0/*scl/1/scs/0/si9/0/sie/1/*skf/1/smb/1/spa/1/spcu/0/spins/1/spk/1/sxp/1/syr/1/t1/1/*te1/8/tnw/0/*tso/1/*turbo/2/*uas/1/*urr/1/vaa/3/vbp/0/vrb/3/vtchk/1/*vvd/0/*wpm/1/wrr/1/*wzn/1/yal/1/*ybs/0/zav/1/zbl/2/zdd/1/*zen/1/zes/1/zfl/1/zoa/1/zon/1/zsm/1/*zss/1/*zvt/1/ --primordial-pipe-token=46D8E2DCA107C6AEC99E027ED0FB0AF4 --lang=ru --user-id=5BD3B8B1-5360-4140-B7F8-6B79211E98B7 --metrics-client-id=1E2A3359-3248-4E3E-AAB9-8C0E9900CA6C --extension-process --disable-client-side-phishing-detection --brand-id=yandex --help-url=https://api.browser.yandex.ru/redirect/help/ --user-agent-info --translate-security-origin=https://translate.yandex.net --enable-offline-auto-reload --enable-offline-auto-reload-visible-only --enable-instaserp --web-zen-origin=https://brozen.yandex.ru/ --enable-pinch --num-raster-threads=2 --enable-gpu-rasterization --enable-zero-copy --enable-gpu-memory-buffer-compositor-resources --enable-main-frame-before-activation --content-image-texture-target=0,0,3553;0,1,3553;0,2,3553;0,3,3553;0,4,3553;0,5,3553;0,6,3553;0,7,3553;0,8,3553;0,9,3553;0,10,34037;0,11,34037;0,12,34037;0,13,3553;0,14,3553;0,15,3553;1,0,3553;1,1,3553;1,2,3553;1,3,3553;1,4,3553;1,5,3553;1,6,3553;1,7,3553;1,8,3553;1,9,3553;1,10,34037;1,11,34037;1,12,34037;1,13,3553;1,14,3553;1,15,3553;2,0,3553;2,1,3553;2,2,3553;2,3,3553;2,4,3553;2,5,34037;2,6,3553;2,7,3553;2,8,3553;2,9,3553;2,10,3553;2,11,3553;2,12,34037;2,13,3553;2,14,34037;2,15,34037;3,0,3553;3,1,3553;3,2,3553;3,3,3553;3,4,3553;3,5,34037;3,6,3553;3,7,3553;3,8,3553;3,9,3553;3,10,3553;3,11,3553;3,12,34037;3,13,3553;3,14,34037;3,15,34037 --service-request-channel-token=46D8E2DCA107C6AEC99E027ED0FB0AF4 --renderer-client-id=9',\n",
       " b'  483   ??  S      0:04.95 /Applications/Yandex.app/Contents/Versions/17.3.0.1896/Yandex Helper.app/Contents/MacOS/Yandex Helper --type=renderer --enable-mse-h264-support --disable-features=CredentialManagementAPI<CredentialManagerAPI --force-fieldtrials=*4dn/0/CredentialManagerAPI/0/DataReductionTrustedSpdyProxy/1/*DeferredMediaExperiment/Enabled/DirectWriteFontProxy/UseDirectWriteFontProxy/IPCDemuxerExperiment/Enabled/JoinThreadWorkaround/1/*NewTabWebContentsCreator/1/*PDO/1/*Precache/Enabled/*PrelaunchRenderers/4/*QUIC/Disabled/*SubresourceInfoCollection/Disabled/acq/2/ad_hide/disabled/adr/0/*ant/2/azd/0/*bad/3/bda/1/bel/0/bkrd/1/*bmrd/0/bra/0/bup/0/*cd1/1/cmp/1/cntb/1/crd/2/*crl/0/*crp/0/db1/2/db2/1/dcvr/1/*dgr/0/dkl/0/*dkn/1/*dks/1/*dkw/0/dlb/1/*dnc/1/*drl/0/drp/0/eaa/2/edc/0/*edn/1/*edt/1/ehwd/1/eif/1/*emhs/1/*epmt/0/esb/1/fbntf/0/fld/1/flt/0/*fnp/0/foc/1/fs3/1/geo/0/*gpf/1/hdp/0/hps/1/hrl/3/*hsh/2/hss/0/hwdx11/1/ifchk/2/inp/1/ipwd/0/*isrp/4/*mdls/1/msp/1/*mss/1/myl/3/nbbl/1/nbi/0/nohw/1/*nse/1/nsr/1/ntsk/1/nyatr/1/o2/0/ocm/1/*od/1/omg/0/opr/1/osr/0/p1/0/p2/0/pas/0/pcm/0/pop/1/prt/1/*pwp/2/qs/e2/raf/2/*rcm/0/*readability/0/rmnbx/0/rr/1/*sad/1/*sbd/1/*sbi/0/sbl/0/*sbm/2/*sbu/2/scb/1/scd/0/*scl/1/scs/0/si9/0/sie/1/*skf/1/smb/1/spa/1/spcu/0/spins/1/spk/1/sxp/1/syr/1/t1/1/*te1/8/tnw/0/*tso/1/*turbo/2/*uas/1/*urr/1/vaa/3/vbp/0/vrb/3/vtchk/1/*vvd/0/*wpm/1/wrr/1/*wzn/1/yal/1/*ybs/0/zav/1/zbl/2/zdd/1/*zen/1/zes/1/zfl/1/zoa/1/zon/1/zsm/1/*zss/1/*zvt/1/ --primordial-pipe-token=42B4261BAF69A299F58F3874DDE7CBC0 --lang=ru --user-id=5BD3B8B1-5360-4140-B7F8-6B79211E98B7 --metrics-client-id=1E2A3359-3248-4E3E-AAB9-8C0E9900CA6C --extension-process --disable-client-side-phishing-detection --brand-id=yandex --help-url=https://api.browser.yandex.ru/redirect/help/ --user-agent-info --translate-security-origin=https://translate.yandex.net --enable-offline-auto-reload --enable-offline-auto-reload-visible-only --enable-instaserp --web-zen-origin=https://brozen.yandex.ru/ --enable-pinch --num-raster-threads=2 --enable-gpu-rasterization --enable-zero-copy --enable-gpu-memory-buffer-compositor-resources --enable-main-frame-before-activation --content-image-texture-target=0,0,3553;0,1,3553;0,2,3553;0,3,3553;0,4,3553;0,5,3553;0,6,3553;0,7,3553;0,8,3553;0,9,3553;0,10,34037;0,11,34037;0,12,34037;0,13,3553;0,14,3553;0,15,3553;1,0,3553;1,1,3553;1,2,3553;1,3,3553;1,4,3553;1,5,3553;1,6,3553;1,7,3553;1,8,3553;1,9,3553;1,10,34037;1,11,34037;1,12,34037;1,13,3553;1,14,3553;1,15,3553;2,0,3553;2,1,3553;2,2,3553;2,3,3553;2,4,3553;2,5,34037;2,6,3553;2,7,3553;2,8,3553;2,9,3553;2,10,3553;2,11,3553;2,12,34037;2,13,3553;2,14,34037;2,15,34037;3,0,3553;3,1,3553;3,2,3553;3,3,3553;3,4,3553;3,5,34037;3,6,3553;3,7,3553;3,8,3553;3,9,3553;3,10,3553;3,11,3553;3,12,34037;3,13,3553;3,14,34037;3,15,34037 --service-request-channel-token=42B4261BAF69A299F58F3874DDE7CBC0 --renderer-client-id=10',\n",
       " b'  490   ??  Ss     1:56.79 /Library/CoreMediaIO/Plug-Ins/DAL/AppleCamera.plugin/Contents/Resources/AppleCameraAssistant',\n",
       " b'  499   ??  S      0:01.89 /usr/sbin/distnoted agent',\n",
       " b'  505   ??  S     18:46.74 /Applications/Yandex.app/Contents/Versions/17.3.0.1896/Yandex Helper.app/Contents/MacOS/Yandex Helper --type=renderer --enable-mse-h264-support --disable-features=CredentialManagementAPI<CredentialManagerAPI --force-fieldtrials=*4dn/0/CredentialManagerAPI/0/DataReductionTrustedSpdyProxy/1/*DeferredMediaExperiment/Enabled/DirectWriteFontProxy/UseDirectWriteFontProxy/IPCDemuxerExperiment/Enabled/JoinThreadWorkaround/1/*NewTabWebContentsCreator/1/*PDO/1/*Precache/Enabled/*PrelaunchRenderers/4/*QUIC/Disabled/*SubresourceInfoCollection/Disabled/acq/2/ad_hide/disabled/adr/0/*ant/2/azd/0/*bad/3/bda/1/*bel/0/bkrd/1/*bmrd/0/*bra/0/bup/0/*cd1/1/cmp/1/cntb/1/crd/2/*crl/0/*crp/0/db1/2/db2/1/dcvr/1/*dgr/0/dkl/0/*dkn/1/*dks/1/*dkw/0/*dlb/1/*dnc/1/*drl/0/drp/0/eaa/2/*edc/0/*edn/1/*edt/1/ehwd/1/eif/1/*emhs/1/*epmt/0/esb/1/fbntf/0/fld/1/flt/0/*fnp/0/*foc/1/fs3/1/geo/0/*gpf/1/hdp/0/hps/1/*hrl/3/*hsh/2/hss/0/hwdx11/1/ifchk/2/inp/1/ipwd/0/*isrp/4/*mdls/1/msp/1/*mss/1/*myl/3/nbbl/1/nbi/0/nohw/1/*nse/1/nsr/1/ntsk/1/nyatr/1/*o2/0/*ocm/1/*od/1/omg/0/opr/1/*osr/0/p1/0/p2/0/pas/0/pcm/0/pop/1/prt/1/*pwp/2/qs/e2/*raf/2/*rcm/0/*readability/0/rmnbx/0/*rr/1/*sad/1/*sbd/1/*sbi/0/sbl/0/*sbm/2/*sbu/2/*scb/1/scd/0/*scl/1/scs/0/si9/0/*sie/1/*skf/1/*smb/1/spa/1/spcu/0/spins/1/spk/1/*sxp/1/*syr/1/t1/1/*te1/8/tnw/0/*tso/1/*turbo/2/*uas/1/*urr/1/vaa/3/*vbp/0/vrb/3/vtchk/1/*vvd/0/*wpm/1/wrr/1/*wzn/1/yal/1/*ybs/0/zav/1/*zbl/2/zdd/1/*zen/1/zes/1/*zfl/1/zoa/1/zon/1/zsm/1/*zss/1/*zvt/1/ --primordial-pipe-token=D9B3C7F976B82B33002DC88D002ECB8C --lang=ru --user-id=5BD3B8B1-5360-4140-B7F8-6B79211E98B7 --metrics-client-id=1E2A3359-3248-4E3E-AAB9-8C0E9900CA6C --disable-client-side-phishing-detection --brand-id=yandex --help-url=https://api.browser.yandex.ru/redirect/help/ --user-agent-info --translate-security-origin=https://translate.yandex.net --enable-offline-auto-reload --enable-offline-auto-reload-visible-only --enable-instaserp --web-zen-origin=https://brozen.yandex.ru/ --enable-pinch --num-raster-threads=2 --enable-gpu-rasterization --enable-zero-copy --enable-gpu-memory-buffer-compositor-resources --enable-main-frame-before-activation --content-image-texture-target=0,0,3553;0,1,3553;0,2,3553;0,3,3553;0,4,3553;0,5,3553;0,6,3553;0,7,3553;0,8,3553;0,9,3553;0,10,34037;0,11,34037;0,12,34037;0,13,3553;0,14,3553;0,15,3553;1,0,3553;1,1,3553;1,2,3553;1,3,3553;1,4,3553;1,5,3553;1,6,3553;1,7,3553;1,8,3553;1,9,3553;1,10,34037;1,11,34037;1,12,34037;1,13,3553;1,14,3553;1,15,3553;2,0,3553;2,1,3553;2,2,3553;2,3,3553;2,4,3553;2,5,34037;2,6,3553;2,7,3553;2,8,3553;2,9,3553;2,10,3553;2,11,3553;2,12,34037;2,13,3553;2,14,34037;2,15,34037;3,0,3553;3,1,3553;3,2,3553;3,3,3553;3,4,3553;3,5,34037;3,6,3553;3,7,3553;3,8,3553;3,9,3553;3,10,3553;3,11,3553;3,12,34037;3,13,3553;3,14,34037;3,15,34037 --service-request-channel-token=D9B3C7F976B82B33002DC88D002ECB8C --renderer-client-id=27',\n",
       " b'  509   ??  S      1:29.10 /Applications/Yandex.app/Contents/Versions/17.3.0.1896/Yandex Helper.app/Contents/MacOS/Yandex Helper --type=renderer --enable-mse-h264-support --disable-features=CredentialManagementAPI<CredentialManagerAPI --force-fieldtrials=*4dn/0/CredentialManagerAPI/0/DataReductionTrustedSpdyProxy/1/*DeferredMediaExperiment/Enabled/DirectWriteFontProxy/UseDirectWriteFontProxy/IPCDemuxerExperiment/Enabled/JoinThreadWorkaround/1/*NewTabWebContentsCreator/1/*PDO/1/*Precache/Enabled/*PrelaunchRenderers/4/*QUIC/Disabled/*SubresourceInfoCollection/Disabled/acq/2/ad_hide/disabled/adr/0/*ant/2/azd/0/*bad/3/bda/1/*bel/0/bkrd/1/*bmrd/0/*bra/0/bup/0/*cd1/1/cmp/1/cntb/1/crd/2/*crl/0/*crp/0/db1/2/db2/1/dcvr/1/*dgr/0/dkl/0/*dkn/1/*dks/1/*dkw/0/*dlb/1/*dnc/1/*drl/0/drp/0/eaa/2/*edc/0/*edn/1/*edt/1/ehwd/1/eif/1/*emhs/1/*epmt/0/esb/1/fbntf/0/fld/1/flt/0/*fnp/0/*foc/1/fs3/1/geo/0/*gpf/1/hdp/0/hps/1/*hrl/3/*hsh/2/hss/0/hwdx11/1/ifchk/2/inp/1/ipwd/0/*isrp/4/*mdls/1/msp/1/*mss/1/*myl/3/nbbl/1/nbi/0/nohw/1/*nse/1/nsr/1/ntsk/1/nyatr/1/*o2/0/*ocm/1/*od/1/omg/0/opr/1/*osr/0/p1/0/p2/0/pas/0/pcm/0/pop/1/prt/1/*pwp/2/qs/e2/*raf/2/*rcm/0/*readability/0/rmnbx/0/*rr/1/*sad/1/*sbd/1/*sbi/0/sbl/0/*sbm/2/*sbu/2/*scb/1/scd/0/*scl/1/scs/0/si9/0/*sie/1/*skf/1/*smb/1/spa/1/spcu/0/spins/1/spk/1/*sxp/1/*syr/1/t1/1/*te1/8/tnw/0/*tso/1/*turbo/2/*uas/1/*urr/1/vaa/3/*vbp/0/vrb/3/vtchk/1/*vvd/0/*wpm/1/wrr/1/*wzn/1/yal/1/*ybs/0/zav/1/*zbl/2/zdd/1/*zen/1/zes/1/*zfl/1/zoa/1/zon/1/zsm/1/*zss/1/*zvt/1/ --primordial-pipe-token=47B45E37E1EF7976FDE02E48072048F7 --lang=ru --user-id=5BD3B8B1-5360-4140-B7F8-6B79211E98B7 --metrics-client-id=1E2A3359-3248-4E3E-AAB9-8C0E9900CA6C --disable-client-side-phishing-detection --brand-id=yandex --help-url=https://api.browser.yandex.ru/redirect/help/ --user-agent-info --translate-security-origin=https://translate.yandex.net --enable-offline-auto-reload --enable-offline-auto-reload-visible-only --enable-instaserp --web-zen-origin=https://brozen.yandex.ru/ --enable-pinch --num-raster-threads=2 --enable-gpu-rasterization --enable-zero-copy --enable-gpu-memory-buffer-compositor-resources --enable-main-frame-before-activation --content-image-texture-target=0,0,3553;0,1,3553;0,2,3553;0,3,3553;0,4,3553;0,5,3553;0,6,3553;0,7,3553;0,8,3553;0,9,3553;0,10,34037;0,11,34037;0,12,34037;0,13,3553;0,14,3553;0,15,3553;1,0,3553;1,1,3553;1,2,3553;1,3,3553;1,4,3553;1,5,3553;1,6,3553;1,7,3553;1,8,3553;1,9,3553;1,10,34037;1,11,34037;1,12,34037;1,13,3553;1,14,3553;1,15,3553;2,0,3553;2,1,3553;2,2,3553;2,3,3553;2,4,3553;2,5,34037;2,6,3553;2,7,3553;2,8,3553;2,9,3553;2,10,3553;2,11,3553;2,12,34037;2,13,3553;2,14,34037;2,15,34037;3,0,3553;3,1,3553;3,2,3553;3,3,3553;3,4,3553;3,5,34037;3,6,3553;3,7,3553;3,8,3553;3,9,3553;3,10,3553;3,11,3553;3,12,34037;3,13,3553;3,14,34037;3,15,34037 --service-request-channel-token=47B45E37E1EF7976FDE02E48072048F7 --renderer-client-id=26',\n",
       " b'  510   ??  S      0:01.81 /System/Library/LoginPlugins/BezelServices.loginPlugin/Contents/Resources/BezelUI/BezelUIServer',\n",
       " b'  511   ??  S      0:14.84 /Applications/Yandex.app/Contents/Versions/17.3.0.1896/Yandex Helper.app/Contents/MacOS/Yandex Helper --type=renderer --enable-mse-h264-support --disable-features=CredentialManagementAPI<CredentialManagerAPI --force-fieldtrials=*4dn/0/CredentialManagerAPI/0/DataReductionTrustedSpdyProxy/1/*DeferredMediaExperiment/Enabled/DirectWriteFontProxy/UseDirectWriteFontProxy/IPCDemuxerExperiment/Enabled/JoinThreadWorkaround/1/*NewTabWebContentsCreator/1/*PDO/1/*Precache/Enabled/*PrelaunchRenderers/4/*QUIC/Disabled/*SubresourceInfoCollection/Disabled/acq/2/ad_hide/disabled/adr/0/*ant/2/azd/0/*bad/3/bda/1/*bel/0/bkrd/1/*bmrd/0/*bra/0/bup/0/*cd1/1/cmp/1/cntb/1/crd/2/*crl/0/*crp/0/db1/2/db2/1/dcvr/1/*dgr/0/dkl/0/*dkn/1/*dks/1/*dkw/0/*dlb/1/*dnc/1/*drl/0/drp/0/eaa/2/*edc/0/*edn/1/*edt/1/ehwd/1/eif/1/*emhs/1/*epmt/0/esb/1/fbntf/0/fld/1/flt/0/*fnp/0/*foc/1/fs3/1/geo/0/*gpf/1/hdp/0/hps/1/*hrl/3/*hsh/2/hss/0/hwdx11/1/ifchk/2/inp/1/ipwd/0/*isrp/4/*mdls/1/msp/1/*mss/1/*myl/3/nbbl/1/nbi/0/nohw/1/*nse/1/nsr/1/ntsk/1/nyatr/1/*o2/0/*ocm/1/*od/1/omg/0/opr/1/*osr/0/p1/0/p2/0/pas/0/pcm/0/pop/1/prt/1/*pwp/2/qs/e2/*raf/2/*rcm/0/*readability/0/rmnbx/0/*rr/1/*sad/1/*sbd/1/*sbi/0/sbl/0/*sbm/2/*sbu/2/*scb/1/scd/0/*scl/1/scs/0/si9/0/*sie/1/*skf/1/*smb/1/spa/1/spcu/0/spins/1/spk/1/*sxp/1/*syr/1/t1/1/*te1/8/tnw/0/*tso/1/*turbo/2/*uas/1/*urr/1/vaa/3/*vbp/0/vrb/3/vtchk/1/*vvd/0/*wpm/1/wrr/1/*wzn/1/yal/1/*ybs/0/zav/1/*zbl/2/zdd/1/*zen/1/zes/1/*zfl/1/zoa/1/zon/1/zsm/1/*zss/1/*zvt/1/ --primordial-pipe-token=B0C266F0FF8E4B128EDCE3E107F3FA97 --lang=ru --user-id=5BD3B8B1-5360-4140-B7F8-6B79211E98B7 --metrics-client-id=1E2A3359-3248-4E3E-AAB9-8C0E9900CA6C --disable-client-side-phishing-detection --brand-id=yandex --help-url=https://api.browser.yandex.ru/redirect/help/ --user-agent-info --translate-security-origin=https://translate.yandex.net --enable-offline-auto-reload --enable-offline-auto-reload-visible-only --enable-instaserp --web-zen-origin=https://brozen.yandex.ru/ --enable-pinch --num-raster-threads=2 --enable-gpu-rasterization --enable-zero-copy --enable-gpu-memory-buffer-compositor-resources --enable-main-frame-before-activation --content-image-texture-target=0,0,3553;0,1,3553;0,2,3553;0,3,3553;0,4,3553;0,5,3553;0,6,3553;0,7,3553;0,8,3553;0,9,3553;0,10,34037;0,11,34037;0,12,34037;0,13,3553;0,14,3553;0,15,3553;1,0,3553;1,1,3553;1,2,3553;1,3,3553;1,4,3553;1,5,3553;1,6,3553;1,7,3553;1,8,3553;1,9,3553;1,10,34037;1,11,34037;1,12,34037;1,13,3553;1,14,3553;1,15,3553;2,0,3553;2,1,3553;2,2,3553;2,3,3553;2,4,3553;2,5,34037;2,6,3553;2,7,3553;2,8,3553;2,9,3553;2,10,3553;2,11,3553;2,12,34037;2,13,3553;2,14,34037;2,15,34037;3,0,3553;3,1,3553;3,2,3553;3,3,3553;3,4,3553;3,5,34037;3,6,3553;3,7,3553;3,8,3553;3,9,3553;3,10,3553;3,11,3553;3,12,34037;3,13,3553;3,14,34037;3,15,34037 --service-request-channel-token=B0C266F0FF8E4B128EDCE3E107F3FA97 --renderer-client-id=20',\n",
       " b'  518   ??  S      0:18.12 /Applications/Yandex.app/Contents/Versions/17.3.0.1896/Yandex Helper.app/Contents/MacOS/Yandex Helper --type=renderer --enable-mse-h264-support --disable-features=CredentialManagementAPI<CredentialManagerAPI --force-fieldtrials=*4dn/0/CredentialManagerAPI/0/DataReductionTrustedSpdyProxy/1/*DeferredMediaExperiment/Enabled/DirectWriteFontProxy/UseDirectWriteFontProxy/IPCDemuxerExperiment/Enabled/JoinThreadWorkaround/1/*NewTabWebContentsCreator/1/*PDO/1/*Precache/Enabled/*PrelaunchRenderers/4/*QUIC/Disabled/*SubresourceInfoCollection/Disabled/acq/2/ad_hide/disabled/adr/0/*ant/2/azd/0/*bad/3/bda/1/*bel/0/bkrd/1/*bmrd/0/*bra/0/bup/0/*cd1/1/cmp/1/cntb/1/crd/2/*crl/0/*crp/0/db1/2/db2/1/dcvr/1/*dgr/0/dkl/0/*dkn/1/*dks/1/*dkw/0/*dlb/1/*dnc/1/*drl/0/drp/0/eaa/2/*edc/0/*edn/1/*edt/1/ehwd/1/eif/1/*emhs/1/*epmt/0/esb/1/fbntf/0/fld/1/flt/0/*fnp/0/*foc/1/fs3/1/geo/0/*gpf/1/hdp/0/hps/1/*hrl/3/*hsh/2/hss/0/hwdx11/1/ifchk/2/inp/1/ipwd/0/*isrp/4/*mdls/1/msp/1/*mss/1/*myl/3/nbbl/1/nbi/0/nohw/1/*nse/1/nsr/1/ntsk/1/nyatr/1/*o2/0/*ocm/1/*od/1/omg/0/opr/1/*osr/0/p1/0/p2/0/pas/0/pcm/0/pop/1/prt/1/*pwp/2/qs/e2/*raf/2/*rcm/0/*readability/0/rmnbx/0/*rr/1/*sad/1/*sbd/1/*sbi/0/sbl/0/*sbm/2/*sbu/2/*scb/1/scd/0/*scl/1/scs/0/si9/0/*sie/1/*skf/1/*smb/1/spa/1/spcu/0/spins/1/spk/1/*sxp/1/*syr/1/t1/1/*te1/8/tnw/0/*tso/1/*turbo/2/*uas/1/*urr/1/vaa/3/*vbp/0/vrb/3/vtchk/1/*vvd/0/*wpm/1/wrr/1/*wzn/1/yal/1/*ybs/0/zav/1/*zbl/2/zdd/1/*zen/1/zes/1/*zfl/1/zoa/1/zon/1/zsm/1/*zss/1/*zvt/1/ --primordial-pipe-token=53BDEDC55CAC528F430D9E07C0F0C220 --lang=ru --user-id=5BD3B8B1-5360-4140-B7F8-6B79211E98B7 --metrics-client-id=1E2A3359-3248-4E3E-AAB9-8C0E9900CA6C --disable-client-side-phishing-detection --brand-id=yandex --help-url=https://api.browser.yandex.ru/redirect/help/ --user-agent-info --translate-security-origin=https://translate.yandex.net --enable-offline-auto-reload --enable-offline-auto-reload-visible-only --enable-instaserp --web-zen-origin=https://brozen.yandex.ru/ --enable-pinch --num-raster-threads=2 --enable-gpu-rasterization --enable-zero-copy --enable-gpu-memory-buffer-compositor-resources --enable-main-frame-before-activation --content-image-texture-target=0,0,3553;0,1,3553;0,2,3553;0,3,3553;0,4,3553;0,5,3553;0,6,3553;0,7,3553;0,8,3553;0,9,3553;0,10,34037;0,11,34037;0,12,34037;0,13,3553;0,14,3553;0,15,3553;1,0,3553;1,1,3553;1,2,3553;1,3,3553;1,4,3553;1,5,3553;1,6,3553;1,7,3553;1,8,3553;1,9,3553;1,10,34037;1,11,34037;1,12,34037;1,13,3553;1,14,3553;1,15,3553;2,0,3553;2,1,3553;2,2,3553;2,3,3553;2,4,3553;2,5,34037;2,6,3553;2,7,3553;2,8,3553;2,9,3553;2,10,3553;2,11,3553;2,12,34037;2,13,3553;2,14,34037;2,15,34037;3,0,3553;3,1,3553;3,2,3553;3,3,3553;3,4,3553;3,5,34037;3,6,3553;3,7,3553;3,8,3553;3,9,3553;3,10,3553;3,11,3553;3,12,34037;3,13,3553;3,14,34037;3,15,34037 --service-request-channel-token=53BDEDC55CAC528F430D9E07C0F0C220 --renderer-client-id=12',\n",
       " b'  519   ??  S      0:00.78 /System/Library/Frameworks/CoreServices.framework/Frameworks/Metadata.framework/Versions/A/Support/mdworker -s mdworker-sizing -c MDSSizingWorker -m com.apple.mdworker.sizing',\n",
       " b'  520   ??  S      0:04.73 /usr/sbin/cfprefsd agent',\n",
       " b'  521   ??  S      0:00.69 /System/Library/Frameworks/CoreServices.framework/Frameworks/Metadata.framework/Versions/A/Support/mdworker -s mdworker-sizing -c MDSSizingWorker -m com.apple.mdworker.sizing',\n",
       " b'  522   ??  S      0:42.73 /System/Library/Frameworks/CoreServices.framework/Frameworks/Metadata.framework/Versions/A/Support/mdworker -s mdworker-sizing -c MDSSizingWorker -m com.apple.mdworker.sizing',\n",
       " b'  523   ??  S     16:54.16 /Applications/Yandex.app/Contents/Versions/17.3.0.1896/Yandex Helper.app/Contents/MacOS/Yandex Helper --type=renderer --enable-mse-h264-support --disable-features=CredentialManagementAPI<CredentialManagerAPI --force-fieldtrials=*4dn/0/CredentialManagerAPI/0/DataReductionTrustedSpdyProxy/1/*DeferredMediaExperiment/Enabled/DirectWriteFontProxy/UseDirectWriteFontProxy/IPCDemuxerExperiment/Enabled/JoinThreadWorkaround/1/*NewTabWebContentsCreator/1/*PDO/1/*Precache/Enabled/*PrelaunchRenderers/4/*QUIC/Disabled/*SubresourceInfoCollection/Disabled/acq/2/ad_hide/disabled/adr/0/*ant/2/azd/0/*bad/3/bda/1/*bel/0/bkrd/1/*bmrd/0/*bra/0/bup/0/*cd1/1/cmp/1/cntb/1/crd/2/*crl/0/*crp/0/db1/2/db2/1/dcvr/1/*dgr/0/dkl/0/*dkn/1/*dks/1/*dkw/0/*dlb/1/*dnc/1/*drl/0/drp/0/eaa/2/*edc/0/*edn/1/*edt/1/ehwd/1/eif/1/*emhs/1/*epmt/0/esb/1/fbntf/0/fld/1/flt/0/*fnp/0/*foc/1/fs3/1/geo/0/*gpf/1/hdp/0/hps/1/*hrl/3/*hsh/2/hss/0/hwdx11/1/ifchk/2/inp/1/ipwd/0/*isrp/4/*mdls/1/msp/1/*mss/1/*myl/3/nbbl/1/nbi/0/nohw/1/*nse/1/nsr/1/ntsk/1/nyatr/1/*o2/0/*ocm/1/*od/1/omg/0/opr/1/*osr/0/p1/0/p2/0/pas/0/pcm/0/pop/1/prt/1/*pwp/2/qs/e2/*raf/2/*rcm/0/*readability/0/rmnbx/0/*rr/1/*sad/1/*sbd/1/*sbi/0/sbl/0/*sbm/2/*sbu/2/*scb/1/scd/0/*scl/1/scs/0/si9/0/*sie/1/*skf/1/*smb/1/spa/1/spcu/0/spins/1/spk/1/*sxp/1/*syr/1/t1/1/*te1/8/tnw/0/*tso/1/*turbo/2/*uas/1/*urr/1/vaa/3/*vbp/0/vrb/3/vtchk/1/*vvd/0/*wpm/1/wrr/1/*wzn/1/yal/1/*ybs/0/zav/1/*zbl/2/zdd/1/*zen/1/zes/1/*zfl/1/zoa/1/zon/1/zsm/1/*zss/1/*zvt/1/ --primordial-pipe-token=ACF6B297AC49C280849C5ECDE6EDF436 --lang=ru --user-id=5BD3B8B1-5360-4140-B7F8-6B79211E98B7 --metrics-client-id=1E2A3359-3248-4E3E-AAB9-8C0E9900CA6C --disable-client-side-phishing-detection --brand-id=yandex --help-url=https://api.browser.yandex.ru/redirect/help/ --user-agent-info --translate-security-origin=https://translate.yandex.net --enable-offline-auto-reload --enable-offline-auto-reload-visible-only --enable-instaserp --web-zen-origin=https://brozen.yandex.ru/ --enable-pinch --num-raster-threads=2 --enable-gpu-rasterization --enable-zero-copy --enable-gpu-memory-buffer-compositor-resources --enable-main-frame-before-activation --content-image-texture-target=0,0,3553;0,1,3553;0,2,3553;0,3,3553;0,4,3553;0,5,3553;0,6,3553;0,7,3553;0,8,3553;0,9,3553;0,10,34037;0,11,34037;0,12,34037;0,13,3553;0,14,3553;0,15,3553;1,0,3553;1,1,3553;1,2,3553;1,3,3553;1,4,3553;1,5,3553;1,6,3553;1,7,3553;1,8,3553;1,9,3553;1,10,34037;1,11,34037;1,12,34037;1,13,3553;1,14,3553;1,15,3553;2,0,3553;2,1,3553;2,2,3553;2,3,3553;2,4,3553;2,5,34037;2,6,3553;2,7,3553;2,8,3553;2,9,3553;2,10,3553;2,11,3553;2,12,34037;2,13,3553;2,14,34037;2,15,34037;3,0,3553;3,1,3553;3,2,3553;3,3,3553;3,4,3553;3,5,34037;3,6,3553;3,7,3553;3,8,3553;3,9,3553;3,10,3553;3,11,3553;3,12,34037;3,13,3553;3,14,34037;3,15,34037 --service-request-channel-token=ACF6B297AC49C280849C5ECDE6EDF436 --renderer-client-id=13',\n",
       " b'  524   ??  S      5:46.18 /Applications/Yandex.app/Contents/Versions/17.3.0.1896/Yandex Helper.app/Contents/MacOS/Yandex Helper --type=renderer --enable-mse-h264-support --disable-features=CredentialManagementAPI<CredentialManagerAPI --force-fieldtrials=*4dn/0/CredentialManagerAPI/0/DataReductionTrustedSpdyProxy/1/*DeferredMediaExperiment/Enabled/DirectWriteFontProxy/UseDirectWriteFontProxy/IPCDemuxerExperiment/Enabled/JoinThreadWorkaround/1/*NewTabWebContentsCreator/1/*PDO/1/*Precache/Enabled/*PrelaunchRenderers/4/*QUIC/Disabled/*SubresourceInfoCollection/Disabled/acq/2/ad_hide/disabled/adr/0/*ant/2/azd/0/*bad/3/bda/1/*bel/0/bkrd/1/*bmrd/0/*bra/0/bup/0/*cd1/1/cmp/1/cntb/1/crd/2/*crl/0/*crp/0/db1/2/db2/1/dcvr/1/*dgr/0/dkl/0/*dkn/1/*dks/1/*dkw/0/*dlb/1/*dnc/1/*drl/0/drp/0/eaa/2/*edc/0/*edn/1/*edt/1/ehwd/1/eif/1/*emhs/1/*epmt/0/esb/1/fbntf/0/fld/1/flt/0/*fnp/0/*foc/1/fs3/1/geo/0/*gpf/1/hdp/0/hps/1/*hrl/3/*hsh/2/hss/0/hwdx11/1/ifchk/2/inp/1/ipwd/0/*isrp/4/*mdls/1/msp/1/*mss/1/*myl/3/nbbl/1/nbi/0/nohw/1/*nse/1/nsr/1/ntsk/1/nyatr/1/*o2/0/*ocm/1/*od/1/omg/0/opr/1/*osr/0/p1/0/p2/0/pas/0/pcm/0/pop/1/prt/1/*pwp/2/qs/e2/*raf/2/*rcm/0/*readability/0/rmnbx/0/*rr/1/*sad/1/*sbd/1/*sbi/0/sbl/0/*sbm/2/*sbu/2/*scb/1/scd/0/*scl/1/scs/0/si9/0/*sie/1/*skf/1/*smb/1/spa/1/spcu/0/spins/1/spk/1/*sxp/1/*syr/1/t1/1/*te1/8/tnw/0/*tso/1/*turbo/2/*uas/1/*urr/1/vaa/3/*vbp/0/vrb/3/vtchk/1/*vvd/0/*wpm/1/wrr/1/*wzn/1/yal/1/*ybs/0/zav/1/*zbl/2/zdd/1/*zen/1/zes/1/*zfl/1/zoa/1/zon/1/zsm/1/*zss/1/*zvt/1/ --primordial-pipe-token=B397019FCDEB205AD2CE78BD9327B102 --lang=ru --user-id=5BD3B8B1-5360-4140-B7F8-6B79211E98B7 --metrics-client-id=1E2A3359-3248-4E3E-AAB9-8C0E9900CA6C --disable-client-side-phishing-detection --brand-id=yandex --help-url=https://api.browser.yandex.ru/redirect/help/ --user-agent-info --translate-security-origin=https://translate.yandex.net --enable-offline-auto-reload --enable-offline-auto-reload-visible-only --enable-instaserp --web-zen-origin=https://brozen.yandex.ru/ --enable-pinch --num-raster-threads=2 --enable-gpu-rasterization --enable-zero-copy --enable-gpu-memory-buffer-compositor-resources --enable-main-frame-before-activation --content-image-texture-target=0,0,3553;0,1,3553;0,2,3553;0,3,3553;0,4,3553;0,5,3553;0,6,3553;0,7,3553;0,8,3553;0,9,3553;0,10,34037;0,11,34037;0,12,34037;0,13,3553;0,14,3553;0,15,3553;1,0,3553;1,1,3553;1,2,3553;1,3,3553;1,4,3553;1,5,3553;1,6,3553;1,7,3553;1,8,3553;1,9,3553;1,10,34037;1,11,34037;1,12,34037;1,13,3553;1,14,3553;1,15,3553;2,0,3553;2,1,3553;2,2,3553;2,3,3553;2,4,3553;2,5,34037;2,6,3553;2,7,3553;2,8,3553;2,9,3553;2,10,3553;2,11,3553;2,12,34037;2,13,3553;2,14,34037;2,15,34037;3,0,3553;3,1,3553;3,2,3553;3,3,3553;3,4,3553;3,5,34037;3,6,3553;3,7,3553;3,8,3553;3,9,3553;3,10,3553;3,11,3553;3,12,34037;3,13,3553;3,14,34037;3,15,34037 --service-request-channel-token=B397019FCDEB205AD2CE78BD9327B102 --renderer-client-id=11',\n",
       " b'  527   ??  Ss     0:16.92 /usr/libexec/systemstatsd',\n",
       " b'  541   ??  Ss     0:13.29 sysmond',\n",
       " b'  564   ??  S      0:00.06 /System/Library/PrivateFrameworks/KerberosHelper/Helpers/DiskUnmountWatcher',\n",
       " b'  586   ??  Ss     0:03.69 /usr/sbin/systemstats --xpc',\n",
       " b'  587   ??  S      0:00.02 /System/Library/Frameworks/CoreServices.framework/Frameworks/Metadata.framework/Versions/A/Support/mdflagwriter',\n",
       " b'  590   ??  SNs    0:00.02 /usr/libexec/periodic-wrapper daily',\n",
       " b'  709   ??  S      2:49.94 /Applications/iTerm.app/Contents/MacOS/iTerm2',\n",
       " b'  741   ??  Ss     0:12.57 tmux',\n",
       " b'  777   ??  Ss     0:00.05 /System/Library/Frameworks/AudioToolbox.framework/XPCServices/com.apple.audio.SandboxHelper.xpc/Contents/MacOS/com.apple.audio.SandboxHelper',\n",
       " b'  793   ??  S      2:21.49 /Applications/Yandex.app/Contents/Versions/17.3.0.1896/Yandex Helper.app/Contents/MacOS/Yandex Helper --type=renderer --enable-mse-h264-support --disable-features=CredentialManagementAPI<CredentialManagerAPI --force-fieldtrials=*4dn/0/CredentialManagerAPI/0/DataReductionTrustedSpdyProxy/1/*DeferredMediaExperiment/Enabled/DirectWriteFontProxy/UseDirectWriteFontProxy/IPCDemuxerExperiment/Enabled/JoinThreadWorkaround/1/*NewTabWebContentsCreator/1/*PDO/1/*Precache/Enabled/*PrelaunchRenderers/4/*QUIC/Disabled/*SubresourceInfoCollection/Disabled/acq/2/ad_hide/disabled/adr/0/*ant/2/azd/0/*bad/3/bda/1/*bel/0/bkrd/1/*bmrd/0/*bra/0/bup/0/*cd1/1/cmp/1/cntb/1/crd/2/*crl/0/*crp/0/db1/2/db2/1/dcvr/1/*dgr/0/dkl/0/*dkn/1/*dks/1/*dkw/0/*dlb/1/*dnc/1/*drl/0/drp/0/eaa/2/*edc/0/*edn/1/*edt/1/ehwd/1/eif/1/*emhs/1/*epmt/0/esb/1/fbntf/0/fld/1/flt/0/*fnp/0/*foc/1/fs3/1/geo/0/*gpf/1/hdp/0/hps/1/*hrl/3/*hsh/2/hss/0/hwdx11/1/ifchk/2/inp/1/ipwd/0/*isrp/4/*mdls/1/msp/1/*mss/1/*myl/3/nbbl/1/nbi/0/nohw/1/*nse/1/*nsr/1/ntsk/1/nyatr/1/*o2/0/*ocm/1/*od/1/omg/0/opr/1/*osr/0/p1/0/p2/0/pas/0/pcm/0/pop/1/prt/1/*pwp/2/qs/e2/*raf/2/*rcm/0/*readability/0/rmnbx/0/*rr/1/*sad/1/*sbd/1/*sbi/0/sbl/0/*sbm/2/*sbu/2/*scb/1/scd/0/*scl/1/scs/0/si9/0/*sie/1/*skf/1/*smb/1/spa/1/spcu/0/spins/1/spk/1/*sxp/1/*syr/1/t1/1/*te1/8/tnw/0/*tso/1/*turbo/2/*uas/1/*urr/1/vaa/3/*vbp/0/vrb/3/vtchk/1/*vvd/0/*wpm/1/wrr/1/*wzn/1/yal/1/*ybs/0/zav/1/*zbl/2/zdd/1/*zen/1/zes/1/*zfl/1/zoa/1/zon/1/zsm/1/*zss/1/*zvt/1/ --primordial-pipe-token=2D6081BD600165D3C0B5BA91DEDD562C --lang=ru --user-id=5BD3B8B1-5360-4140-B7F8-6B79211E98B7 --metrics-client-id=1E2A3359-3248-4E3E-AAB9-8C0E9900CA6C --disable-client-side-phishing-detection --brand-id=yandex --help-url=https://api.browser.yandex.ru/redirect/help/ --user-agent-info --translate-security-origin=https://translate.yandex.net --enable-offline-auto-reload --enable-offline-auto-reload-visible-only --enable-instaserp --web-zen-origin=https://brozen.yandex.ru/ --enable-pinch --num-raster-threads=2 --enable-gpu-rasterization --enable-zero-copy --enable-gpu-memory-buffer-compositor-resources --enable-main-frame-before-activation --content-image-texture-target=0,0,3553;0,1,3553;0,2,3553;0,3,3553;0,4,3553;0,5,3553;0,6,3553;0,7,3553;0,8,3553;0,9,3553;0,10,34037;0,11,34037;0,12,34037;0,13,3553;0,14,3553;0,15,3553;1,0,3553;1,1,3553;1,2,3553;1,3,3553;1,4,3553;1,5,3553;1,6,3553;1,7,3553;1,8,3553;1,9,3553;1,10,34037;1,11,34037;1,12,34037;1,13,3553;1,14,3553;1,15,3553;2,0,3553;2,1,3553;2,2,3553;2,3,3553;2,4,3553;2,5,34037;2,6,3553;2,7,3553;2,8,3553;2,9,3553;2,10,3553;2,11,3553;2,12,34037;2,13,3553;2,14,34037;2,15,34037;3,0,3553;3,1,3553;3,2,3553;3,3,3553;3,4,3553;3,5,34037;3,6,3553;3,7,3553;3,8,3553;3,9,3553;3,10,3553;3,11,3553;3,12,34037;3,13,3553;3,14,34037;3,15,34037 --service-request-channel-token=2D6081BD600165D3C0B5BA91DEDD562C --renderer-client-id=57',\n",
       " b'  837   ??  S      0:00.21 /System/Library/Frameworks/ApplicationServices.framework/Versions/A/Frameworks/HIServices.framework/Versions/A/XPCServices/com.apple.hiservices-xpcservice.xpc/Contents/MacOS/com.apple.hiservices-xpcservice',\n",
       " b'  839   ??  S      0:22.82 /Applications/Yandex.app/Contents/Versions/17.3.0.1896/Yandex Helper.app/Contents/MacOS/Yandex Helper --type=renderer --enable-mse-h264-support --disable-features=CredentialManagementAPI<CredentialManagerAPI --force-fieldtrials=*4dn/0/*CredentialManagerAPI/0/DataReductionTrustedSpdyProxy/1/*DeferredMediaExperiment/Enabled/DirectWriteFontProxy/UseDirectWriteFontProxy/IPCDemuxerExperiment/Enabled/JoinThreadWorkaround/1/*NewTabWebContentsCreator/1/*PDO/1/*Precache/Enabled/*PrelaunchRenderers/4/*QUIC/Disabled/*SubresourceInfoCollection/Disabled/acq/2/ad_hide/disabled/adr/0/*ant/2/azd/0/*bad/3/bda/1/*bel/0/bkrd/1/*bmrd/0/*bra/0/bup/0/*cd1/1/cmp/1/cntb/1/crd/2/*crl/0/*crp/0/db1/2/db2/1/dcvr/1/*dgr/0/*dkl/0/*dkn/1/*dks/1/*dkw/0/*dlb/1/*dnc/1/*drl/0/drp/0/eaa/2/*edc/0/*edn/1/*edt/1/ehwd/1/eif/1/*emhs/1/*epmt/0/esb/1/fbntf/0/fld/1/flt/0/*fnp/0/*foc/1/fs3/1/geo/0/*gpf/1/hdp/0/hps/1/*hrl/3/*hsh/2/hss/0/hwdx11/1/ifchk/2/inp/1/ipwd/0/*isrp/4/*mdls/1/msp/1/*mss/1/*myl/3/nbbl/1/nbi/0/nohw/1/*nse/1/*nsr/1/ntsk/1/nyatr/1/*o2/0/*ocm/1/*od/1/omg/0/opr/1/*osr/0/p1/0/p2/0/pas/0/pcm/0/pop/1/prt/1/*pwp/2/qs/e2/*raf/2/*rcm/0/*readability/0/rmnbx/0/*rr/1/*sad/1/*sbd/1/*sbi/0/sbl/0/*sbm/2/*sbu/2/*scb/1/scd/0/*scl/1/scs/0/si9/0/*sie/1/*skf/1/*smb/1/spa/1/spcu/0/spins/1/spk/1/*sxp/1/*syr/1/t1/1/*te1/8/tnw/0/*tso/1/*turbo/2/*uas/1/*urr/1/vaa/3/*vbp/0/vrb/3/vtchk/1/*vvd/0/*wpm/1/wrr/1/*wzn/1/yal/1/*ybs/0/zav/1/*zbl/2/zdd/1/*zen/1/zes/1/*zfl/1/zoa/1/zon/1/zsm/1/*zss/1/*zvt/1/ --primordial-pipe-token=8ED4318A4C949FA7423570296A4FB14F --lang=ru --user-id=5BD3B8B1-5360-4140-B7F8-6B79211E98B7 --metrics-client-id=1E2A3359-3248-4E3E-AAB9-8C0E9900CA6C --disable-client-side-phishing-detection --brand-id=yandex --help-url=https://api.browser.yandex.ru/redirect/help/ --user-agent-info --translate-security-origin=https://translate.yandex.net --enable-offline-auto-reload --enable-offline-auto-reload-visible-only --enable-instaserp --web-zen-origin=https://brozen.yandex.ru/ --enable-pinch --num-raster-threads=2 --enable-gpu-rasterization --enable-zero-copy --enable-gpu-memory-buffer-compositor-resources --enable-main-frame-before-activation --content-image-texture-target=0,0,3553;0,1,3553;0,2,3553;0,3,3553;0,4,3553;0,5,3553;0,6,3553;0,7,3553;0,8,3553;0,9,3553;0,10,34037;0,11,34037;0,12,34037;0,13,3553;0,14,3553;0,15,3553;1,0,3553;1,1,3553;1,2,3553;1,3,3553;1,4,3553;1,5,3553;1,6,3553;1,7,3553;1,8,3553;1,9,3553;1,10,34037;1,11,34037;1,12,34037;1,13,3553;1,14,3553;1,15,3553;2,0,3553;2,1,3553;2,2,3553;2,3,3553;2,4,3553;2,5,34037;2,6,3553;2,7,3553;2,8,3553;2,9,3553;2,10,3553;2,11,3553;2,12,34037;2,13,3553;2,14,34037;2,15,34037;3,0,3553;3,1,3553;3,2,3553;3,3,3553;3,4,3553;3,5,34037;3,6,3553;3,7,3553;3,8,3553;3,9,3553;3,10,3553;3,11,3553;3,12,34037;3,13,3553;3,14,34037;3,15,34037 --service-request-channel-token=8ED4318A4C949FA7423570296A4FB14F --renderer-client-id=79',\n",
       " b'  861   ??  S      0:01.13 /System/Library/PrivateFrameworks/CoreSpotlight.framework/Support/com.apple.spotlight.IndexAgent',\n",
       " b'  964   ??  S      0:12.72 /usr/bin/ssh-agent -l',\n",
       " b' 1239   ??  S      2:22.54 /Applications/Yandex.app/Contents/Versions/17.3.0.1896/Yandex Helper.app/Contents/MacOS/Yandex Helper --type=renderer --enable-mse-h264-support --disable-features=CredentialManagementAPI<CredentialManagerAPI --force-fieldtrials=*4dn/0/*CredentialManagerAPI/0/DataReductionTrustedSpdyProxy/1/*DeferredMediaExperiment/Enabled/DirectWriteFontProxy/UseDirectWriteFontProxy/IPCDemuxerExperiment/Enabled/JoinThreadWorkaround/1/*NewTabWebContentsCreator/1/*PDO/1/*Precache/Enabled/*PrelaunchRenderers/4/*QUIC/Disabled/*SubresourceInfoCollection/Disabled/acq/2/ad_hide/disabled/adr/0/*ant/2/azd/0/*bad/3/bda/1/*bel/0/bkrd/1/*bmrd/0/*bra/0/bup/0/*cd1/1/cmp/1/cntb/1/crd/2/*crl/0/*crp/0/db1/2/db2/1/dcvr/1/*dgr/0/*dkl/0/*dkn/1/*dks/1/*dkw/0/*dlb/1/*dnc/1/*drl/0/drp/0/eaa/2/*edc/0/*edn/1/*edt/1/ehwd/1/eif/1/*emhs/1/*epmt/0/esb/1/fbntf/0/fld/1/flt/0/*fnp/0/*foc/1/fs3/1/geo/0/*gpf/1/hdp/0/hps/1/*hrl/3/*hsh/2/hss/0/hwdx11/1/ifchk/2/inp/1/ipwd/0/*isrp/4/*mdls/1/msp/1/*mss/1/*myl/3/nbbl/1/nbi/0/nohw/1/*nse/1/*nsr/1/ntsk/1/nyatr/1/*o2/0/*ocm/1/*od/1/omg/0/opr/1/*osr/0/p1/0/p2/0/pas/0/pcm/0/pop/1/prt/1/*pwp/2/qs/e2/*raf/2/*rcm/0/*readability/0/rmnbx/0/*rr/1/*sad/1/*sbd/1/*sbi/0/sbl/0/*sbm/2/*sbu/2/*scb/1/scd/0/*scl/1/scs/0/si9/0/*sie/1/*skf/1/*smb/1/spa/1/spcu/0/spins/1/spk/1/*sxp/1/*syr/1/t1/1/*te1/8/tnw/0/*tso/1/*turbo/2/*uas/1/*urr/1/vaa/3/*vbp/0/vrb/3/vtchk/1/*vvd/0/*wpm/1/wrr/1/*wzn/1/yal/1/*ybs/0/zav/1/*zbl/2/zdd/1/*zen/1/zes/1/*zfl/1/zoa/1/zon/1/zsm/1/*zss/1/*zvt/1/ --primordial-pipe-token=E49B04DCDE471EAED05ECF294CF66AE2 --lang=ru --user-id=5BD3B8B1-5360-4140-B7F8-6B79211E98B7 --metrics-client-id=1E2A3359-3248-4E3E-AAB9-8C0E9900CA6C --disable-client-side-phishing-detection --brand-id=yandex --help-url=https://api.browser.yandex.ru/redirect/help/ --user-agent-info --translate-security-origin=https://translate.yandex.net --enable-offline-auto-reload --enable-offline-auto-reload-visible-only --enable-instaserp --web-zen-origin=https://brozen.yandex.ru/ --enable-pinch --num-raster-threads=2 --enable-gpu-rasterization --enable-zero-copy --enable-gpu-memory-buffer-compositor-resources --enable-main-frame-before-activation --content-image-texture-target=0,0,3553;0,1,3553;0,2,3553;0,3,3553;0,4,3553;0,5,3553;0,6,3553;0,7,3553;0,8,3553;0,9,3553;0,10,34037;0,11,34037;0,12,34037;0,13,3553;0,14,3553;0,15,3553;1,0,3553;1,1,3553;1,2,3553;1,3,3553;1,4,3553;1,5,3553;1,6,3553;1,7,3553;1,8,3553;1,9,3553;1,10,34037;1,11,34037;1,12,34037;1,13,3553;1,14,3553;1,15,3553;2,0,3553;2,1,3553;2,2,3553;2,3,3553;2,4,3553;2,5,34037;2,6,3553;2,7,3553;2,8,3553;2,9,3553;2,10,3553;2,11,3553;2,12,34037;2,13,3553;2,14,34037;2,15,34037;3,0,3553;3,1,3553;3,2,3553;3,3,3553;3,4,3553;3,5,34037;3,6,3553;3,7,3553;3,8,3553;3,9,3553;3,10,3553;3,11,3553;3,12,34037;3,13,3553;3,14,34037;3,15,34037 --service-request-channel-token=E49B04DCDE471EAED05ECF294CF66AE2 --renderer-client-id=103',\n",
       " b' 1261   ??  Ss     0:02.29 /usr/libexec/syspolicyd',\n",
       " b' 1262   ??  S      0:00.20 /System/Library/PrivateFrameworks/BookKit.framework/Versions/A/XPCServices/com.apple.BKAgentService.xpc/Contents/MacOS/com.apple.BKAgentService',\n",
       " b' 1265   ??  S      0:00.11 /System/Library/Frameworks/ApplicationServices.framework/Frameworks/PrintCore.framework/Versions/A/printtool agent',\n",
       " b' 1290   ??  S      0:00.89 /System/Library/Frameworks/ApplicationServices.framework/Frameworks/SpeechSynthesis.framework/Resources/com.apple.speech.speechsynthesisd',\n",
       " b' 1362   ??  S      0:00.82 /System/Library/CoreServices/EscrowSecurityAlert.app/Contents/MacOS/EscrowSecurityAlert',\n",
       " b' 1373   ??  Ss     0:08.34 /System/Library/CoreServices/loginwindow.app/Contents/MacOS/loginwindow',\n",
       " b' 1390   ??  S      0:09.23 /usr/libexec/UserEventAgent (Aqua)',\n",
       " b' 1392   ??  S      0:18.12 /usr/sbin/distnoted agent',\n",
       " b' 1394   ??  S      0:19.84 /System/Library/Frameworks/CoreTelephony.framework/Support/CommCenter',\n",
       " b' 1395   ??  S      0:00.61 /usr/libexec/lsd',\n",
       " b' 1400   ??  S      2:32.82 /Applications/Safari.app/Contents/MacOS/Safari -psn_0_340051',\n",
       " b' 1401   ??  S      0:00.58 /System/Library/CoreServices/sharedfilelistd',\n",
       " b' 1404   ??  S      0:00.87 /System/Library/CoreServices/CoreServicesUIAgent.app/Contents/MacOS/CoreServicesUIAgent',\n",
       " b' 1405   ??  S      1:12.67 /System/Library/PrivateFrameworks/IDS.framework/identityservicesd.app/Contents/MacOS/identityservicesd',\n",
       " b' 1406   ??  S      0:00.27 /usr/libexec/secd',\n",
       " b' 1407   ??  S      0:02.79 /usr/sbin/usernoted',\n",
       " b' 1408   ??  S      0:03.65 /System/Library/PrivateFrameworks/CalendarAgent.framework/Executables/CalendarAgent',\n",
       " b' 1409   ??  S      0:00.28 /usr/libexec/nsurlsessiond',\n",
       " b' 1411   ??  S      0:00.57 /usr/libexec/secinitd',\n",
       " b' 1412   ??  S      0:00.02 /usr/sbin/pboard',\n",
       " b' 1413   ??  S      0:03.34 /System/Library/CoreServices/Dock.app/Contents/MacOS/Dock',\n",
       " b' 1415   ??  U      0:29.78 /System/Library/CoreServices/SystemUIServer.app/Contents/MacOS/SystemUIServer',\n",
       " b' 1416   ??  R      0:05.50 /System/Library/CoreServices/Finder.app/Contents/MacOS/Finder',\n",
       " b' 1420   ??  S      0:04.96 /System/Library/Frameworks/ApplicationServices.framework/Frameworks/ATS.framework/Support/fontd',\n",
       " b' 1421   ??  S      0:01.39 /System/Library/CoreServices/Spotlight.app/Contents/MacOS/Spotlight',\n",
       " b' 1422   ??  Ss     0:02.35 /System/Library/PrivateFrameworks/CalendarAgent.framework/Versions/A/XPCServices/CalNCService.xpc/Contents/MacOS/CalNCService',\n",
       " b' 1424   ??  S      0:02.55 /usr/libexec/sharingd',\n",
       " b' 1425   ??  S      0:00.15 /System/Library/CoreServices/iconservicesagent',\n",
       " b' 1426   ??  S      0:01.94 /System/Library/PrivateFrameworks/UserActivity.framework/Agents/useractivityd',\n",
       " b' 1427   ??  Ss     0:00.70 /System/Library/CoreServices/Dock.app/Contents/XPCServices/com.apple.dock.extra.xpc/Contents/MacOS/com.apple.dock.extra',\n",
       " b' 1428   ??  Ss     0:01.90 /System/Library/PrivateFrameworks/CoreWLANKit.framework/Versions/A/XPCServices/WiFiProxy.xpc/Contents/MacOS/WiFiProxy',\n",
       " b' 1429   ??  S      0:00.44 /System/Library/PrivateFrameworks/TCC.framework/Resources/tccd',\n",
       " b' 1430   ??  S      0:07.21 /usr/libexec/pkd',\n",
       " b' 1431   ??  S      0:00.44 /System/Library/PrivateFrameworks/CloudDocsDaemon.framework/Versions/A/Support/bird',\n",
       " b' 1432   ??  S      0:04.94 /usr/libexec/swcd',\n",
       " b' 1434   ??  S      0:02.89 /System/Library/Frameworks/Accounts.framework/Versions/A/Support/accountsd',\n",
       " b' 1435   ??  S      0:00.53 /System/Library/PrivateFrameworks/MessagesKit.framework/Resources/soagent.app/Contents/MacOS/soagent',\n",
       " b' 1436   ??  S      0:00.77 /System/Library/Frameworks/AddressBook.framework/Versions/A/XPCServices/com.apple.AddressBook.ContactsAccountsService.xpc/Contents/MacOS/com.apple.AddressBook.ContactsAccountsService',\n",
       " b' 1437   ??  S      1:21.75 /System/Library/PrivateFrameworks/ParsecUI.framework/Versions/A/Support/SpotlightNetHelper.app/Contents/MacOS/SpotlightNetHelper',\n",
       " b' 1438   ??  S      1:16.52 /System/Library/PrivateFrameworks/IMCore.framework/imagent.app/Contents/MacOS/imagent',\n",
       " b' 1439   ??  S      0:31.53 /usr/libexec/nsurlstoraged',\n",
       " b' 1440   ??  S      1:12.76 /System/Library/PrivateFrameworks/CommerceKit.framework/Versions/A/Resources/storeaccountd',\n",
       " b' 1441   ??  S      0:00.14 /System/Library/PrivateFrameworks/CallHistory.framework/Support/CallHistoryPluginHelper',\n",
       " b' 1442   ??  S      0:00.17 /System/Library/PrivateFrameworks/IMDPersistence.framework/XPCServices/IMDPersistenceAgent.xpc/Contents/MacOS/IMDPersistenceAgent',\n",
       " b' 1444   ??  S      1:21.01 /System/Library/PrivateFrameworks/CommerceKit.framework/Versions/A/Resources/storeassetd',\n",
       " b' 1445   ??  S      0:00.67 /System/Library/PrivateFrameworks/TelephonyUtilities.framework/callservicesd',\n",
       " b' 1450   ??  Ss     1:07.58 /System/Library/PrivateFrameworks/IMFoundation.framework/XPCServices/IMRemoteURLConnectionAgent.xpc/Contents/MacOS/IMRemoteURLConnectionAgent',\n",
       " b' 1456   ??  S      0:05.48 /usr/libexec/fmfd',\n",
       " b' 1460   ??  S      0:06.28 /System/Library/PrivateFrameworks/CoreSuggestions.framework/Versions/A/Support/suggestd',\n",
       " b' 1464   ??  S      0:00.05 /System/Library/Frameworks/CoreServices.framework/Frameworks/Metadata.framework/Versions/A/Support/mdflagwriter',\n",
       " b' 1465   ??  Ss     0:00.15 /usr/sbin/spindump',\n",
       " b' 1466   ??  S      0:00.07 /usr/libexec/spindump_agent',\n",
       " b' 1467   ??  Ss     0:00.65 /System/Library/CoreServices/SubmitDiagInfo server-init',\n",
       " b' 1468   ??  S      0:00.10 /System/Library/Frameworks/Security.framework/Versions/A/Resources/CloudKeychainProxy.bundle/Contents/MacOS/CloudKeychainProxy',\n",
       " b' 1469   ??  S      0:00.13 /System/Library/Frameworks/Security.framework/Versions/A/Resources/IDSKeychainSyncingProxy.bundle/Contents/MacOS/IDSKeychainSyncingProxy',\n",
       " b' 1471   ??  Us     3:53.48 /System/Library/Frameworks/WebKit.framework/Versions/A/XPCServices/com.apple.WebKit.Networking.xpc/Contents/MacOS/com.apple.WebKit.Networking',\n",
       " b' 1472   ??  Ss     3:31.28 /System/Library/Frameworks/WebKit.framework/Versions/A/XPCServices/com.apple.WebKit.WebContent.xpc/Contents/MacOS/com.apple.WebKit.WebContent',\n",
       " b' 1474   ??  S      0:00.21 /System/Library/PrivateFrameworks/DataDetectorsCore.framework/Versions/A/XPCServices/DataDetectorsDynamicData.xpc/Contents/MacOS/DataDetectorsDynamicData',\n",
       " b' 1478   ??  Us    77:16.61 /System/Library/Frameworks/WebKit.framework/Versions/A/XPCServices/com.apple.WebKit.WebContent.xpc/Contents/MacOS/com.apple.WebKit.WebContent',\n",
       " b' 1480   ??  S      1:35.24 /System/Library/PrivateFrameworks/SafariSafeBrowsing.framework/com.apple.Safari.SafeBrowsing.Service',\n",
       " b' 1481   ??  Ss     0:00.15 /System/Library/Frameworks/Metal.framework/Versions/A/XPCServices/MTLCompilerService.xpc/Contents/MacOS/MTLCompilerService',\n",
       " b' 1482   ??  S      0:00.22 /System/Library/CoreServices/FolderActionsDispatcher.app/Contents/MacOS/FolderActionsDispatcher',\n",
       " b' 1484   ??  S      0:00.45 /System/Library/CoreServices/SocialPushAgent.app/Contents/MacOS/SocialPushAgent',\n",
       " b' 1486   ??  S      0:00.23 /System/Library/CoreServices/Keychain Circle Notification.app/Contents/MacOS/Keychain Circle Notification',\n",
       " b' 1489   ??  S      0:06.14 /System/Library/CoreServices/NotificationCenter.app/Contents/MacOS/NotificationCenter',\n",
       " b' 1492   ??  S      1:19.55 /System/Library/CoreServices/AppleIDAuthAgent',\n",
       " b' 1495   ??  S      0:00.35 /System/Library/PrivateFrameworks/AskPermission.framework/Versions/A/Resources/askpermissiond',\n",
       " b' 1496   ??  S      0:01.05 /System/Library/CoreServices/AirPlayUIAgent.app/Contents/MacOS/AirPlayUIAgent --launchd',\n",
       " b' 1497   ??  S      0:01.05 /System/Library/CoreServices/cloudpaird',\n",
       " b' 1500   ??  S      0:00.49 /System/Library/CoreServices/WiFiAgent.app/Contents/MacOS/WiFiAgent',\n",
       " b' 1501   ??  S      0:01.16 /System/Library/CoreServices/diagnostics_agent',\n",
       " b' 1506   ??  S      0:00.58 /System/Library/CoreServices/Menu Extras/TextInput.menu/Contents/SharedSupport/TISwitcher.app/Contents/MacOS/TISwitcher',\n",
       " b' 1507   ??  S      1:16.31 /System/Library/CoreServices/mapspushd',\n",
       " b' 1508   ??  S      0:00.47 /System/Library/PrivateFrameworks/CallHistory.framework/Support/CallHistorySyncHelper',\n",
       " b' 1509   ??  S      1:20.13 /System/Library/PrivateFrameworks/AuthKit.framework/Versions/A/Support/akd',\n",
       " b' 1510   ??  S      1:24.10 /System/Library/PrivateFrameworks/GeoServices.framework/Versions/A/XPCServices/com.apple.geod.xpc/Contents/MacOS/com.apple.geod',\n",
       " b' 1511   ??  S      0:03.31 /System/Library/PrivateFrameworks/CloudKitDaemon.framework/Support/cloudd',\n",
       " b' 1514   ??  Ss     0:00.13 /System/Library/CoreServices/NotificationCenter.app/Contents/XPCServices/com.apple.notificationcenterui.WeatherSummary.xpc/Contents/MacOS/com.apple.notificationcenterui.WeatherSummary',\n",
       " b' 1515   ??  Ss     1:17.81 /System/Library/PrivateFrameworks/WeatherKit.framework/Versions/A/XPCServices/com.apple.WeatherKitService.xpc/Contents/MacOS/com.apple.WeatherKitService',\n",
       " b' 1519   ??  S      0:00.18 /System/Library/CoreServices/pbs',\n",
       " b' 1527   ??  S      0:00.25 /System/Library/Services/AppleSpell.service/Contents/MacOS/AppleSpell -psn_0_483446',\n",
       " b' 1529   ??  S      0:00.29 /System/Library/Frameworks/InputMethodKit.framework/Versions/A/XPCServices/com.apple.InputMethodKit.TextReplacementService.xpc/Contents/MacOS/com.apple.InputMethodKit.TextReplacementService',\n",
       " b' 1538   ??  Ss     0:00.06 /System/Library/Frameworks/AudioToolbox.framework/XPCServices/com.apple.audio.SandboxHelper.xpc/Contents/MacOS/com.apple.audio.SandboxHelper',\n",
       " b' 1539   ??  Ss     0:00.13 /System/Library/Frameworks/AudioToolbox.framework/XPCServices/com.apple.audio.ComponentHelper.xpc/Contents/MacOS/com.apple.audio.ComponentHelper',\n",
       " b' 1584   ??  S      0:00.05 /System/Library/PrivateFrameworks/KerberosHelper/Helpers/DiskUnmountWatcher',\n",
       " b' 1587   ??  S      0:00.12 /System/Library/PrivateFrameworks/CommerceKit.framework/Versions/A/Resources/storelegacy',\n",
       " b' 1588   ??  S      0:00.32 /System/Library/PrivateFrameworks/CommerceKit.framework/Resources/LaterAgent.app/Contents/MacOS/LaterAgent',\n",
       " b' 1589   ??  S      0:00.17 /System/Library/PrivateFrameworks/CommerceKit.framework/Versions/A/Resources/storedownloadd',\n",
       " b' 1594   ??  S      0:00.06 /usr/libexec/USBAgent',\n",
       " b' 1609   ??  S      0:00.28 /System/Library/LoginPlugins/BezelServices.loginPlugin/Contents/Resources/BezelUI/BezelUIServer',\n",
       " b' 1614   ??  S      0:01.50 /System/Library/CoreServices/cloudphotosd.app/Contents/MacOS/cloudphotosd',\n",
       " b' 1615   ??  S      0:00.24 /System/Library/PrivateFrameworks/CloudPhotoServices.framework/Versions/A/Frameworks/CloudPhotosConfigurationXPC.framework/Versions/A/XPCServices/com.apple.CloudPhotosConfiguration.xpc/Contents/MacOS/com.apple.CloudPhotosConfiguration',\n",
       " b' 1616   ??  S      0:00.14 /System/Library/PrivateFrameworks/PhotoLibraryPrivate.framework/Versions/A/Support/photolibraryd',\n",
       " b' 1637   ??  S      0:00.33 /System/Library/CoreServices/EscrowSecurityAlert.app/Contents/MacOS/EscrowSecurityAlert',\n",
       " b' 1805   ??  S      0:00.18 /System/Library/PrivateFrameworks/BookKit.framework/Versions/A/XPCServices/com.apple.BKAgentService.xpc/Contents/MacOS/com.apple.BKAgentService',\n",
       " b' 1806   ??  S      0:00.10 /System/Library/CoreServices/ScopedBookmarkAgent',\n",
       " b' 1810   ??  S      0:00.17 /Applications/iTunes.app/Contents/MacOS/iTunesHelper.app/Contents/MacOS/iTunesHelper',\n",
       " b' 1828   ??  S      0:00.36 /System/Library/PrivateFrameworks/CommerceKit.framework/Versions/A/Resources/storeuid.app/Contents/MacOS/storeuid',\n",
       " b' 1830   ??  Ss     0:00.12 /System/Library/PrivateFrameworks/CommerceKit.framework/Versions/A/XPCServices/com.apple.CommerceKit.TransactionService.xpc/Contents/MacOS/com.apple.CommerceKit.TransactionService',\n",
       " b' 1831   ??  S      0:00.09 /System/Library/Frameworks/ApplicationServices.framework/Versions/A/Frameworks/HIServices.framework/Versions/A/XPCServices/com.apple.hiservices-xpcservice.xpc/Contents/MacOS/com.apple.hiservices-xpcservice',\n",
       " b' 1834   ??  S      0:00.05 /System/Library/PrivateFrameworks/StoreXPCServices.framework/Versions/A/XPCServices/com.apple.appstore.PluginXPCService.xpc/Contents/MacOS/com.apple.appstore.PluginXPCService',\n",
       " b' 1837   ??  Ss     1:17.66 /System/Library/PrivateFrameworks/CommerceKit.framework/Versions/A/XPCServices/com.apple.CommerceKit.TransactionService.xpc/Contents/MacOS/com.apple.CommerceKit.TransactionService',\n",
       " b' 2715   ??  Ss     0:00.10 /System/Library/PrivateFrameworks/SystemAdministration.framework/XPCServices/writeconfig.xpc/Contents/MacOS/writeconfig',\n",
       " b' 2718   ??  Ss     0:00.20 /System/Library/Frameworks/AddressBook.framework/Versions/A/XPCServices/com.apple.AddressBook.InternetAccountsBridge.xpc/Contents/MacOS/com.apple.AddressBook.InternetAccountsBridge',\n",
       " b' 2726   ??  S      0:00.31 /System/Library/PrivateFrameworks/CoreRecents.framework/Versions/A/Support/recentsd',\n",
       " b' 2727   ??  S      0:00.19 /System/Library/PrivateFrameworks/CoreRecents.framework/Versions/A/Support/recentsd',\n",
       " b' 2747   ??  S      0:00.75 /System/Library/PrivateFrameworks/CommerceKit.framework/Versions/A/Resources/storeuid.app/Contents/MacOS/storeuid',\n",
       " b' 2749   ??  S      0:10.48 /System/Library/PrivateFrameworks/CommerceKit.framework/Versions/A/Resources/storedownloadd',\n",
       " b' 2751   ??  S      0:00.05 /System/Library/PrivateFrameworks/StoreXPCServices.framework/Versions/A/XPCServices/com.apple.appstore.PluginXPCService.xpc/Contents/MacOS/com.apple.appstore.PluginXPCService',\n",
       " b' 2752   ??  Ss     0:00.09 /System/Library/PrivateFrameworks/CommerceKit.framework/Versions/A/XPCServices/com.apple.CommerceKit.TransactionService.xpc/Contents/MacOS/com.apple.CommerceKit.TransactionService',\n",
       " b' 2896   ??  S      0:00.36 /System/Library/Frameworks/InputMethodKit.framework/Resources/imklaunchagent',\n",
       " b' 3119   ??  S      3:17.92 /Applications/iTunes.app/Contents/MacOS/iTunes',\n",
       " b' 3120   ??  Ss     0:35.63 /System/Library/Frameworks/WebKit.framework/Versions/A/XPCServices/com.apple.WebKit.WebContent.xpc/Contents/MacOS/com.apple.WebKit.WebContent',\n",
       " b' 3173   ??  S      0:00.36 /System/Library/CoreServices/rcd.app/Contents/MacOS/rcd',\n",
       " b' 3228   ??  S      0:08.46 /System/Library/PrivateFrameworks/Noticeboard.framework/Versions/A/Resources/nbagent.app/Contents/MacOS/nbagent',\n",
       " b' 3229   ??  SNs    0:00.01 /usr/libexec/periodic-wrapper weekly',\n",
       " b' 3233   ??  S      1:06.69 /System/Library/PrivateFrameworks/Noticeboard.framework/Versions/A/Resources/nbagent.app/Contents/MacOS/nbagent',\n",
       " b' 3274   ??  Ss     0:00.10 /System/Library/PrivateFrameworks/Noticeboard.framework/Versions/A/Resources/nbstated',\n",
       " b' 3341   ??  Ss     1:06.53 /System/Library/CoreServices/Software Update.app/Contents/Resources/softwareupdate_download_service',\n",
       " b' 3342   ??  Ss     1:06.18 /System/Library/PrivateFrameworks/AssetCacheServices.framework/XPCServices/AssetCacheLocatorService.xpc/Contents/MacOS/AssetCacheLocatorService -d',\n",
       " b' 3343   ??  S      0:00.02 /System/Library/PrivateFrameworks/TCC.framework/Resources/tccd',\n",
       " b' 3346   ??  Ss     0:01.64 /System/Library/PrivateFrameworks/PackageKit.framework/Resources/system_installd',\n",
       " b' 3383   ??  S      0:00.11 /System/Library/PrivateFrameworks/CommerceKit.framework/Versions/A/Resources/storelegacy',\n",
       " b' 3384   ??  S      0:00.67 /System/Library/PrivateFrameworks/CommerceKit.framework/Resources/LaterAgent.app/Contents/MacOS/LaterAgent',\n",
       " b' 3391   ??  Ss     0:00.11 /System/Library/PrivateFrameworks/CommerceKit.framework/Versions/A/XPCServices/com.apple.CommerceKit.TransactionService.xpc/Contents/MacOS/com.apple.CommerceKit.TransactionService',\n",
       " b' 3476   ??  S      0:12.89 /Applications/Yandex.app/Contents/Versions/17.3.0.1896/Yandex Helper.app/Contents/MacOS/Yandex Helper --type=renderer --enable-mse-h264-support --disable-features=CredentialManagementAPI<CredentialManagerAPI --force-fieldtrials=*4dn/0/*CredentialManagerAPI/0/DataReductionTrustedSpdyProxy/1/*DeferredMediaExperiment/Enabled/DirectWriteFontProxy/UseDirectWriteFontProxy/IPCDemuxerExperiment/Enabled/JoinThreadWorkaround/1/*NewTabWebContentsCreator/1/*PDO/1/*Precache/Enabled/*PrelaunchRenderers/4/*QUIC/Disabled/*SubresourceInfoCollection/Disabled/acq/2/ad_hide/disabled/adr/0/*ant/2/azd/0/*bad/3/bda/1/*bel/0/bkrd/1/*bmrd/0/*bra/0/bup/0/*cd1/1/cmp/1/cntb/1/crd/2/*crl/0/*crp/0/db1/2/db2/1/dcvr/1/*dgr/0/*dkl/0/*dkn/1/*dks/1/*dkw/0/*dlb/1/*dnc/1/*drl/0/drp/0/eaa/2/*edc/0/*edn/1/*edt/1/ehwd/1/eif/1/*emhs/1/*epmt/0/esb/1/fbntf/0/fld/1/flt/0/*fnp/0/*foc/1/fs3/1/geo/0/*gpf/1/hdp/0/hps/1/*hrl/3/*hsh/2/hss/0/hwdx11/1/ifchk/2/inp/1/ipwd/0/*isrp/4/*mdls/1/msp/1/*mss/1/*myl/3/nbbl/1/nbi/0/nohw/1/*nse/1/*nsr/1/ntsk/1/nyatr/1/*o2/0/*ocm/1/*od/1/omg/0/opr/1/*osr/0/p1/0/p2/0/pas/0/pcm/0/pop/1/prt/1/*pwp/2/qs/e2/*raf/2/*rcm/0/*readability/0/rmnbx/0/*rr/1/*sad/1/*sbd/1/*sbi/0/sbl/0/*sbm/2/*sbu/2/*scb/1/scd/0/*scl/1/scs/0/si9/0/*sie/1/*skf/1/*smb/1/spa/1/spcu/0/spins/1/spk/1/*sxp/1/*syr/1/t1/1/*te1/8/tnw/0/*tso/1/*turbo/2/*uas/1/*urr/1/vaa/3/*vbp/0/vrb/3/vtchk/1/*vvd/0/*wpm/1/wrr/1/*wzn/1/yal/1/*ybs/0/zav/1/*zbl/2/zdd/1/*zen/1/zes/1/*zfl/1/zoa/1/zon/1/zsm/1/*zss/1/*zvt/1/ --primordial-pipe-token=F0AF6F45A5459D44F8369553AC809024 --lang=ru --user-id=5BD3B8B1-5360-4140-B7F8-6B79211E98B7 --metrics-client-id=1E2A3359-3248-4E3E-AAB9-8C0E9900CA6C --disable-client-side-phishing-detection --brand-id=yandex --help-url=https://api.browser.yandex.ru/redirect/help/ --user-agent-info --translate-security-origin=https://translate.yandex.net --enable-offline-auto-reload --enable-offline-auto-reload-visible-only --enable-instaserp --web-zen-origin=https://brozen.yandex.ru/ --enable-pinch --num-raster-threads=2 --enable-gpu-rasterization --enable-zero-copy --enable-gpu-memory-buffer-compositor-resources --enable-main-frame-before-activation --content-image-texture-target=0,0,3553;0,1,3553;0,2,3553;0,3,3553;0,4,3553;0,5,3553;0,6,3553;0,7,3553;0,8,3553;0,9,3553;0,10,34037;0,11,34037;0,12,34037;0,13,3553;0,14,3553;0,15,3553;1,0,3553;1,1,3553;1,2,3553;1,3,3553;1,4,3553;1,5,3553;1,6,3553;1,7,3553;1,8,3553;1,9,3553;1,10,34037;1,11,34037;1,12,34037;1,13,3553;1,14,3553;1,15,3553;2,0,3553;2,1,3553;2,2,3553;2,3,3553;2,4,3553;2,5,34037;2,6,3553;2,7,3553;2,8,3553;2,9,3553;2,10,3553;2,11,3553;2,12,34037;2,13,3553;2,14,34037;2,15,34037;3,0,3553;3,1,3553;3,2,3553;3,3,3553;3,4,3553;3,5,34037;3,6,3553;3,7,3553;3,8,3553;3,9,3553;3,10,3553;3,11,3553;3,12,34037;3,13,3553;3,14,34037;3,15,34037 --service-request-channel-token=F0AF6F45A5459D44F8369553AC809024 --renderer-client-id=18',\n",
       " b' 3553   ??  Ss     0:00.07 /usr/sbin/aslmanager -s /var/log/eventmonitor',\n",
       " b' 3786   ??  S      3:54.83 /Applications/Telegram.app/Contents/MacOS/Telegram',\n",
       " b' 3787   ??  Ss     0:00.03 /System/Library/Frameworks/AudioToolbox.framework/XPCServices/com.apple.audio.SandboxHelper.xpc/Contents/MacOS/com.apple.audio.SandboxHelper',\n",
       " b' 3788   ??  Ss     0:00.12 /System/Library/Frameworks/AudioToolbox.framework/XPCServices/com.apple.audio.ComponentHelper.xpc/Contents/MacOS/com.apple.audio.ComponentHelper',\n",
       " b' 3809   ??  S     66:36.68 /Applications/Slack.app/Contents/MacOS/Slack',\n",
       " b' 3810   ??  S      8:24.84 /Applications/Slack.app/Contents/Frameworks/Slack Helper.app/Contents/MacOS/Slack Helper --type=gpu-process --no-sandbox --supports-dual-gpus=false --gpu-driver-bug-workarounds=0,1,10,23,25,35,38,45,49,59,61,62,63,64,66,70,71,73,76,81,82,83,86,88,89 --gpu-vendor-id=0x8086 --gpu-device-id=0x0a26 --gpu-driver-vendor --gpu-driver-version --gpu-driver-date --gpu-active-vendor-id=0x8086 --gpu-active-device-id=0x0a26 --service-request-channel-token=3DDEDC8BC00E3B78C6DA631F05F84FF2',\n",
       " b' 3812   ??  S      0:00.08 /Applications/Slack.app/Contents/Frameworks/Electron Framework.framework/Resources/crashpad_handler --database=/Users/nesusvet/Library/Application Support/Slack/temp/Slack Crashes --metrics-dir=/Users/nesusvet/Library/Application Support/Slack/temp/Slack Crashes --url=https://slack.com/apps/breakpad --handshake-fd=44',\n",
       " b' 3813   ??  S      0:51.75 /Applications/Slack.app/Contents/Frameworks/Slack Helper.app/Contents/MacOS/Slack Helper --type=renderer --disable-pinch --no-sandbox --primordial-pipe-token=9F69483DC6FD555307515A3201706407 --lang=ru --standard-schemes=slack-resources,slack-webapp-dev --node-integration=true --preload=/Applications/Slack.app/Contents/Resources/app.asar/src/static/index.js --hidden-page --num-raster-threads=2 --enable-gpu-rasterization --enable-zero-copy --enable-gpu-memory-buffer-compositor-resources --enable-main-frame-before-activation --content-image-texture-target=0,0,3553;0,1,3553;0,2,3553;0,3,3553;0,4,3553;0,5,3553;0,6,3553;0,7,3553;0,8,3553;0,9,3553;0,10,34037;0,11,34037;0,12,34037;0,13,3553;0,14,3553;0,15,3553;1,0,3553;1,1,3553;1,2,3553;1,3,3553;1,4,3553;1,5,3553;1,6,3553;1,7,3553;1,8,3553;1,9,3553;1,10,34037;1,11,34037;1,12,34037;1,13,3553;1,14,3553;1,15,3553;2,0,3553;2,1,3553;2,2,3553;2,3,3553;2,4,3553;2,5,34037;2,6,3553;2,7,3553;2,8,3553;2,9,3553;2,10,3553;2,11,3553;2,12,34037;2,13,3553;2,14,34037;2,15,34037;3,0,3553;3,1,3553;3,2,3553;3,3,3553;3,4,3553;3,5,34037;3,6,3553;3,7,3553;3,8,3553;3,9,3553;3,10,3553;3,11,3553;3,12,34037;3,13,3553;3,14,34037;3,15,34037 --service-request-channel-token=9F69483DC6FD555307515A3201706407 --renderer-client-id=4',\n",
       " b' 3826   ??  Ss     0:00.84 /System/Library/Frameworks/VideoToolbox.framework/Versions/A/XPCServices/VTDecoderXPCService.xpc/Contents/MacOS/VTDecoderXPCService',\n",
       " b' 4187   ??  S      0:00.20 /System/Library/PrivateFrameworks/CoreCDP.framework/Versions/A/Resources/cdpd',\n",
       " b' 4188   ??  S      0:00.05 /System/Library/PrivateFrameworks/CoreFollowUp.framework/Versions/A/Support/followupd',\n",
       " b' 4364   ??  S      0:23.17 /Applications/App Store.app/Contents/MacOS/App Store',\n",
       " b' 4365   ??  Ss     0:23.87 /System/Library/Frameworks/WebKit.framework/Versions/A/XPCServices/com.apple.WebKit.WebContent.xpc/Contents/MacOS/com.apple.WebKit.WebContent',\n",
       " b' 4371   ??  Ss     0:00.13 /System/Library/Frameworks/Metal.framework/Versions/A/XPCServices/MTLCompilerService.xpc/Contents/MacOS/MTLCompilerService',\n",
       " b' 4374   ??  Ss     0:00.10 /System/Library/PrivateFrameworks/CommerceKit.framework/Versions/A/XPCServices/com.apple.CommerceKit.TransactionService.xpc/Contents/MacOS/com.apple.CommerceKit.TransactionService',\n",
       " b' 4394   ??  Ss     0:00.09 /System/Library/Frameworks/AudioToolbox.framework/XPCServices/com.apple.audio.ComponentHelper.xpc/Contents/MacOS/com.apple.audio.ComponentHelper',\n",
       " b' 4552   ??  Z      0:00.00 (bash)',\n",
       " b' 4771   ??  S      0:42.17 /Applications/Yandex.app/Contents/Versions/17.3.0.1896/Yandex Helper.app/Contents/MacOS/Yandex Helper --type=renderer --enable-mse-h264-support --disable-features=CredentialManagementAPI<CredentialManagerAPI --force-fieldtrials=*4dn/0/*CredentialManagerAPI/0/DataReductionTrustedSpdyProxy/1/*DeferredMediaExperiment/Enabled/DirectWriteFontProxy/UseDirectWriteFontProxy/IPCDemuxerExperiment/Enabled/JoinThreadWorkaround/1/*NewTabWebContentsCreator/1/*PDO/1/*Precache/Enabled/*PrelaunchRenderers/4/*QUIC/Disabled/*SubresourceInfoCollection/Disabled/acq/2/ad_hide/disabled/adr/0/*ant/2/azd/0/*bad/3/bda/1/*bel/0/bkrd/1/*bmrd/0/*bra/0/bup/0/*cd1/1/cmp/1/cntb/1/crd/2/*crl/0/*crp/0/db1/2/db2/1/dcvr/1/*dgr/0/*dkl/0/*dkn/1/*dks/1/*dkw/0/*dlb/1/*dnc/1/*drl/0/drp/0/eaa/2/*edc/0/*edn/1/*edt/1/ehwd/1/eif/1/*emhs/1/*epmt/0/esb/1/fbntf/0/fld/1/flt/0/*fnp/0/*foc/1/fs3/1/geo/0/*gpf/1/hdp/0/hps/1/*hrl/3/*hsh/2/hss/0/hwdx11/1/ifchk/2/inp/1/ipwd/0/*isrp/4/*mdls/1/msp/1/*mss/1/*myl/3/nbbl/1/nbi/0/nohw/1/*nse/1/*nsr/1/ntsk/1/nyatr/1/*o2/0/*ocm/1/*od/1/omg/0/opr/1/*osr/0/p1/0/p2/0/pas/0/pcm/0/pop/1/prt/1/*pwp/2/qs/e2/*raf/2/*rcm/0/*readability/0/rmnbx/0/*rr/1/*sad/1/*sbd/1/*sbi/0/sbl/0/*sbm/2/*sbu/2/*scb/1/scd/0/*scl/1/scs/0/si9/0/*sie/1/*skf/1/*smb/1/spa/1/spcu/0/spins/1/spk/1/*sxp/1/*syr/1/t1/1/*te1/8/tnw/0/*tso/1/*turbo/2/*uas/1/*urr/1/vaa/3/*vbp/0/vrb/3/vtchk/1/*vvd/0/*wpm/1/wrr/1/*wzn/1/yal/1/*ybs/0/zav/1/*zbl/2/zdd/1/*zen/1/zes/1/*zfl/1/zoa/1/zon/1/zsm/1/*zss/1/*zvt/1/ --primordial-pipe-token=63A6FDD4183E3CD9A459D3A2A3F33C63 --lang=ru --user-id=5BD3B8B1-5360-4140-B7F8-6B79211E98B7 --metrics-client-id=1E2A3359-3248-4E3E-AAB9-8C0E9900CA6C --disable-client-side-phishing-detection --brand-id=yandex --help-url=https://api.browser.yandex.ru/redirect/help/ --user-agent-info --translate-security-origin=https://translate.yandex.net --enable-offline-auto-reload --enable-offline-auto-reload-visible-only --enable-instaserp --web-zen-origin=https://brozen.yandex.ru/ --enable-pinch --num-raster-threads=2 --enable-gpu-rasterization --enable-zero-copy --enable-gpu-memory-buffer-compositor-resources --enable-main-frame-before-activation --content-image-texture-target=0,0,3553;0,1,3553;0,2,3553;0,3,3553;0,4,3553;0,5,3553;0,6,3553;0,7,3553;0,8,3553;0,9,3553;0,10,34037;0,11,34037;0,12,34037;0,13,3553;0,14,3553;0,15,3553;1,0,3553;1,1,3553;1,2,3553;1,3,3553;1,4,3553;1,5,3553;1,6,3553;1,7,3553;1,8,3553;1,9,3553;1,10,34037;1,11,34037;1,12,34037;1,13,3553;1,14,3553;1,15,3553;2,0,3553;2,1,3553;2,2,3553;2,3,3553;2,4,3553;2,5,34037;2,6,3553;2,7,3553;2,8,3553;2,9,3553;2,10,3553;2,11,3553;2,12,34037;2,13,3553;2,14,34037;2,15,34037;3,0,3553;3,1,3553;3,2,3553;3,3,3553;3,4,3553;3,5,34037;3,6,3553;3,7,3553;3,8,3553;3,9,3553;3,10,3553;3,11,3553;3,12,34037;3,13,3553;3,14,34037;3,15,34037 --service-request-channel-token=63A6FDD4183E3CD9A459D3A2A3F33C63 --renderer-client-id=14',\n",
       " b' 4811   ??  S      0:27.81 /Applications/Notes.app/Contents/MacOS/Notes',\n",
       " b' 5164   ??  SNs    0:00.01 /usr/libexec/periodic-wrapper monthly',\n",
       " b' 5675   ??  S      0:05.60 /System/Library/CoreServices/Dock.app/Contents/Resources/DashboardClient.app/Contents/MacOS/DashboardClient',\n",
       " b' 5680   ??  S      0:06.77 /Applications/Yandex.app/Contents/Versions/17.3.0.1896/Yandex Helper.app/Contents/MacOS/Yandex Helper --type=renderer --enable-mse-h264-support --disable-features=CredentialManagementAPI<CredentialManagerAPI --force-fieldtrials=*4dn/0/*CredentialManagerAPI/0/DataReductionTrustedSpdyProxy/1/*DeferredMediaExperiment/Enabled/DirectWriteFontProxy/UseDirectWriteFontProxy/IPCDemuxerExperiment/Enabled/JoinThreadWorkaround/1/*NewTabWebContentsCreator/1/*PDO/1/*Precache/Enabled/*PrelaunchRenderers/4/*QUIC/Disabled/*SubresourceInfoCollection/Disabled/acq/2/ad_hide/disabled/adr/0/*ant/2/azd/0/*bad/3/bda/1/*bel/0/bkrd/1/*bmrd/0/*bra/0/bup/0/*cd1/1/cmp/1/cntb/1/crd/2/*crl/0/*crp/0/db1/2/db2/1/dcvr/1/*dgr/0/*dkl/0/*dkn/1/*dks/1/*dkw/0/*dlb/1/*dnc/1/*drl/0/drp/0/eaa/2/*edc/0/*edn/1/*edt/1/ehwd/1/eif/1/*emhs/1/*epmt/0/esb/1/fbntf/0/fld/1/flt/0/*fnp/0/*foc/1/fs3/1/geo/0/*gpf/1/hdp/0/hps/1/*hrl/3/*hsh/2/hss/0/hwdx11/1/ifchk/2/inp/1/ipwd/0/*isrp/4/*mdls/1/msp/1/*mss/1/*myl/3/nbbl/1/nbi/0/nohw/1/*nse/1/*nsr/1/ntsk/1/nyatr/1/*o2/0/*ocm/1/*od/1/omg/0/opr/1/*osr/0/p1/0/p2/0/pas/0/pcm/0/pop/1/prt/1/*pwp/2/qs/e2/*raf/2/*rcm/0/*readability/0/rmnbx/0/*rr/1/*sad/1/*sbd/1/*sbi/0/sbl/0/*sbm/2/*sbu/2/*scb/1/scd/0/*scl/1/scs/0/si9/0/*sie/1/*skf/1/*smb/1/spa/1/spcu/0/spins/1/spk/1/*sxp/1/*syr/1/t1/1/*te1/8/tnw/0/*tso/1/*turbo/2/*uas/1/*urr/1/vaa/3/*vbp/0/vrb/3/vtchk/1/*vvd/0/*wpm/1/wrr/1/*wzn/1/yal/1/*ybs/0/zav/1/*zbl/2/zdd/1/*zen/1/zes/1/*zfl/1/zoa/1/zon/1/zsm/1/*zss/1/*zvt/1/ --primordial-pipe-token=95FDEBD532E2B09972A3E4D0A0E4DA8E --lang=ru --user-id=5BD3B8B1-5360-4140-B7F8-6B79211E98B7 --metrics-client-id=1E2A3359-3248-4E3E-AAB9-8C0E9900CA6C --disable-client-side-phishing-detection --brand-id=yandex --help-url=https://api.browser.yandex.ru/redirect/help/ --user-agent-info --translate-security-origin=https://translate.yandex.net --enable-offline-auto-reload --enable-offline-auto-reload-visible-only --enable-instaserp --web-zen-origin=https://brozen.yandex.ru/ --enable-pinch --num-raster-threads=2 --enable-gpu-rasterization --enable-zero-copy --enable-gpu-memory-buffer-compositor-resources --enable-main-frame-before-activation --content-image-texture-target=0,0,3553;0,1,3553;0,2,3553;0,3,3553;0,4,3553;0,5,3553;0,6,3553;0,7,3553;0,8,3553;0,9,3553;0,10,34037;0,11,34037;0,12,34037;0,13,3553;0,14,3553;0,15,3553;1,0,3553;1,1,3553;1,2,3553;1,3,3553;1,4,3553;1,5,3553;1,6,3553;1,7,3553;1,8,3553;1,9,3553;1,10,34037;1,11,34037;1,12,34037;1,13,3553;1,14,3553;1,15,3553;2,0,3553;2,1,3553;2,2,3553;2,3,3553;2,4,3553;2,5,34037;2,6,3553;2,7,3553;2,8,3553;2,9,3553;2,10,3553;2,11,3553;2,12,34037;2,13,3553;2,14,34037;2,15,34037;3,0,3553;3,1,3553;3,2,3553;3,3,3553;3,4,3553;3,5,34037;3,6,3553;3,7,3553;3,8,3553;3,9,3553;3,10,3553;3,11,3553;3,12,34037;3,13,3553;3,14,34037;3,15,34037 --service-request-channel-token=95FDEBD532E2B09972A3E4D0A0E4DA8E --renderer-client-id=536',\n",
       " b' 5880   ??  S      0:01.97 /Library/Internet Plug-Ins/JavaAppletPlugin.plugin/Contents/Resources/Java Updater.app/Contents/MacOS/Java Updater -bgcheck',\n",
       " b' 6109   ??  S      1:26.84 /Applications/Slack.app/Contents/Frameworks/Slack Helper.app/Contents/MacOS/Slack Helper --type=renderer --disable-pinch --no-sandbox --primordial-pipe-token=E60E380AF9BED8D1B89612F78A68D93A --lang=ru --standard-schemes=slack-resources,slack-webapp-dev --node-integration=false --preload=/Applications/Slack.app/Contents/Resources/app.asar/src/static/ssb-interop --guest-instance-id=3 --enable-blink-features --disable-blink-features --hidden-page --num-raster-threads=2 --enable-gpu-rasterization --enable-zero-copy --enable-gpu-memory-buffer-compositor-resources --enable-main-frame-before-activation --content-image-texture-target=0,0,3553;0,1,3553;0,2,3553;0,3,3553;0,4,3553;0,5,3553;0,6,3553;0,7,3553;0,8,3553;0,9,3553;0,10,34037;0,11,34037;0,12,34037;0,13,3553;0,14,3553;0,15,3553;1,0,3553;1,1,3553;1,2,3553;1,3,3553;1,4,3553;1,5,3553;1,6,3553;1,7,3553;1,8,3553;1,9,3553;1,10,34037;1,11,34037;1,12,34037;1,13,3553;1,14,3553;1,15,3553;2,0,3553;2,1,3553;2,2,3553;2,3,3553;2,4,3553;2,5,34037;2,6,3553;2,7,3553;2,8,3553;2,9,3553;2,10,3553;2,11,3553;2,12,34037;2,13,3553;2,14,34037;2,15,34037;3,0,3553;3,1,3553;3,2,3553;3,3,3553;3,4,3553;3,5,34037;3,6,3553;3,7,3553;3,8,3553;3,9,3553;3,10,3553;3,11,3553;3,12,34037;3,13,3553;3,14,34037;3,15,34037 --service-request-channel-token=E60E380AF9BED8D1B89612F78A68D93A --renderer-client-id=15',\n",
       " b' 6145   ??  S      1:29.72 /Applications/Slack.app/Contents/Frameworks/Slack Helper.app/Contents/MacOS/Slack Helper --type=renderer --disable-pinch --no-sandbox --primordial-pipe-token=942E92E4B49485A51301FFF12A40F134 --lang=ru --standard-schemes=slack-resources,slack-webapp-dev --node-integration=false --preload=/Applications/Slack.app/Contents/Resources/app.asar/src/static/ssb-interop --guest-instance-id=2 --enable-blink-features --disable-blink-features --hidden-page --num-raster-threads=2 --enable-gpu-rasterization --enable-zero-copy --enable-gpu-memory-buffer-compositor-resources --enable-main-frame-before-activation --content-image-texture-target=0,0,3553;0,1,3553;0,2,3553;0,3,3553;0,4,3553;0,5,3553;0,6,3553;0,7,3553;0,8,3553;0,9,3553;0,10,34037;0,11,34037;0,12,34037;0,13,3553;0,14,3553;0,15,3553;1,0,3553;1,1,3553;1,2,3553;1,3,3553;1,4,3553;1,5,3553;1,6,3553;1,7,3553;1,8,3553;1,9,3553;1,10,34037;1,11,34037;1,12,34037;1,13,3553;1,14,3553;1,15,3553;2,0,3553;2,1,3553;2,2,3553;2,3,3553;2,4,3553;2,5,34037;2,6,3553;2,7,3553;2,8,3553;2,9,3553;2,10,3553;2,11,3553;2,12,34037;2,13,3553;2,14,34037;2,15,34037;3,0,3553;3,1,3553;3,2,3553;3,3,3553;3,4,3553;3,5,34037;3,6,3553;3,7,3553;3,8,3553;3,9,3553;3,10,3553;3,11,3553;3,12,34037;3,13,3553;3,14,34037;3,15,34037 --service-request-channel-token=942E92E4B49485A51301FFF12A40F134 --renderer-client-id=16',\n",
       " b' 6150   ??  S      2:13.86 /Applications/Slack.app/Contents/Frameworks/Slack Helper.app/Contents/MacOS/Slack Helper --type=renderer --disable-pinch --no-sandbox --primordial-pipe-token=86520460A7689226D6659AD51D56325F --lang=ru --standard-schemes=slack-resources,slack-webapp-dev --node-integration=false --preload=/Applications/Slack.app/Contents/Resources/app.asar/src/static/ssb-interop --guest-instance-id=4 --enable-blink-features --disable-blink-features --hidden-page --num-raster-threads=2 --enable-gpu-rasterization --enable-zero-copy --enable-gpu-memory-buffer-compositor-resources --enable-main-frame-before-activation --content-image-texture-target=0,0,3553;0,1,3553;0,2,3553;0,3,3553;0,4,3553;0,5,3553;0,6,3553;0,7,3553;0,8,3553;0,9,3553;0,10,34037;0,11,34037;0,12,34037;0,13,3553;0,14,3553;0,15,3553;1,0,3553;1,1,3553;1,2,3553;1,3,3553;1,4,3553;1,5,3553;1,6,3553;1,7,3553;1,8,3553;1,9,3553;1,10,34037;1,11,34037;1,12,34037;1,13,3553;1,14,3553;1,15,3553;2,0,3553;2,1,3553;2,2,3553;2,3,3553;2,4,3553;2,5,34037;2,6,3553;2,7,3553;2,8,3553;2,9,3553;2,10,3553;2,11,3553;2,12,34037;2,13,3553;2,14,34037;2,15,34037;3,0,3553;3,1,3553;3,2,3553;3,3,3553;3,4,3553;3,5,34037;3,6,3553;3,7,3553;3,8,3553;3,9,3553;3,10,3553;3,11,3553;3,12,34037;3,13,3553;3,14,34037;3,15,34037 --service-request-channel-token=86520460A7689226D6659AD51D56325F --renderer-client-id=17',\n",
       " b' 6151   ??  S      4:41.34 /Applications/Slack.app/Contents/Frameworks/Slack Helper.app/Contents/MacOS/Slack Helper --type=renderer --disable-pinch --no-sandbox --primordial-pipe-token=98B67EEE3A15F09CD34EDD2CF7E4A6B0 --lang=ru --standard-schemes=slack-resources,slack-webapp-dev --node-integration=false --preload=/Applications/Slack.app/Contents/Resources/app.asar/src/static/ssb-interop --guest-instance-id=1 --enable-blink-features --disable-blink-features --hidden-page --num-raster-threads=2 --enable-gpu-rasterization --enable-zero-copy --enable-gpu-memory-buffer-compositor-resources --enable-main-frame-before-activation --content-image-texture-target=0,0,3553;0,1,3553;0,2,3553;0,3,3553;0,4,3553;0,5,3553;0,6,3553;0,7,3553;0,8,3553;0,9,3553;0,10,34037;0,11,34037;0,12,34037;0,13,3553;0,14,3553;0,15,3553;1,0,3553;1,1,3553;1,2,3553;1,3,3553;1,4,3553;1,5,3553;1,6,3553;1,7,3553;1,8,3553;1,9,3553;1,10,34037;1,11,34037;1,12,34037;1,13,3553;1,14,3553;1,15,3553;2,0,3553;2,1,3553;2,2,3553;2,3,3553;2,4,3553;2,5,34037;2,6,3553;2,7,3553;2,8,3553;2,9,3553;2,10,3553;2,11,3553;2,12,34037;2,13,3553;2,14,34037;2,15,34037;3,0,3553;3,1,3553;3,2,3553;3,3,3553;3,4,3553;3,5,34037;3,6,3553;3,7,3553;3,8,3553;3,9,3553;3,10,3553;3,11,3553;3,12,34037;3,13,3553;3,14,34037;3,15,34037 --service-request-channel-token=98B67EEE3A15F09CD34EDD2CF7E4A6B0 --renderer-client-id=18',\n",
       " b' 6451   ??  S      0:09.04 /Applications/Yandex.app/Contents/Versions/17.3.0.1896/Yandex Helper.app/Contents/MacOS/Yandex Helper --type=renderer --enable-mse-h264-support --disable-features=CredentialManagementAPI<CredentialManagerAPI --force-fieldtrials=*4dn/0/*CredentialManagerAPI/0/DataReductionTrustedSpdyProxy/1/*DeferredMediaExperiment/Enabled/DirectWriteFontProxy/UseDirectWriteFontProxy/IPCDemuxerExperiment/Enabled/JoinThreadWorkaround/1/*NewTabWebContentsCreator/1/*PDO/1/*Precache/Enabled/*PrelaunchRenderers/4/*QUIC/Disabled/*SubresourceInfoCollection/Disabled/acq/2/ad_hide/disabled/adr/0/*ant/2/azd/0/*bad/3/bda/1/*bel/0/bkrd/1/*bmrd/0/*bra/0/bup/0/*cd1/1/cmp/1/cntb/1/crd/2/*crl/0/*crp/0/db1/2/db2/1/dcvr/1/*dgr/0/*dkl/0/*dkn/1/*dks/1/*dkw/0/*dlb/1/*dnc/1/*drl/0/drp/0/eaa/2/*edc/0/*edn/1/*edt/1/ehwd/1/eif/1/*emhs/1/*epmt/0/esb/1/fbntf/0/fld/1/flt/0/*fnp/0/*foc/1/fs3/1/geo/0/*gpf/1/hdp/0/hps/1/*hrl/3/*hsh/2/hss/0/hwdx11/1/ifchk/2/inp/1/ipwd/0/*isrp/4/*mdls/1/msp/1/*mss/1/*myl/3/nbbl/1/nbi/0/nohw/1/*nse/1/*nsr/1/ntsk/1/nyatr/1/*o2/0/*ocm/1/*od/1/omg/0/opr/1/*osr/0/p1/0/p2/0/pas/0/pcm/0/pop/1/prt/1/*pwp/2/qs/e2/*raf/2/*rcm/0/*readability/0/rmnbx/0/*rr/1/*sad/1/*sbd/1/*sbi/0/sbl/0/*sbm/2/*sbu/2/*scb/1/scd/0/*scl/1/scs/0/si9/0/*sie/1/*skf/1/*smb/1/spa/1/spcu/0/spins/1/spk/1/*sxp/1/*syr/1/t1/1/*te1/8/tnw/0/*tso/1/*turbo/2/*uas/1/*urr/1/vaa/3/*vbp/0/vrb/3/vtchk/1/*vvd/0/*wpm/1/wrr/1/*wzn/1/yal/1/*ybs/0/zav/1/*zbl/2/zdd/1/*zen/1/zes/1/*zfl/1/zoa/1/zon/1/zsm/1/*zss/1/*zvt/1/ --primordial-pipe-token=4BE472EB06E7EA63646097F1259B6159 --lang=ru --user-id=5BD3B8B1-5360-4140-B7F8-6B79211E98B7 --metrics-client-id=1E2A3359-3248-4E3E-AAB9-8C0E9900CA6C --disable-client-side-phishing-detection --brand-id=yandex --help-url=https://api.browser.yandex.ru/redirect/help/ --user-agent-info --translate-security-origin=https://translate.yandex.net --enable-offline-auto-reload --enable-offline-auto-reload-visible-only --enable-instaserp --web-zen-origin=https://brozen.yandex.ru/ --enable-pinch --num-raster-threads=2 --enable-gpu-rasterization --enable-zero-copy --enable-gpu-memory-buffer-compositor-resources --enable-main-frame-before-activation --content-image-texture-target=0,0,3553;0,1,3553;0,2,3553;0,3,3553;0,4,3553;0,5,3553;0,6,3553;0,7,3553;0,8,3553;0,9,3553;0,10,34037;0,11,34037;0,12,34037;0,13,3553;0,14,3553;0,15,3553;1,0,3553;1,1,3553;1,2,3553;1,3,3553;1,4,3553;1,5,3553;1,6,3553;1,7,3553;1,8,3553;1,9,3553;1,10,34037;1,11,34037;1,12,34037;1,13,3553;1,14,3553;1,15,3553;2,0,3553;2,1,3553;2,2,3553;2,3,3553;2,4,3553;2,5,34037;2,6,3553;2,7,3553;2,8,3553;2,9,3553;2,10,3553;2,11,3553;2,12,34037;2,13,3553;2,14,34037;2,15,34037;3,0,3553;3,1,3553;3,2,3553;3,3,3553;3,4,3553;3,5,34037;3,6,3553;3,7,3553;3,8,3553;3,9,3553;3,10,3553;3,11,3553;3,12,34037;3,13,3553;3,14,34037;3,15,34037 --service-request-channel-token=4BE472EB06E7EA63646097F1259B6159 --renderer-client-id=607',\n",
       " b' 6453   ??  S      0:05.54 /Applications/Yandex.app/Contents/Versions/17.3.0.1896/Yandex Helper.app/Contents/MacOS/Yandex Helper --type=renderer --enable-mse-h264-support --disable-features=CredentialManagementAPI<CredentialManagerAPI --force-fieldtrials=*4dn/0/*CredentialManagerAPI/0/DataReductionTrustedSpdyProxy/1/*DeferredMediaExperiment/Enabled/DirectWriteFontProxy/UseDirectWriteFontProxy/IPCDemuxerExperiment/Enabled/JoinThreadWorkaround/1/*NewTabWebContentsCreator/1/*PDO/1/*Precache/Enabled/*PrelaunchRenderers/4/*QUIC/Disabled/*SubresourceInfoCollection/Disabled/acq/2/ad_hide/disabled/adr/0/*ant/2/azd/0/*bad/3/bda/1/*bel/0/bkrd/1/*bmrd/0/*bra/0/bup/0/*cd1/1/cmp/1/cntb/1/crd/2/*crl/0/*crp/0/db1/2/db2/1/dcvr/1/*dgr/0/*dkl/0/*dkn/1/*dks/1/*dkw/0/*dlb/1/*dnc/1/*drl/0/drp/0/eaa/2/*edc/0/*edn/1/*edt/1/ehwd/1/eif/1/*emhs/1/*epmt/0/esb/1/fbntf/0/fld/1/flt/0/*fnp/0/*foc/1/fs3/1/geo/0/*gpf/1/hdp/0/hps/1/*hrl/3/*hsh/2/hss/0/hwdx11/1/ifchk/2/inp/1/ipwd/0/*isrp/4/*mdls/1/msp/1/*mss/1/*myl/3/nbbl/1/nbi/0/nohw/1/*nse/1/*nsr/1/ntsk/1/nyatr/1/*o2/0/*ocm/1/*od/1/omg/0/opr/1/*osr/0/p1/0/p2/0/pas/0/pcm/0/pop/1/prt/1/*pwp/2/qs/e2/*raf/2/*rcm/0/*readability/0/rmnbx/0/*rr/1/*sad/1/*sbd/1/*sbi/0/sbl/0/*sbm/2/*sbu/2/*scb/1/scd/0/*scl/1/scs/0/si9/0/*sie/1/*skf/1/*smb/1/spa/1/spcu/0/spins/1/spk/1/*sxp/1/*syr/1/t1/1/*te1/8/tnw/0/*tso/1/*turbo/2/*uas/1/*urr/1/vaa/3/*vbp/0/vrb/3/vtchk/1/*vvd/0/*wpm/1/wrr/1/*wzn/1/yal/1/*ybs/0/zav/1/*zbl/2/zdd/1/*zen/1/zes/1/*zfl/1/zoa/1/zon/1/zsm/1/*zss/1/*zvt/1/ --primordial-pipe-token=9248887945C5CFFDA2281521FC15FEAE --lang=ru --user-id=5BD3B8B1-5360-4140-B7F8-6B79211E98B7 --metrics-client-id=1E2A3359-3248-4E3E-AAB9-8C0E9900CA6C --disable-client-side-phishing-detection --brand-id=yandex --help-url=https://api.browser.yandex.ru/redirect/help/ --user-agent-info --translate-security-origin=https://translate.yandex.net --enable-offline-auto-reload --enable-offline-auto-reload-visible-only --enable-instaserp --web-zen-origin=https://brozen.yandex.ru/ --enable-pinch --num-raster-threads=2 --enable-gpu-rasterization --enable-zero-copy --enable-gpu-memory-buffer-compositor-resources --enable-main-frame-before-activation --content-image-texture-target=0,0,3553;0,1,3553;0,2,3553;0,3,3553;0,4,3553;0,5,3553;0,6,3553;0,7,3553;0,8,3553;0,9,3553;0,10,34037;0,11,34037;0,12,34037;0,13,3553;0,14,3553;0,15,3553;1,0,3553;1,1,3553;1,2,3553;1,3,3553;1,4,3553;1,5,3553;1,6,3553;1,7,3553;1,8,3553;1,9,3553;1,10,34037;1,11,34037;1,12,34037;1,13,3553;1,14,3553;1,15,3553;2,0,3553;2,1,3553;2,2,3553;2,3,3553;2,4,3553;2,5,34037;2,6,3553;2,7,3553;2,8,3553;2,9,3553;2,10,3553;2,11,3553;2,12,34037;2,13,3553;2,14,34037;2,15,34037;3,0,3553;3,1,3553;3,2,3553;3,3,3553;3,4,3553;3,5,34037;3,6,3553;3,7,3553;3,8,3553;3,9,3553;3,10,3553;3,11,3553;3,12,34037;3,13,3553;3,14,34037;3,15,34037 --service-request-channel-token=9248887945C5CFFDA2281521FC15FEAE --renderer-client-id=608',\n",
       " b' 6585   ??  S      0:00.13 /System/Library/Image Capture/Support/icdd',\n",
       " b' 6591   ??  Ss     0:00.51 /System/Library/PrivateFrameworks/SafariShared.framework/Versions/A/XPCServices/com.apple.Safari.SearchHelper.xpc/Contents/MacOS/com.apple.Safari.SearchHelper',\n",
       " b' 6593   ??  Us     6:36.85 /System/Library/Frameworks/WebKit.framework/Versions/A/XPCServices/com.apple.WebKit.WebContent.xpc/Contents/MacOS/com.apple.WebKit.WebContent',\n",
       " b' 6594   ??  Ss     0:00.16 /System/Library/Frameworks/VideoToolbox.framework/Versions/A/XPCServices/VTDecoderXPCService.xpc/Contents/MacOS/VTDecoderXPCService',\n",
       " b' 6599   ??  Ss     0:00.31 /System/Library/Frameworks/Metal.framework/Versions/A/XPCServices/MTLCompilerService.xpc/Contents/MacOS/MTLCompilerService',\n",
       " b' 6600   ??  Ss     0:00.02 /System/Library/Frameworks/AudioToolbox.framework/XPCServices/com.apple.audio.SandboxHelper.xpc/Contents/MacOS/com.apple.audio.SandboxHelper',\n",
       " b' 6601   ??  Ss     0:00.08 /System/Library/Frameworks/AudioToolbox.framework/XPCServices/com.apple.audio.ComponentHelper.xpc/Contents/MacOS/com.apple.audio.ComponentHelper',\n",
       " b' 6605   ??  Ss     0:00.40 /System/Library/Frameworks/WebKit.framework/Versions/A/XPCServices/com.apple.WebKit.WebContent.xpc/Contents/MacOS/com.apple.WebKit.WebContent',\n",
       " b' 6606   ??  Ss    19:42.50 /System/Library/Frameworks/WebKit.framework/Versions/A/XPCServices/com.apple.WebKit.WebContent.xpc/Contents/MacOS/com.apple.WebKit.WebContent',\n",
       " b' 6607   ??  Ss     0:00.13 /System/Library/Frameworks/Metal.framework/Versions/A/XPCServices/MTLCompilerService.xpc/Contents/MacOS/MTLCompilerService',\n",
       " b' 6736   ??  S      0:06.51 /System/Library/Frameworks/CoreServices.framework/Frameworks/Metadata.framework/Versions/A/Support/mdworker -s mdworker -c MDSImporterWorker -m com.apple.mdworker.shared',\n",
       " b' 6776   ??  S      0:00.13 /System/Library/Image Capture/Support/icdd',\n",
       " b' 6786   ??  Ss     0:01.87 /System/Library/PrivateFrameworks/AmbientDisplay.framework/Versions/A/XPCServices/com.apple.AmbientDisplayAgent.xpc/Contents/MacOS/com.apple.AmbientDisplayAgent',\n",
       " b' 6807   ??  S      0:06.24 /System/Library/Frameworks/CoreServices.framework/Frameworks/Metadata.framework/Versions/A/Support/mdworker -s mdworker -c MDSImporterWorker -m com.apple.mdworker.shared',\n",
       " b' 6823   ??  S      0:00.03 /System/Library/PrivateFrameworks/HelpData.framework/Versions/A/Resources/helpd',\n",
       " b' 6875   ??  S      0:00.02 /System/Library/PrivateFrameworks/HelpData.framework/Versions/A/Resources/helpd',\n",
       " b' 7100   ??  R     12:09.79 /Applications/Yandex.app/Contents/Versions/17.3.0.1896/Yandex Helper.app/Contents/MacOS/Yandex Helper --type=renderer --enable-mse-h264-support --disable-features=CredentialManagementAPI<CredentialManagerAPI --force-fieldtrials=*4dn/0/*CredentialManagerAPI/0/DataReductionTrustedSpdyProxy/1/*DeferredMediaExperiment/Enabled/DirectWriteFontProxy/UseDirectWriteFontProxy/IPCDemuxerExperiment/Enabled/JoinThreadWorkaround/1/*NewTabWebContentsCreator/1/*PDO/1/*Precache/Enabled/*PrelaunchRenderers/4/*QUIC/Disabled/*SubresourceInfoCollection/Disabled/acq/2/ad_hide/disabled/adr/0/*ant/2/azd/0/*bad/3/bda/1/*bel/0/bkrd/1/*bmrd/0/*bra/0/bup/0/*cd1/1/cmp/1/cntb/1/crd/2/*crl/0/*crp/0/db1/2/db2/1/dcvr/1/*dgr/0/*dkl/0/*dkn/1/*dks/1/*dkw/0/*dlb/1/*dnc/1/*drl/0/drp/0/eaa/2/*edc/0/*edn/1/*edt/1/ehwd/1/eif/1/*emhs/1/*epmt/0/esb/1/fbntf/0/fld/1/flt/0/*fnp/0/*foc/1/fs3/1/geo/0/*gpf/1/hdp/0/hps/1/*hrl/3/*hsh/2/hss/0/hwdx11/1/ifchk/2/inp/1/ipwd/0/*isrp/4/*mdls/1/msp/1/*mss/1/*myl/3/nbbl/1/nbi/0/nohw/1/*nse/1/*nsr/1/ntsk/1/nyatr/1/*o2/0/*ocm/1/*od/1/omg/0/opr/1/*osr/0/p1/0/p2/0/pas/0/pcm/0/pop/1/prt/1/*pwp/2/qs/e2/*raf/2/*rcm/0/*readability/0/rmnbx/0/*rr/1/*sad/1/*sbd/1/*sbi/0/sbl/0/*sbm/2/*sbu/2/*scb/1/scd/0/*scl/1/scs/0/si9/0/*sie/1/*skf/1/*smb/1/spa/1/spcu/0/spins/1/spk/1/*sxp/1/*syr/1/t1/1/*te1/8/tnw/0/*tso/1/*turbo/2/*uas/1/*urr/1/vaa/3/*vbp/0/vrb/3/vtchk/1/*vvd/0/*wpm/1/wrr/1/*wzn/1/yal/1/*ybs/0/zav/1/*zbl/2/zdd/1/*zen/1/zes/1/*zfl/1/zoa/1/zon/1/zsm/1/*zss/1/*zvt/1/ --primordial-pipe-token=F8B583B550CAC87505D7E09536109A30 --lang=ru --user-id=5BD3B8B1-5360-4140-B7F8-6B79211E98B7 --metrics-client-id=1E2A3359-3248-4E3E-AAB9-8C0E9900CA6C --disable-client-side-phishing-detection --brand-id=yandex --help-url=https://api.browser.yandex.ru/redirect/help/ --user-agent-info --translate-security-origin=https://translate.yandex.net --enable-offline-auto-reload --enable-offline-auto-reload-visible-only --enable-instaserp --web-zen-origin=https://brozen.yandex.ru/ --enable-pinch --num-raster-threads=2 --enable-gpu-rasterization --enable-zero-copy --enable-gpu-memory-buffer-compositor-resources --enable-main-frame-before-activation --content-image-texture-target=0,0,3553;0,1,3553;0,2,3553;0,3,3553;0,4,3553;0,5,3553;0,6,3553;0,7,3553;0,8,3553;0,9,3553;0,10,34037;0,11,34037;0,12,34037;0,13,3553;0,14,3553;0,15,3553;1,0,3553;1,1,3553;1,2,3553;1,3,3553;1,4,3553;1,5,3553;1,6,3553;1,7,3553;1,8,3553;1,9,3553;1,10,34037;1,11,34037;1,12,34037;1,13,3553;1,14,3553;1,15,3553;2,0,3553;2,1,3553;2,2,3553;2,3,3553;2,4,3553;2,5,34037;2,6,3553;2,7,3553;2,8,3553;2,9,3553;2,10,3553;2,11,3553;2,12,34037;2,13,3553;2,14,34037;2,15,34037;3,0,3553;3,1,3553;3,2,3553;3,3,3553;3,4,3553;3,5,34037;3,6,3553;3,7,3553;3,8,3553;3,9,3553;3,10,3553;3,11,3553;3,12,34037;3,13,3553;3,14,34037;3,15,34037 --service-request-channel-token=F8B583B550CAC87505D7E09536109A30 --renderer-client-id=631',\n",
       " b' 7391   ??  S<     0:00.03 /Applications/Slack.app/Contents/Frameworks/Squirrel.framework/Resources/ShipIt com.tinyspeck.slackmacgap.ShipIt',\n",
       " b' 7478   ??  S      0:16.01 /Applications/Yandex.app/Contents/Versions/17.3.0.1896/Yandex Helper.app/Contents/MacOS/Yandex Helper --type=renderer --enable-mse-h264-support --disable-features=CredentialManagementAPI<CredentialManagerAPI --force-fieldtrials=*4dn/0/*CredentialManagerAPI/0/DataReductionTrustedSpdyProxy/1/*DeferredMediaExperiment/Enabled/DirectWriteFontProxy/UseDirectWriteFontProxy/IPCDemuxerExperiment/Enabled/JoinThreadWorkaround/1/*NewTabWebContentsCreator/1/*PDO/1/*Precache/Enabled/*PrelaunchRenderers/4/*QUIC/Disabled/*SubresourceInfoCollection/Disabled/acq/2/ad_hide/disabled/adr/0/*ant/2/azd/0/*bad/3/bda/1/*bel/0/bkrd/1/*bmrd/0/*bra/0/bup/0/*cd1/1/cmp/1/cntb/1/crd/2/*crl/0/*crp/0/db1/2/db2/1/dcvr/1/*dgr/0/*dkl/0/*dkn/1/*dks/1/*dkw/0/*dlb/1/*dnc/1/*drl/0/drp/0/eaa/2/*edc/0/*edn/1/*edt/1/ehwd/1/eif/1/*emhs/1/*epmt/0/esb/1/fbntf/0/fld/1/flt/0/*fnp/0/*foc/1/fs3/1/geo/0/*gpf/1/hdp/0/hps/1/*hrl/3/*hsh/2/hss/0/hwdx11/1/ifchk/2/inp/1/ipwd/0/*isrp/4/*mdls/1/msp/1/*mss/1/*myl/3/nbbl/1/nbi/0/nohw/1/*nse/1/*nsr/1/ntsk/1/nyatr/1/*o2/0/*ocm/1/*od/1/omg/0/opr/1/*osr/0/p1/0/p2/0/pas/0/pcm/0/pop/1/prt/1/*pwp/2/qs/e2/*raf/2/*rcm/0/*readability/0/rmnbx/0/*rr/1/*sad/1/*sbd/1/*sbi/0/sbl/0/*sbm/2/*sbu/2/*scb/1/scd/0/*scl/1/scs/0/si9/0/*sie/1/*skf/1/*smb/1/spa/1/spcu/0/spins/1/spk/1/*sxp/1/*syr/1/t1/1/*te1/8/tnw/0/*tso/1/*turbo/2/*uas/1/*urr/1/vaa/3/*vbp/0/vrb/3/vtchk/1/*vvd/0/*wpm/1/wrr/1/*wzn/1/yal/1/*ybs/0/zav/1/*zbl/2/zdd/1/*zen/1/zes/1/*zfl/1/zoa/1/zon/1/zsm/1/*zss/1/*zvt/1/ --primordial-pipe-token=2533961BB0E0BC2383F018FE9FEB1D86 --lang=ru --user-id=5BD3B8B1-5360-4140-B7F8-6B79211E98B7 --metrics-client-id=1E2A3359-3248-4E3E-AAB9-8C0E9900CA6C --disable-client-side-phishing-detection --brand-id=yandex --help-url=https://api.browser.yandex.ru/redirect/help/ --user-agent-info --translate-security-origin=https://translate.yandex.net --enable-offline-auto-reload --enable-offline-auto-reload-visible-only --enable-instaserp --web-zen-origin=https://brozen.yandex.ru/ --enable-pinch --num-raster-threads=2 --enable-gpu-rasterization --enable-zero-copy --enable-gpu-memory-buffer-compositor-resources --enable-main-frame-before-activation --content-image-texture-target=0,0,3553;0,1,3553;0,2,3553;0,3,3553;0,4,3553;0,5,3553;0,6,3553;0,7,3553;0,8,3553;0,9,3553;0,10,34037;0,11,34037;0,12,34037;0,13,3553;0,14,3553;0,15,3553;1,0,3553;1,1,3553;1,2,3553;1,3,3553;1,4,3553;1,5,3553;1,6,3553;1,7,3553;1,8,3553;1,9,3553;1,10,34037;1,11,34037;1,12,34037;1,13,3553;1,14,3553;1,15,3553;2,0,3553;2,1,3553;2,2,3553;2,3,3553;2,4,3553;2,5,34037;2,6,3553;2,7,3553;2,8,3553;2,9,3553;2,10,3553;2,11,3553;2,12,34037;2,13,3553;2,14,34037;2,15,34037;3,0,3553;3,1,3553;3,2,3553;3,3,3553;3,4,3553;3,5,34037;3,6,3553;3,7,3553;3,8,3553;3,9,3553;3,10,3553;3,11,3553;3,12,34037;3,13,3553;3,14,34037;3,15,34037 --service-request-channel-token=2533961BB0E0BC2383F018FE9FEB1D86 --renderer-client-id=635',\n",
       " b' 7521   ??  Ss     0:04.33 /System/Library/PrivateFrameworks/DiskImages.framework/Resources/diskimages-helper -uuid 8CB68BF6-733D-4F97-AE74-04FB1BCABF64 -post-exec 4',\n",
       " b' 7526   ??  Ss     0:00.02 /System/Library/PrivateFrameworks/DiskImages.framework/Resources/hdiejectd',\n",
       " b' 7571   ??  S      0:00.08 /System/Library/Frameworks/CoreServices.framework/Frameworks/Metadata.framework/Versions/A/Support/mdworker -s mdworker -c MDSImporterWorker -m com.apple.mdworker.shared',\n",
       " b' 7631   ??  Ss     0:00.02 /usr/libexec/applessdstatistics',\n",
       " b' 7637   ??  SNs    0:00.05 /usr/sbin/netbiosd',\n",
       " b' 7706   ??  S      0:00.35 /Applications/Yandex.app/Contents/Versions/17.3.0.1896/Yandex Helper.app/Contents/MacOS/Yandex Helper --type=renderer --enable-mse-h264-support --disable-features=CredentialManagementAPI<CredentialManagerAPI --force-fieldtrials=*4dn/0/*CredentialManagerAPI/0/DataReductionTrustedSpdyProxy/1/*DeferredMediaExperiment/Enabled/DirectWriteFontProxy/UseDirectWriteFontProxy/IPCDemuxerExperiment/Enabled/JoinThreadWorkaround/1/*NewTabWebContentsCreator/1/*PDO/1/*Precache/Enabled/*PrelaunchRenderers/4/*QUIC/Disabled/*SubresourceInfoCollection/Disabled/acq/2/ad_hide/disabled/adr/0/*ant/2/azd/0/*bad/3/bda/1/*bel/0/bkrd/1/*bmrd/0/*bra/0/bup/0/*cd1/1/cmp/1/cntb/1/crd/2/*crl/0/*crp/0/db1/2/db2/1/dcvr/1/*dgr/0/*dkl/0/*dkn/1/*dks/1/*dkw/0/*dlb/1/*dnc/1/*drl/0/drp/0/eaa/2/*edc/0/*edn/1/*edt/1/ehwd/1/eif/1/*emhs/1/*epmt/0/esb/1/fbntf/0/fld/1/flt/0/*fnp/0/*foc/1/fs3/1/geo/0/*gpf/1/hdp/0/hps/1/*hrl/3/*hsh/2/hss/0/hwdx11/1/ifchk/2/inp/1/ipwd/0/*isrp/4/*mdls/1/msp/1/*mss/1/*myl/3/nbbl/1/nbi/0/nohw/1/*nse/1/*nsr/1/ntsk/1/nyatr/1/*o2/0/*ocm/1/*od/1/omg/0/opr/1/*osr/0/p1/0/p2/0/pas/0/pcm/0/pop/1/prt/1/*pwp/2/qs/e2/*raf/2/*rcm/0/*readability/0/rmnbx/0/*rr/1/*sad/1/*sbd/1/*sbi/0/sbl/0/*sbm/2/*sbu/2/*scb/1/scd/0/*scl/1/scs/0/si9/0/*sie/1/*skf/1/*smb/1/spa/1/spcu/0/spins/1/spk/1/*sxp/1/*syr/1/t1/1/*te1/8/tnw/0/*tso/1/*turbo/2/*uas/1/*urr/1/vaa/3/*vbp/0/vrb/3/vtchk/1/*vvd/0/*wpm/1/wrr/1/*wzn/1/yal/1/*ybs/0/zav/1/*zbl/2/zdd/1/*zen/1/zes/1/*zfl/1/zoa/1/zon/1/zsm/1/*zss/1/*zvt/1/ --primordial-pipe-token=1C938630C13C0907CB68F1B215F09FEE --lang=ru --user-id=5BD3B8B1-5360-4140-B7F8-6B79211E98B7 --metrics-client-id=1E2A3359-3248-4E3E-AAB9-8C0E9900CA6C --disable-client-side-phishing-detection --brand-id=yandex --help-url=https://api.browser.yandex.ru/redirect/help/ --user-agent-info --translate-security-origin=https://translate.yandex.net --enable-offline-auto-reload --enable-offline-auto-reload-visible-only --enable-instaserp --web-zen-origin=https://brozen.yandex.ru/ --enable-pinch --num-raster-threads=2 --enable-gpu-rasterization --enable-zero-copy --enable-gpu-memory-buffer-compositor-resources --enable-main-frame-before-activation --content-image-texture-target=0,0,3553;0,1,3553;0,2,3553;0,3,3553;0,4,3553;0,5,3553;0,6,3553;0,7,3553;0,8,3553;0,9,3553;0,10,34037;0,11,34037;0,12,34037;0,13,3553;0,14,3553;0,15,3553;1,0,3553;1,1,3553;1,2,3553;1,3,3553;1,4,3553;1,5,3553;1,6,3553;1,7,3553;1,8,3553;1,9,3553;1,10,34037;1,11,34037;1,12,34037;1,13,3553;1,14,3553;1,15,3553;2,0,3553;2,1,3553;2,2,3553;2,3,3553;2,4,3553;2,5,34037;2,6,3553;2,7,3553;2,8,3553;2,9,3553;2,10,3553;2,11,3553;2,12,34037;2,13,3553;2,14,34037;2,15,34037;3,0,3553;3,1,3553;3,2,3553;3,3,3553;3,4,3553;3,5,34037;3,6,3553;3,7,3553;3,8,3553;3,9,3553;3,10,3553;3,11,3553;3,12,34037;3,13,3553;3,14,34037;3,15,34037 --service-request-channel-token=1C938630C13C0907CB68F1B215F09FEE --renderer-client-id=643',\n",
       " b' 7767   ??  Ss     0:02.87 /Users/nesusvet/dev/battery-of-the-day/venv/bin/python3.5 -m ipykernel_launcher -f /Users/nesusvet/Library/Jupyter/runtime/kernel-2c57b4a5-37c8-42b6-a059-70592cf66096.json',\n",
       " b' 7772   ??  Z      0:00.00 (true)',\n",
       " b' 7773   ??  Z      0:00.00 (ps)',\n",
       " b' 7861   ??  Z      0:00.00 (true)',\n",
       " b' 7875   ??  Ss     0:00.02 /usr/sbin/ocspd',\n",
       " b' 7890   ??  S      0:00.11 /System/Library/PrivateFrameworks/AOSKit.framework/Versions/A/XPCServices/com.apple.iCloudHelper.xpc/Contents/MacOS/com.apple.iCloudHelper',\n",
       " b' 7897   ??  Z      0:00.00 (true)',\n",
       " b' 7902   ??  S      0:00.11 /System/Library/Frameworks/CoreServices.framework/Frameworks/Metadata.framework/Versions/A/Support/mdworker -s mdworker -c MDSImporterWorker -m com.apple.mdworker.shared',\n",
       " b' 7903   ??  S      0:00.06 /System/Library/Frameworks/CoreServices.framework/Frameworks/Metadata.framework/Versions/A/Support/mdworker -s mdworker -c MDSImporterWorker -m com.apple.mdworker.shared',\n",
       " b' 7963   ??  R      0:00.00 ps ax -U nesusvet',\n",
       " b'  711 s001  Ss     0:00.05 /Applications/iTerm.app/Contents/MacOS/iTerm2 --server login -fp nesusvet',\n",
       " b'  712 s001  S      0:00.02 login -fp nesusvet',\n",
       " b'  713 s001  S      0:00.08 -zsh',\n",
       " b'  739 s001  S+     0:00.01 tmux',\n",
       " b' 2056 s002  Ss+    0:00.23 -zsh',\n",
       " b'  868 s003  Ss+    0:00.53 -zsh',\n",
       " b' 6921 s004  Ss     0:00.37 -zsh',\n",
       " b' 7374 s004  S+     0:08.98 /Users/nesusvet/dev/battery-of-the-day/venv/bin/python3.5 /Users/nesusvet/dev/battery-of-the-day/venv/bin/jupyter-notebook',\n",
       " b' 7109 s005  Ss+    0:00.85 -zsh',\n",
       " b'']"
      ]
     },
     "execution_count": 76,
     "metadata": {},
     "output_type": "execute_result"
    }
   ],
   "source": [
    "cmd = 'ps ax -U nesusvet'.split()\n",
    "sub = subprocess.Popen(cmd, stdout=subprocess.PIPE)\n",
    "out, err = sub.communicate()\n",
    "out.split(b'\\n')"
   ]
  },
  {
   "cell_type": "code",
   "execution_count": 77,
   "metadata": {},
   "outputs": [
    {
     "name": "stdout",
     "output_type": "stream",
     "text": [
      "Run command with arguments and return its output.\n",
      "\n",
      "    If the exit code was non-zero it raises a CalledProcessError.  The\n",
      "    CalledProcessError object will have the return code in the returncode\n",
      "    attribute and output in the output attribute.\n",
      "\n",
      "    The arguments are the same as for the Popen constructor.  Example:\n",
      "\n",
      "    >>> check_output([\"ls\", \"-l\", \"/dev/null\"])\n",
      "    b'crw-rw-rw- 1 root root 1, 3 Oct 18  2007 /dev/null\\n'\n",
      "\n",
      "    The stdout argument is not allowed as it is used internally.\n",
      "    To capture standard error in the result, use stderr=STDOUT.\n",
      "\n",
      "    >>> check_output([\"/bin/sh\", \"-c\",\n",
      "    ...               \"ls -l non_existent_file ; exit 0\"],\n",
      "    ...              stderr=STDOUT)\n",
      "    b'ls: non_existent_file: No such file or directory\\n'\n",
      "\n",
      "    There is an additional optional argument, \"input\", allowing you to\n",
      "    pass a string to the subprocess's stdin.  If you use this argument\n",
      "    you may not also use the Popen constructor's \"stdin\" argument, as\n",
      "    it too will be used internally.  Example:\n",
      "\n",
      "    >>> check_output([\"sed\", \"-e\", \"s/foo/bar/\"],\n",
      "    ...              input=b\"when in the course of fooman events\\n\")\n",
      "    b'when in the course of barman events\\n'\n",
      "\n",
      "    If universal_newlines=True is passed, the \"input\" argument must be a\n",
      "    string and the return value will be a string rather than bytes.\n",
      "    \n"
     ]
    }
   ],
   "source": [
    "print(subprocess.check_output.__doc__)"
   ]
  },
  {
   "cell_type": "code",
   "execution_count": null,
   "metadata": {},
   "outputs": [],
   "source": [
    "cmd = 'ps aux'.split()\n",
    "out = subprocess.check_output(cmd)  # По-проще\n",
    "out.split(b'\\n')"
   ]
  },
  {
   "cell_type": "markdown",
   "metadata": {},
   "source": [
    "# Аналог ps aux | grep python"
   ]
  },
  {
   "cell_type": "code",
   "execution_count": 3,
   "metadata": {},
   "outputs": [
    {
     "data": {
      "text/plain": [
       "[b'nesusvet          7774   0,0  0,0  2423376    268   ??  R     8:25     0:00.00 grep python',\n",
       " b'nesusvet          7767   0,0  0,5  2473712  41944   ??  Ss    8:24     0:01.10 /Users/nesusvet/dev/battery-of-the-day/venv/bin/python3.5 -m ipykernel_launcher -f /Users/nesusvet/Library/Jupyter/runtime/kernel-2c57b4a5-37c8-42b6-a059-70592cf66096.json',\n",
       " b'nesusvet          7374   0,0  0,3  2465332  29264 s004  S+    5:14     0:06.18 /Users/nesusvet/dev/battery-of-the-day/venv/bin/python3.5 /Users/nesusvet/dev/battery-of-the-day/venv/bin/jupyter-notebook',\n",
       " b'']"
      ]
     },
     "execution_count": 3,
     "metadata": {},
     "output_type": "execute_result"
    }
   ],
   "source": [
    "ps_aux = subprocess.Popen(\n",
    "    'ps aux'.split(),\n",
    "    stdout=subprocess.PIPE,\n",
    ")\n",
    "grep = subprocess.Popen(\n",
    "    'grep python'.split(),\n",
    "    stdin=ps_aux.stdout,\n",
    "    stdout=subprocess.PIPE,\n",
    ")\n",
    "out, err = grep.communicate()\n",
    "out.split(b'\\n')"
   ]
  },
  {
   "cell_type": "code",
   "execution_count": 5,
   "metadata": {},
   "outputs": [
    {
     "name": "stdout",
     "output_type": "stream",
     "text": [
      "-+= 00001 root /sbin/launchd\n",
      " \\-+= 00741 nesusvet tmux\n",
      "   \\-+= 06921 nesusvet -zsh\n",
      "     \\-+= 07374 nesusvet /Users/nesusvet/dev/battery-of-the-day/venv/bin/python3.5 /Users/nesusvet/dev/battery-of-the-day/venv/bin/jupyter-notebook\n",
      "       \\-+= 07767 nesusvet /Users/nesusvet/dev/battery-of-the-day/venv/bin/python3.5 -m ipykernel_launcher -f /Users/nesusvet/Library/Jupyter/runtime/kernel-2c57b4a5-37c8-42b6-a059-70592cf66096.json\n",
      "         |--- 07772 nesusvet (true)\n",
      "         |--- 07773 root (ps)\n",
      "         \\-+- 07775 nesusvet pstree -p 7767\n",
      "           \\--- 07776 root ps -axwwo user,pid,ppid,pgid,command\n",
      "\n"
     ]
    }
   ],
   "source": [
    "import os\n",
    "def show_tree():\n",
    "    pid = os.getpid()\n",
    "    cmd = 'pstree', '-p', str(pid)\n",
    "    text = subprocess.check_output(cmd)\n",
    "    print(text.decode('utf'))\n",
    "\n",
    "show_tree()"
   ]
  },
  {
   "cell_type": "code",
   "execution_count": null,
   "metadata": {},
   "outputs": [],
   "source": [
    "print(os.kill.__doc__)\n",
    "print(os.waitpid.__doc__)"
   ]
  },
  {
   "cell_type": "code",
   "execution_count": null,
   "metadata": {},
   "outputs": [],
   "source": [
    "os.wait()"
   ]
  },
  {
   "cell_type": "code",
   "execution_count": null,
   "metadata": {},
   "outputs": [],
   "source": [
    "show_tree()"
   ]
  },
  {
   "cell_type": "code",
   "execution_count": 53,
   "metadata": {},
   "outputs": [
    {
     "name": "stdout",
     "output_type": "stream",
     "text": [
      "Run command with arguments.  Wait for command to complete or\n",
      "    timeout, then return the returncode attribute.\n",
      "\n",
      "    The arguments are the same as for the Popen constructor.  Example:\n",
      "\n",
      "    retcode = call([\"ls\", \"-l\"])\n",
      "    \n",
      "Run with timeout\n",
      "An exception occured Command '['sleep', '5']' timed out after 3 seconds\n"
     ]
    }
   ],
   "source": [
    "print(subprocess.call.__doc__)\n",
    "try:\n",
    "    print('Run with timeout')\n",
    "    subprocess.call(['sleep', '5'], timeout=3)\n",
    "except subprocess.TimeoutExpired as ex:\n",
    "    print('An exception occured %s' % ex)"
   ]
  },
  {
   "cell_type": "code",
   "execution_count": 54,
   "metadata": {},
   "outputs": [
    {
     "name": "stdout",
     "output_type": "stream",
     "text": [
      "Run command with arguments.  Wait for command to complete.  If\n",
      "    the exit code was zero then return, otherwise raise\n",
      "    CalledProcessError.  The CalledProcessError object will have the\n",
      "    return code in the returncode attribute.\n",
      "\n",
      "    The arguments are the same as for the call function.  Example:\n",
      "\n",
      "    check_call([\"ls\", \"-l\"])\n",
      "    \n"
     ]
    },
    {
     "data": {
      "text/plain": [
       "0"
      ]
     },
     "execution_count": 54,
     "metadata": {},
     "output_type": "execute_result"
    }
   ],
   "source": [
    "print(subprocess.check_call.__doc__)\n",
    "subprocess.check_call(['which', 'python'])"
   ]
  },
  {
   "cell_type": "code",
   "execution_count": 55,
   "metadata": {},
   "outputs": [
    {
     "ename": "CalledProcessError",
     "evalue": "Command '['which', 'flynn']' returned non-zero exit status 1",
     "output_type": "error",
     "traceback": [
      "\u001b[0;31m---------------------------------------------------------------------------\u001b[0m",
      "\u001b[0;31mCalledProcessError\u001b[0m                        Traceback (most recent call last)",
      "\u001b[0;32m<ipython-input-55-e7cf77067ae6>\u001b[0m in \u001b[0;36m<module>\u001b[0;34m()\u001b[0m\n\u001b[0;32m----> 1\u001b[0;31m \u001b[0msubprocess\u001b[0m\u001b[0;34m.\u001b[0m\u001b[0mcheck_call\u001b[0m\u001b[0;34m(\u001b[0m\u001b[0;34m[\u001b[0m\u001b[0;34m'which'\u001b[0m\u001b[0;34m,\u001b[0m \u001b[0;34m'flynn'\u001b[0m\u001b[0;34m]\u001b[0m\u001b[0;34m)\u001b[0m\u001b[0;34m\u001b[0m\u001b[0m\n\u001b[0m",
      "\u001b[0;32m/usr/local/Cellar/python3/3.5.2/Frameworks/Python.framework/Versions/3.5/lib/python3.5/subprocess.py\u001b[0m in \u001b[0;36mcheck_call\u001b[0;34m(*popenargs, **kwargs)\u001b[0m\n\u001b[1;32m    579\u001b[0m         \u001b[0;32mif\u001b[0m \u001b[0mcmd\u001b[0m \u001b[0;32mis\u001b[0m \u001b[0;32mNone\u001b[0m\u001b[0;34m:\u001b[0m\u001b[0;34m\u001b[0m\u001b[0m\n\u001b[1;32m    580\u001b[0m             \u001b[0mcmd\u001b[0m \u001b[0;34m=\u001b[0m \u001b[0mpopenargs\u001b[0m\u001b[0;34m[\u001b[0m\u001b[0;36m0\u001b[0m\u001b[0;34m]\u001b[0m\u001b[0;34m\u001b[0m\u001b[0m\n\u001b[0;32m--> 581\u001b[0;31m         \u001b[0;32mraise\u001b[0m \u001b[0mCalledProcessError\u001b[0m\u001b[0;34m(\u001b[0m\u001b[0mretcode\u001b[0m\u001b[0;34m,\u001b[0m \u001b[0mcmd\u001b[0m\u001b[0;34m)\u001b[0m\u001b[0;34m\u001b[0m\u001b[0m\n\u001b[0m\u001b[1;32m    582\u001b[0m     \u001b[0;32mreturn\u001b[0m \u001b[0;36m0\u001b[0m\u001b[0;34m\u001b[0m\u001b[0m\n\u001b[1;32m    583\u001b[0m \u001b[0;34m\u001b[0m\u001b[0m\n",
      "\u001b[0;31mCalledProcessError\u001b[0m: Command '['which', 'flynn']' returned non-zero exit status 1"
     ]
    }
   ],
   "source": [
    "subprocess.check_call(['which', 'flynn'])"
   ]
  },
  {
   "cell_type": "markdown",
   "metadata": {},
   "source": [
    "# Python вызывает другой python-процесс :)"
   ]
  },
  {
   "cell_type": "code",
   "execution_count": 7,
   "metadata": {
    "collapsed": true
   },
   "outputs": [],
   "source": [
    "text = '''\n",
    "import time\n",
    "\n",
    "def main():\n",
    "    time.sleep(5)\n",
    "\n",
    "if __name__ == '__main__':\n",
    "    print('Waiting now...')\n",
    "    main()\n",
    "'''\n",
    "with open('tmp.py', 'w') as file_output:\n",
    "    file_output.write(text)"
   ]
  },
  {
   "cell_type": "code",
   "execution_count": 13,
   "metadata": {},
   "outputs": [
    {
     "name": "stdout",
     "output_type": "stream",
     "text": [
      "New born child pid = 7823\n",
      "New born child pid = 7824\n",
      "New born child pid = 7825\n",
      "New born child pid = 7826\n",
      "New born child pid = 7827\n",
      "New born child pid = 7828\n",
      "New born child pid = 7829\n",
      "New born child pid = 7830\n",
      "New born child pid = 7831\n",
      "New born child pid = 7832\n",
      "Process tree\n",
      "-+= 00001 root /sbin/launchd\n",
      " \\-+= 00741 nesusvet tmux\n",
      "   \\-+= 06921 nesusvet -zsh\n",
      "     \\-+= 07374 nesusvet /Users/nesusvet/dev/battery-of-the-day/venv/bin/python3.5 /Users/nesusvet/dev/battery-of-the-day/venv/bin/jupyter-notebook\n",
      "       \\-+= 07767 nesusvet /Users/nesusvet/dev/battery-of-the-day/venv/bin/python3.5 -m ipykernel_launcher -f /Users/nesusvet/Library/Jupyter/runtime/kernel-2c57b4a5-37c8-42b6-a059-70592cf66096.json\n",
      "         |--- 07772 nesusvet (true)\n",
      "         |--- 07773 root (ps)\n",
      "         |--- 07823 nesusvet python tmp.py\n",
      "         |--- 07824 nesusvet python tmp.py\n",
      "         |--- 07825 nesusvet python tmp.py\n",
      "         |--- 07826 nesusvet python tmp.py\n",
      "         |--- 07827 nesusvet python tmp.py\n",
      "         |--- 07828 nesusvet python tmp.py\n",
      "         |--- 07829 nesusvet python tmp.py\n",
      "         |--- 07830 nesusvet python tmp.py\n",
      "         |--- 07831 nesusvet python tmp.py\n",
      "         |--- 07832 nesusvet python tmp.py\n",
      "         \\-+- 07833 nesusvet pstree -p 7767\n",
      "           \\--- 07834 root ps -axwwo user,pid,ppid,pgid,command\n",
      "\n",
      "Waiting 10 sec\n",
      "-+= 00001 root /sbin/launchd\n",
      " \\-+= 00741 nesusvet tmux\n",
      "   \\-+= 06921 nesusvet -zsh\n",
      "     \\-+= 07374 nesusvet /Users/nesusvet/dev/battery-of-the-day/venv/bin/python3.5 /Users/nesusvet/dev/battery-of-the-day/venv/bin/jupyter-notebook\n",
      "       \\-+= 07767 nesusvet /Users/nesusvet/dev/battery-of-the-day/venv/bin/python3.5 -m ipykernel_launcher -f /Users/nesusvet/Library/Jupyter/runtime/kernel-2c57b4a5-37c8-42b6-a059-70592cf66096.json\n",
      "         |--- 07772 nesusvet (true)\n",
      "         |--- 07773 root (ps)\n",
      "         |--- 07832 nesusvet (python3.5)\n",
      "         \\-+- 07835 nesusvet pstree -p 7767\n",
      "           \\--- 07836 root ps -axwwo user,pid,ppid,pgid,command\n",
      "\n",
      "Where are my children?\n"
     ]
    }
   ],
   "source": [
    "factory = (subprocess.Popen('python tmp.py'.split()) for _ in range(10))\n",
    "for child in factory:\n",
    "    print('New born child pid = %d' % child.pid)\n",
    "\n",
    "print('Process tree')\n",
    "show_tree()\n",
    "\n",
    "print('Waiting 10 sec')\n",
    "time.sleep(10)\n",
    "\n",
    "show_tree()\n",
    "print('Where are my children?')"
   ]
  },
  {
   "cell_type": "code",
   "execution_count": 14,
   "metadata": {},
   "outputs": [
    {
     "data": {
      "text/plain": [
       "(7832, 0)"
      ]
     },
     "execution_count": 14,
     "metadata": {},
     "output_type": "execute_result"
    }
   ],
   "source": [
    "os.wait()"
   ]
  },
  {
   "cell_type": "code",
   "execution_count": 56,
   "metadata": {},
   "outputs": [
    {
     "name": "stdout",
     "output_type": "stream",
     "text": [
      "-+= 00001 root /sbin/launchd\n",
      " \\-+= 00741 nesusvet tmux\n",
      "   \\-+= 06921 nesusvet -zsh\n",
      "     \\-+= 07374 nesusvet /Users/nesusvet/dev/battery-of-the-day/venv/bin/python3.5 /Users/nesusvet/dev/battery-of-the-day/venv/bin/jupyter-notebook\n",
      "       \\-+= 07767 nesusvet /Users/nesusvet/dev/battery-of-the-day/venv/bin/python3.5 -m ipykernel_launcher -f /Users/nesusvet/Library/Jupyter/runtime/kernel-2c57b4a5-37c8-42b6-a059-70592cf66096.json\n",
      "         |--- 07772 nesusvet (true)\n",
      "         |--- 07773 root (ps)\n",
      "         |--- 07861 nesusvet (true)\n",
      "         |--- 07879 nesusvet (sleep)\n",
      "         \\-+- 07888 nesusvet pstree -p 7767\n",
      "           \\--- 07889 root ps -axwwo user,pid,ppid,pgid,command\n",
      "\n"
     ]
    }
   ],
   "source": [
    "show_tree()"
   ]
  },
  {
   "cell_type": "markdown",
   "metadata": {},
   "source": [
    "# Применение\n",
    "Я, как разработчик проекта, хочу помнить и делать как можно меньше ручных действий. Например, при изменении требований к параметрам запросов к API и изменении формата ответа, нужно регулярно обновлять документацию, что сводится к вызову `make`-задачи. Почему бы не использовать механизм хуков, существующий в `git`?"
   ]
  },
  {
   "cell_type": "code",
   "execution_count": null,
   "metadata": {
    "collapsed": true
   },
   "outputs": [],
   "source": [
    "#!/usr/bin/env python\n",
    "\n",
    "import re\n",
    "import subprocess\n",
    "\n",
    "RE_RAW_DOC = re.compile(r'\\.(json|raml)$')\n",
    "RE_COMPILED_DOC = re.compile(r'\\.(md)$')\n",
    "\n",
    "GIT_LS_FILES = 'git diff --name-only --cached'.split()\n",
    "GIT_ADD = 'git add -u'.split()\n",
    "\n",
    "REBUILD_DOCS = 'make generate_docs'.split()\n",
    "\n",
    "\n",
    "def iter_modified():\n",
    "    output = subprocess.check_output(GIT_LS_FILES).decode('utf')\n",
    "    for line in output.split('\\n'):\n",
    "        yield line\n",
    "\n",
    "\n",
    "def docs_need_rebuild():\n",
    "    for filename in iter_modified():\n",
    "        if RE_RAW_DOC.search(filename):\n",
    "            yield filename\n",
    "\n",
    "\n",
    "def docs_was_rebuilt():\n",
    "    for filename in iter_modified():\n",
    "        if RE_COMPILED_DOC.search(filename):\n",
    "            yield filename\n",
    "\n",
    "\n",
    "def main():\n",
    "    modified = list(docs_need_rebuild())\n",
    "    rebuilt_docs = list(docs_was_rebuilt())\n",
    "    if modified and not rebuilt_docs:\n",
    "        subprocess.check_call(REBUILD_DOCS)\n",
    "\n",
    "        rebuilt_docs = list(docs_was_rebuilt())\n",
    "        subprocess.check_call(GIT_ADD + rebuilt_docs)\n",
    "\n",
    "\n",
    "if __name__ == '__main__':\n",
    "    main()"
   ]
  },
  {
   "cell_type": "markdown",
   "metadata": {},
   "source": [
    "# Напоследок\n",
    "### python-3.5\n",
    "`subprocess.run() => subprocess.CompletedProcess`"
   ]
  },
  {
   "cell_type": "markdown",
   "metadata": {},
   "source": [
    "# Дальше и глубже\n",
    "- pipes\n",
    "- multiprocessing"
   ]
  }
 ],
 "metadata": {
  "kernelspec": {
   "display_name": "Python 3",
   "language": "python",
   "name": "python3"
  },
  "language_info": {
   "codemirror_mode": {
    "name": "ipython",
    "version": 3
   },
   "file_extension": ".py",
   "mimetype": "text/x-python",
   "name": "python",
   "nbconvert_exporter": "python",
   "pygments_lexer": "ipython3",
   "version": "3.5.2"
  }
 },
 "nbformat": 4,
 "nbformat_minor": 2
}
